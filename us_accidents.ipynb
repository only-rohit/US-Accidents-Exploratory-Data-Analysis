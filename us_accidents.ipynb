{
  "nbformat": 4,
  "nbformat_minor": 0,
  "metadata": {
    "kernelspec": {
      "display_name": "Python 3",
      "language": "python",
      "name": "python3"
    },
    "language_info": {
      "codemirror_mode": {
        "name": "ipython",
        "version": 3
      },
      "file_extension": ".py",
      "mimetype": "text/x-python",
      "name": "python",
      "nbconvert_exporter": "python",
      "pygments_lexer": "ipython3",
      "version": "3.7.6"
    },
    "colab": {
      "name": "us-accidents.ipynb",
      "provenance": [],
      "include_colab_link": true
    }
  },
  "cells": [
    {
      "cell_type": "markdown",
      "metadata": {
        "id": "view-in-github",
        "colab_type": "text"
      },
      "source": [
        "<a href=\"https://colab.research.google.com/github/only-rohit/US-Accidents-Exploratory-Data-Analysis/blob/main/us_accidents.ipynb\" target=\"_parent\"><img src=\"https://colab.research.google.com/assets/colab-badge.svg\" alt=\"Open In Colab\"/></a>"
      ]
    },
    {
      "cell_type": "code",
      "metadata": {
        "colab": {
          "base_uri": "https://localhost:8080/"
        },
        "id": "MLDFEYmqCiEY",
        "outputId": "4a242476-14a3-47d4-b440-95b833840401"
      },
      "source": [
        "# Jovian Commit Essentials\n",
        "# Please retain and execute this cell without modifying the contents for `jovian.commit` to work\n",
        "!pip install jovian --upgrade -q\n",
        "import jovian\n",
        "jovian.set_project('us-accidents-41a0c')\n",
        "jovian.set_colab_id('1vyTk8_JXkhMrNVH5PBvsS4LXmQyFNUZZ')"
      ],
      "execution_count": 9,
      "outputs": [
        {
          "output_type": "stream",
          "text": [
            "\u001b[?25l\r\u001b[K     |████▊                           | 10 kB 13.4 MB/s eta 0:00:01\r\u001b[K     |█████████▌                      | 20 kB 17.3 MB/s eta 0:00:01\r\u001b[K     |██████████████▎                 | 30 kB 13.1 MB/s eta 0:00:01\r\u001b[K     |███████████████████             | 40 kB 9.6 MB/s eta 0:00:01\r\u001b[K     |███████████████████████▉        | 51 kB 5.1 MB/s eta 0:00:01\r\u001b[K     |████████████████████████████▋   | 61 kB 5.8 MB/s eta 0:00:01\r\u001b[K     |████████████████████████████████| 68 kB 2.7 MB/s \n",
            "\u001b[?25h  Building wheel for uuid (setup.py) ... \u001b[?25l\u001b[?25hdone\n"
          ],
          "name": "stdout"
        }
      ]
    },
    {
      "cell_type": "markdown",
      "metadata": {
        "id": "N4nFzAbKCiEi"
      },
      "source": [
        "# US Accidents Exploratory Data Analysis\n",
        "TODO - talk about EDA\n",
        "\n",
        "TODO - talk about the dataset (source, what it contains, how it will be useful)\n",
        "\n",
        "  - Kaggle\n",
        "  - informaiton about accidents\n",
        "  - can use useful to prevent accidents"
      ]
    },
    {
      "cell_type": "code",
      "metadata": {
        "id": "rx-T_zy6Eb5_"
      },
      "source": [
        "pip install opendatasets --upgrade --quiet"
      ],
      "execution_count": 10,
      "outputs": []
    },
    {
      "cell_type": "code",
      "metadata": {
        "colab": {
          "base_uri": "https://localhost:8080/"
        },
        "id": "AQzrZoKvEb26",
        "outputId": "9f936ec9-bdbb-4098-9d82-b850f6f3d445"
      },
      "source": [
        "import opendatasets as od\n",
        "\n",
        "download_url = 'https://www.kaggle.com/sobhanmoosavi/us-accidents'\n",
        "\n",
        "od.download(download_url)"
      ],
      "execution_count": 11,
      "outputs": [
        {
          "output_type": "stream",
          "text": [
            "Skipping, found downloaded files in \"./us-accidents\" (use force=True to force download)\n"
          ],
          "name": "stdout"
        }
      ]
    },
    {
      "cell_type": "code",
      "metadata": {
        "id": "eHBlXVtEEb0R"
      },
      "source": [
        "data_filename = './us-accidents/US_Accidents_Dec20_Updated.csv'"
      ],
      "execution_count": 12,
      "outputs": []
    },
    {
      "cell_type": "markdown",
      "metadata": {
        "id": "B3zNmBLBE9q9"
      },
      "source": [
        "## Data Preparation and Cleaning\n",
        "  - Load the file using Pandas\n",
        "  - Look at some information about the data & the columns\n",
        "  - Fix any missing or incorrect values"
      ]
    },
    {
      "cell_type": "code",
      "metadata": {
        "id": "rL85kJQdEbyK"
      },
      "source": [
        "import pandas as pd"
      ],
      "execution_count": 13,
      "outputs": []
    },
    {
      "cell_type": "code",
      "metadata": {
        "id": "Ef-u1wOsEbvI"
      },
      "source": [
        "df = pd.read_csv(data_filename)"
      ],
      "execution_count": 14,
      "outputs": []
    },
    {
      "cell_type": "code",
      "metadata": {
        "colab": {
          "base_uri": "https://localhost:8080/",
          "height": 941
        },
        "id": "Q0GbLf2bEbsi",
        "outputId": "68dab6f7-e326-470b-c728-71ec7c41db03"
      },
      "source": [
        "df"
      ],
      "execution_count": 15,
      "outputs": [
        {
          "output_type": "execute_result",
          "data": {
            "text/html": [
              "<div>\n",
              "<style scoped>\n",
              "    .dataframe tbody tr th:only-of-type {\n",
              "        vertical-align: middle;\n",
              "    }\n",
              "\n",
              "    .dataframe tbody tr th {\n",
              "        vertical-align: top;\n",
              "    }\n",
              "\n",
              "    .dataframe thead th {\n",
              "        text-align: right;\n",
              "    }\n",
              "</style>\n",
              "<table border=\"1\" class=\"dataframe\">\n",
              "  <thead>\n",
              "    <tr style=\"text-align: right;\">\n",
              "      <th></th>\n",
              "      <th>ID</th>\n",
              "      <th>Severity</th>\n",
              "      <th>Start_Time</th>\n",
              "      <th>End_Time</th>\n",
              "      <th>Start_Lat</th>\n",
              "      <th>Start_Lng</th>\n",
              "      <th>End_Lat</th>\n",
              "      <th>End_Lng</th>\n",
              "      <th>Distance(mi)</th>\n",
              "      <th>Description</th>\n",
              "      <th>Number</th>\n",
              "      <th>Street</th>\n",
              "      <th>Side</th>\n",
              "      <th>City</th>\n",
              "      <th>County</th>\n",
              "      <th>State</th>\n",
              "      <th>Zipcode</th>\n",
              "      <th>Country</th>\n",
              "      <th>Timezone</th>\n",
              "      <th>Airport_Code</th>\n",
              "      <th>Weather_Timestamp</th>\n",
              "      <th>Temperature(F)</th>\n",
              "      <th>Wind_Chill(F)</th>\n",
              "      <th>Humidity(%)</th>\n",
              "      <th>Pressure(in)</th>\n",
              "      <th>Visibility(mi)</th>\n",
              "      <th>Wind_Direction</th>\n",
              "      <th>Wind_Speed(mph)</th>\n",
              "      <th>Precipitation(in)</th>\n",
              "      <th>Weather_Condition</th>\n",
              "      <th>Amenity</th>\n",
              "      <th>Bump</th>\n",
              "      <th>Crossing</th>\n",
              "      <th>Give_Way</th>\n",
              "      <th>Junction</th>\n",
              "      <th>No_Exit</th>\n",
              "      <th>Railway</th>\n",
              "      <th>Roundabout</th>\n",
              "      <th>Station</th>\n",
              "      <th>Stop</th>\n",
              "      <th>Traffic_Calming</th>\n",
              "      <th>Traffic_Signal</th>\n",
              "      <th>Turning_Loop</th>\n",
              "      <th>Sunrise_Sunset</th>\n",
              "      <th>Civil_Twilight</th>\n",
              "      <th>Nautical_Twilight</th>\n",
              "      <th>Astronomical_Twilight</th>\n",
              "    </tr>\n",
              "  </thead>\n",
              "  <tbody>\n",
              "    <tr>\n",
              "      <th>0</th>\n",
              "      <td>A-1</td>\n",
              "      <td>2</td>\n",
              "      <td>2019-05-21 08:29:55</td>\n",
              "      <td>2019-05-21 09:29:40</td>\n",
              "      <td>34.808868</td>\n",
              "      <td>-82.269157</td>\n",
              "      <td>34.808868</td>\n",
              "      <td>-82.269157</td>\n",
              "      <td>0.000</td>\n",
              "      <td>Accident on Tanner Rd at Pennbrooke Ln.</td>\n",
              "      <td>439.0</td>\n",
              "      <td>Tanner Rd</td>\n",
              "      <td>R</td>\n",
              "      <td>Greenville</td>\n",
              "      <td>Greenville</td>\n",
              "      <td>SC</td>\n",
              "      <td>29607-6027</td>\n",
              "      <td>US</td>\n",
              "      <td>US/Eastern</td>\n",
              "      <td>KGMU</td>\n",
              "      <td>2019-05-21 08:53:00</td>\n",
              "      <td>76.0</td>\n",
              "      <td>76.0</td>\n",
              "      <td>52.0</td>\n",
              "      <td>28.91</td>\n",
              "      <td>10.0</td>\n",
              "      <td>N</td>\n",
              "      <td>7.0</td>\n",
              "      <td>0.0</td>\n",
              "      <td>Fair</td>\n",
              "      <td>False</td>\n",
              "      <td>False</td>\n",
              "      <td>False</td>\n",
              "      <td>False</td>\n",
              "      <td>False</td>\n",
              "      <td>False</td>\n",
              "      <td>False</td>\n",
              "      <td>False</td>\n",
              "      <td>False</td>\n",
              "      <td>False</td>\n",
              "      <td>False</td>\n",
              "      <td>False</td>\n",
              "      <td>False</td>\n",
              "      <td>Day</td>\n",
              "      <td>Day</td>\n",
              "      <td>Day</td>\n",
              "      <td>Day</td>\n",
              "    </tr>\n",
              "    <tr>\n",
              "      <th>1</th>\n",
              "      <td>A-2</td>\n",
              "      <td>2</td>\n",
              "      <td>2019-10-07 17:43:09</td>\n",
              "      <td>2019-10-07 19:42:50</td>\n",
              "      <td>35.090080</td>\n",
              "      <td>-80.745560</td>\n",
              "      <td>35.090080</td>\n",
              "      <td>-80.745560</td>\n",
              "      <td>0.000</td>\n",
              "      <td>Accident on Houston Branch Rd at Providence Br...</td>\n",
              "      <td>3299.0</td>\n",
              "      <td>Providence Branch Ln</td>\n",
              "      <td>R</td>\n",
              "      <td>Charlotte</td>\n",
              "      <td>Mecklenburg</td>\n",
              "      <td>NC</td>\n",
              "      <td>28270-8560</td>\n",
              "      <td>US</td>\n",
              "      <td>US/Eastern</td>\n",
              "      <td>KEQY</td>\n",
              "      <td>2019-10-07 17:53:00</td>\n",
              "      <td>76.0</td>\n",
              "      <td>76.0</td>\n",
              "      <td>62.0</td>\n",
              "      <td>29.30</td>\n",
              "      <td>10.0</td>\n",
              "      <td>VAR</td>\n",
              "      <td>3.0</td>\n",
              "      <td>0.0</td>\n",
              "      <td>Cloudy</td>\n",
              "      <td>False</td>\n",
              "      <td>False</td>\n",
              "      <td>False</td>\n",
              "      <td>False</td>\n",
              "      <td>False</td>\n",
              "      <td>False</td>\n",
              "      <td>False</td>\n",
              "      <td>False</td>\n",
              "      <td>False</td>\n",
              "      <td>False</td>\n",
              "      <td>False</td>\n",
              "      <td>False</td>\n",
              "      <td>False</td>\n",
              "      <td>Day</td>\n",
              "      <td>Day</td>\n",
              "      <td>Day</td>\n",
              "      <td>Day</td>\n",
              "    </tr>\n",
              "    <tr>\n",
              "      <th>2</th>\n",
              "      <td>A-3</td>\n",
              "      <td>2</td>\n",
              "      <td>2020-12-13 21:53:00</td>\n",
              "      <td>2020-12-13 22:44:00</td>\n",
              "      <td>37.145730</td>\n",
              "      <td>-121.985052</td>\n",
              "      <td>37.165850</td>\n",
              "      <td>-121.988062</td>\n",
              "      <td>1.400</td>\n",
              "      <td>Stationary traffic on CA-17 from Summit Rd (CA...</td>\n",
              "      <td>NaN</td>\n",
              "      <td>Santa Cruz Hwy</td>\n",
              "      <td>R</td>\n",
              "      <td>Los Gatos</td>\n",
              "      <td>Santa Clara</td>\n",
              "      <td>CA</td>\n",
              "      <td>95033</td>\n",
              "      <td>US</td>\n",
              "      <td>US/Pacific</td>\n",
              "      <td>KSJC</td>\n",
              "      <td>2020-12-13 21:53:00</td>\n",
              "      <td>51.0</td>\n",
              "      <td>51.0</td>\n",
              "      <td>80.0</td>\n",
              "      <td>30.17</td>\n",
              "      <td>10.0</td>\n",
              "      <td>W</td>\n",
              "      <td>6.0</td>\n",
              "      <td>0.0</td>\n",
              "      <td>Fair</td>\n",
              "      <td>False</td>\n",
              "      <td>False</td>\n",
              "      <td>False</td>\n",
              "      <td>False</td>\n",
              "      <td>False</td>\n",
              "      <td>False</td>\n",
              "      <td>False</td>\n",
              "      <td>False</td>\n",
              "      <td>False</td>\n",
              "      <td>False</td>\n",
              "      <td>False</td>\n",
              "      <td>False</td>\n",
              "      <td>False</td>\n",
              "      <td>Night</td>\n",
              "      <td>Night</td>\n",
              "      <td>Night</td>\n",
              "      <td>Night</td>\n",
              "    </tr>\n",
              "    <tr>\n",
              "      <th>3</th>\n",
              "      <td>A-4</td>\n",
              "      <td>2</td>\n",
              "      <td>2018-04-17 16:51:23</td>\n",
              "      <td>2018-04-17 17:50:46</td>\n",
              "      <td>39.110390</td>\n",
              "      <td>-119.773781</td>\n",
              "      <td>39.110390</td>\n",
              "      <td>-119.773781</td>\n",
              "      <td>0.000</td>\n",
              "      <td>Accident on US-395 Southbound at Topsy Ln.</td>\n",
              "      <td>NaN</td>\n",
              "      <td>US Highway 395 S</td>\n",
              "      <td>R</td>\n",
              "      <td>Carson City</td>\n",
              "      <td>Douglas</td>\n",
              "      <td>NV</td>\n",
              "      <td>89705</td>\n",
              "      <td>US</td>\n",
              "      <td>US/Pacific</td>\n",
              "      <td>KCXP</td>\n",
              "      <td>2018-04-17 16:55:00</td>\n",
              "      <td>53.6</td>\n",
              "      <td>NaN</td>\n",
              "      <td>16.0</td>\n",
              "      <td>30.16</td>\n",
              "      <td>10.0</td>\n",
              "      <td>SSW</td>\n",
              "      <td>4.6</td>\n",
              "      <td>NaN</td>\n",
              "      <td>Clear</td>\n",
              "      <td>False</td>\n",
              "      <td>False</td>\n",
              "      <td>False</td>\n",
              "      <td>False</td>\n",
              "      <td>False</td>\n",
              "      <td>False</td>\n",
              "      <td>False</td>\n",
              "      <td>False</td>\n",
              "      <td>False</td>\n",
              "      <td>False</td>\n",
              "      <td>False</td>\n",
              "      <td>True</td>\n",
              "      <td>False</td>\n",
              "      <td>Day</td>\n",
              "      <td>Day</td>\n",
              "      <td>Day</td>\n",
              "      <td>Day</td>\n",
              "    </tr>\n",
              "    <tr>\n",
              "      <th>4</th>\n",
              "      <td>A-5</td>\n",
              "      <td>3</td>\n",
              "      <td>2016-08-31 17:40:49</td>\n",
              "      <td>2016-08-31 18:10:49</td>\n",
              "      <td>26.102942</td>\n",
              "      <td>-80.265091</td>\n",
              "      <td>26.102942</td>\n",
              "      <td>-80.265091</td>\n",
              "      <td>0.000</td>\n",
              "      <td>Accident on I-595 Westbound at Exit 4 / Pine I...</td>\n",
              "      <td>NaN</td>\n",
              "      <td>I-595 W</td>\n",
              "      <td>R</td>\n",
              "      <td>Fort Lauderdale</td>\n",
              "      <td>Broward</td>\n",
              "      <td>FL</td>\n",
              "      <td>33324</td>\n",
              "      <td>US</td>\n",
              "      <td>US/Eastern</td>\n",
              "      <td>KHWO</td>\n",
              "      <td>2016-08-31 17:53:00</td>\n",
              "      <td>84.2</td>\n",
              "      <td>NaN</td>\n",
              "      <td>84.0</td>\n",
              "      <td>29.92</td>\n",
              "      <td>10.0</td>\n",
              "      <td>SSE</td>\n",
              "      <td>13.8</td>\n",
              "      <td>NaN</td>\n",
              "      <td>Overcast</td>\n",
              "      <td>False</td>\n",
              "      <td>False</td>\n",
              "      <td>False</td>\n",
              "      <td>False</td>\n",
              "      <td>True</td>\n",
              "      <td>False</td>\n",
              "      <td>False</td>\n",
              "      <td>False</td>\n",
              "      <td>False</td>\n",
              "      <td>False</td>\n",
              "      <td>False</td>\n",
              "      <td>True</td>\n",
              "      <td>False</td>\n",
              "      <td>Day</td>\n",
              "      <td>Day</td>\n",
              "      <td>Day</td>\n",
              "      <td>Day</td>\n",
              "    </tr>\n",
              "    <tr>\n",
              "      <th>...</th>\n",
              "      <td>...</td>\n",
              "      <td>...</td>\n",
              "      <td>...</td>\n",
              "      <td>...</td>\n",
              "      <td>...</td>\n",
              "      <td>...</td>\n",
              "      <td>...</td>\n",
              "      <td>...</td>\n",
              "      <td>...</td>\n",
              "      <td>...</td>\n",
              "      <td>...</td>\n",
              "      <td>...</td>\n",
              "      <td>...</td>\n",
              "      <td>...</td>\n",
              "      <td>...</td>\n",
              "      <td>...</td>\n",
              "      <td>...</td>\n",
              "      <td>...</td>\n",
              "      <td>...</td>\n",
              "      <td>...</td>\n",
              "      <td>...</td>\n",
              "      <td>...</td>\n",
              "      <td>...</td>\n",
              "      <td>...</td>\n",
              "      <td>...</td>\n",
              "      <td>...</td>\n",
              "      <td>...</td>\n",
              "      <td>...</td>\n",
              "      <td>...</td>\n",
              "      <td>...</td>\n",
              "      <td>...</td>\n",
              "      <td>...</td>\n",
              "      <td>...</td>\n",
              "      <td>...</td>\n",
              "      <td>...</td>\n",
              "      <td>...</td>\n",
              "      <td>...</td>\n",
              "      <td>...</td>\n",
              "      <td>...</td>\n",
              "      <td>...</td>\n",
              "      <td>...</td>\n",
              "      <td>...</td>\n",
              "      <td>...</td>\n",
              "      <td>...</td>\n",
              "      <td>...</td>\n",
              "      <td>...</td>\n",
              "      <td>...</td>\n",
              "    </tr>\n",
              "    <tr>\n",
              "      <th>2906605</th>\n",
              "      <td>A-2906606</td>\n",
              "      <td>2</td>\n",
              "      <td>2018-06-28 08:49:01</td>\n",
              "      <td>2018-06-28 09:18:51</td>\n",
              "      <td>29.813824</td>\n",
              "      <td>-95.399437</td>\n",
              "      <td>29.813824</td>\n",
              "      <td>-95.399437</td>\n",
              "      <td>0.000</td>\n",
              "      <td>Accident on 30th St at Yale St.</td>\n",
              "      <td>3001.0</td>\n",
              "      <td>Yale St</td>\n",
              "      <td>L</td>\n",
              "      <td>Houston</td>\n",
              "      <td>Harris</td>\n",
              "      <td>TX</td>\n",
              "      <td>77018-8433</td>\n",
              "      <td>US</td>\n",
              "      <td>US/Central</td>\n",
              "      <td>KMCJ</td>\n",
              "      <td>2018-06-28 08:35:00</td>\n",
              "      <td>84.2</td>\n",
              "      <td>NaN</td>\n",
              "      <td>70.0</td>\n",
              "      <td>30.02</td>\n",
              "      <td>9.0</td>\n",
              "      <td>Variable</td>\n",
              "      <td>5.8</td>\n",
              "      <td>NaN</td>\n",
              "      <td>Clear</td>\n",
              "      <td>False</td>\n",
              "      <td>False</td>\n",
              "      <td>False</td>\n",
              "      <td>False</td>\n",
              "      <td>False</td>\n",
              "      <td>False</td>\n",
              "      <td>False</td>\n",
              "      <td>False</td>\n",
              "      <td>False</td>\n",
              "      <td>True</td>\n",
              "      <td>False</td>\n",
              "      <td>False</td>\n",
              "      <td>False</td>\n",
              "      <td>Day</td>\n",
              "      <td>Day</td>\n",
              "      <td>Day</td>\n",
              "      <td>Day</td>\n",
              "    </tr>\n",
              "    <tr>\n",
              "      <th>2906606</th>\n",
              "      <td>A-2906607</td>\n",
              "      <td>2</td>\n",
              "      <td>2019-01-10 02:01:01</td>\n",
              "      <td>2019-01-10 02:30:32</td>\n",
              "      <td>34.068890</td>\n",
              "      <td>-117.342010</td>\n",
              "      <td>34.068890</td>\n",
              "      <td>-117.342010</td>\n",
              "      <td>0.000</td>\n",
              "      <td>At Valley Blvd - Accident.</td>\n",
              "      <td>NaN</td>\n",
              "      <td>Cypress Ave</td>\n",
              "      <td>R</td>\n",
              "      <td>Colton</td>\n",
              "      <td>San Bernardino</td>\n",
              "      <td>CA</td>\n",
              "      <td>92324</td>\n",
              "      <td>US</td>\n",
              "      <td>US/Pacific</td>\n",
              "      <td>KSBD</td>\n",
              "      <td>2019-01-10 02:00:00</td>\n",
              "      <td>46.9</td>\n",
              "      <td>NaN</td>\n",
              "      <td>74.0</td>\n",
              "      <td>30.14</td>\n",
              "      <td>10.0</td>\n",
              "      <td>Calm</td>\n",
              "      <td>NaN</td>\n",
              "      <td>NaN</td>\n",
              "      <td>Clear</td>\n",
              "      <td>False</td>\n",
              "      <td>False</td>\n",
              "      <td>False</td>\n",
              "      <td>False</td>\n",
              "      <td>False</td>\n",
              "      <td>False</td>\n",
              "      <td>False</td>\n",
              "      <td>False</td>\n",
              "      <td>False</td>\n",
              "      <td>False</td>\n",
              "      <td>False</td>\n",
              "      <td>False</td>\n",
              "      <td>False</td>\n",
              "      <td>Night</td>\n",
              "      <td>Night</td>\n",
              "      <td>Night</td>\n",
              "      <td>Night</td>\n",
              "    </tr>\n",
              "    <tr>\n",
              "      <th>2906607</th>\n",
              "      <td>A-2906608</td>\n",
              "      <td>2</td>\n",
              "      <td>2020-11-23 12:52:00</td>\n",
              "      <td>2020-11-24 00:47:37</td>\n",
              "      <td>25.702200</td>\n",
              "      <td>-80.335556</td>\n",
              "      <td>25.703040</td>\n",
              "      <td>-80.334099</td>\n",
              "      <td>0.108</td>\n",
              "      <td>Stationary traffic on County Hwy-913 - FL-986 ...</td>\n",
              "      <td>8798.0</td>\n",
              "      <td>SW 72nd St</td>\n",
              "      <td>L</td>\n",
              "      <td>Miami</td>\n",
              "      <td>Miami-Dade</td>\n",
              "      <td>FL</td>\n",
              "      <td>33173-3512</td>\n",
              "      <td>US</td>\n",
              "      <td>US/Eastern</td>\n",
              "      <td>KTMB</td>\n",
              "      <td>2020-11-23 12:53:00</td>\n",
              "      <td>76.0</td>\n",
              "      <td>76.0</td>\n",
              "      <td>85.0</td>\n",
              "      <td>30.00</td>\n",
              "      <td>10.0</td>\n",
              "      <td>NNW</td>\n",
              "      <td>16.0</td>\n",
              "      <td>0.0</td>\n",
              "      <td>Mostly Cloudy</td>\n",
              "      <td>False</td>\n",
              "      <td>False</td>\n",
              "      <td>False</td>\n",
              "      <td>False</td>\n",
              "      <td>False</td>\n",
              "      <td>False</td>\n",
              "      <td>False</td>\n",
              "      <td>False</td>\n",
              "      <td>False</td>\n",
              "      <td>False</td>\n",
              "      <td>False</td>\n",
              "      <td>False</td>\n",
              "      <td>False</td>\n",
              "      <td>Day</td>\n",
              "      <td>Day</td>\n",
              "      <td>Day</td>\n",
              "      <td>Day</td>\n",
              "    </tr>\n",
              "    <tr>\n",
              "      <th>2906608</th>\n",
              "      <td>A-2906609</td>\n",
              "      <td>2</td>\n",
              "      <td>2019-12-29 22:38:00</td>\n",
              "      <td>2019-12-29 23:38:00</td>\n",
              "      <td>40.660140</td>\n",
              "      <td>-111.952460</td>\n",
              "      <td>40.660140</td>\n",
              "      <td>-111.952460</td>\n",
              "      <td>0.000</td>\n",
              "      <td>At UT-266/4700/Exit 15 - Accident.</td>\n",
              "      <td>NaN</td>\n",
              "      <td>I-215 N</td>\n",
              "      <td>R</td>\n",
              "      <td>Salt Lake City</td>\n",
              "      <td>Salt Lake</td>\n",
              "      <td>UT</td>\n",
              "      <td>84129</td>\n",
              "      <td>US</td>\n",
              "      <td>US/Mountain</td>\n",
              "      <td>KU42</td>\n",
              "      <td>2019-12-29 22:54:00</td>\n",
              "      <td>27.0</td>\n",
              "      <td>19.0</td>\n",
              "      <td>81.0</td>\n",
              "      <td>25.81</td>\n",
              "      <td>10.0</td>\n",
              "      <td>SSE</td>\n",
              "      <td>8.0</td>\n",
              "      <td>0.0</td>\n",
              "      <td>Cloudy</td>\n",
              "      <td>False</td>\n",
              "      <td>False</td>\n",
              "      <td>False</td>\n",
              "      <td>False</td>\n",
              "      <td>False</td>\n",
              "      <td>False</td>\n",
              "      <td>False</td>\n",
              "      <td>False</td>\n",
              "      <td>False</td>\n",
              "      <td>False</td>\n",
              "      <td>False</td>\n",
              "      <td>False</td>\n",
              "      <td>False</td>\n",
              "      <td>Night</td>\n",
              "      <td>Night</td>\n",
              "      <td>Night</td>\n",
              "      <td>Night</td>\n",
              "    </tr>\n",
              "    <tr>\n",
              "      <th>2906609</th>\n",
              "      <td>A-2906610</td>\n",
              "      <td>2</td>\n",
              "      <td>2018-03-26 13:35:03</td>\n",
              "      <td>2018-03-26 14:39:00</td>\n",
              "      <td>38.831749</td>\n",
              "      <td>-104.748161</td>\n",
              "      <td>38.831749</td>\n",
              "      <td>-104.748161</td>\n",
              "      <td>0.000</td>\n",
              "      <td>Accident on Murray Blvd at Byron Dr.</td>\n",
              "      <td>NaN</td>\n",
              "      <td>Byron Dr</td>\n",
              "      <td>R</td>\n",
              "      <td>Colorado Springs</td>\n",
              "      <td>El Paso</td>\n",
              "      <td>CO</td>\n",
              "      <td>80916</td>\n",
              "      <td>US</td>\n",
              "      <td>US/Mountain</td>\n",
              "      <td>KCOS</td>\n",
              "      <td>2018-03-26 13:54:00</td>\n",
              "      <td>51.1</td>\n",
              "      <td>NaN</td>\n",
              "      <td>38.0</td>\n",
              "      <td>29.77</td>\n",
              "      <td>10.0</td>\n",
              "      <td>SE</td>\n",
              "      <td>13.8</td>\n",
              "      <td>NaN</td>\n",
              "      <td>Scattered Clouds</td>\n",
              "      <td>False</td>\n",
              "      <td>False</td>\n",
              "      <td>True</td>\n",
              "      <td>False</td>\n",
              "      <td>False</td>\n",
              "      <td>False</td>\n",
              "      <td>False</td>\n",
              "      <td>False</td>\n",
              "      <td>False</td>\n",
              "      <td>False</td>\n",
              "      <td>False</td>\n",
              "      <td>True</td>\n",
              "      <td>False</td>\n",
              "      <td>Day</td>\n",
              "      <td>Day</td>\n",
              "      <td>Day</td>\n",
              "      <td>Day</td>\n",
              "    </tr>\n",
              "  </tbody>\n",
              "</table>\n",
              "<p>2906610 rows × 47 columns</p>\n",
              "</div>"
            ],
            "text/plain": [
              "                ID  Severity  ... Nautical_Twilight Astronomical_Twilight\n",
              "0              A-1         2  ...               Day                   Day\n",
              "1              A-2         2  ...               Day                   Day\n",
              "2              A-3         2  ...             Night                 Night\n",
              "3              A-4         2  ...               Day                   Day\n",
              "4              A-5         3  ...               Day                   Day\n",
              "...            ...       ...  ...               ...                   ...\n",
              "2906605  A-2906606         2  ...               Day                   Day\n",
              "2906606  A-2906607         2  ...             Night                 Night\n",
              "2906607  A-2906608         2  ...               Day                   Day\n",
              "2906608  A-2906609         2  ...             Night                 Night\n",
              "2906609  A-2906610         2  ...               Day                   Day\n",
              "\n",
              "[2906610 rows x 47 columns]"
            ]
          },
          "metadata": {
            "tags": []
          },
          "execution_count": 15
        }
      ]
    },
    {
      "cell_type": "code",
      "metadata": {
        "colab": {
          "base_uri": "https://localhost:8080/"
        },
        "id": "hbDeruiWEbqR",
        "outputId": "167e4214-b3b0-4be6-d203-0ff570ea75d3"
      },
      "source": [
        "df.info()"
      ],
      "execution_count": 16,
      "outputs": [
        {
          "output_type": "stream",
          "text": [
            "<class 'pandas.core.frame.DataFrame'>\n",
            "RangeIndex: 2906610 entries, 0 to 2906609\n",
            "Data columns (total 47 columns):\n",
            " #   Column                 Dtype  \n",
            "---  ------                 -----  \n",
            " 0   ID                     object \n",
            " 1   Severity               int64  \n",
            " 2   Start_Time             object \n",
            " 3   End_Time               object \n",
            " 4   Start_Lat              float64\n",
            " 5   Start_Lng              float64\n",
            " 6   End_Lat                float64\n",
            " 7   End_Lng                float64\n",
            " 8   Distance(mi)           float64\n",
            " 9   Description            object \n",
            " 10  Number                 float64\n",
            " 11  Street                 object \n",
            " 12  Side                   object \n",
            " 13  City                   object \n",
            " 14  County                 object \n",
            " 15  State                  object \n",
            " 16  Zipcode                object \n",
            " 17  Country                object \n",
            " 18  Timezone               object \n",
            " 19  Airport_Code           object \n",
            " 20  Weather_Timestamp      object \n",
            " 21  Temperature(F)         float64\n",
            " 22  Wind_Chill(F)          float64\n",
            " 23  Humidity(%)            float64\n",
            " 24  Pressure(in)           float64\n",
            " 25  Visibility(mi)         float64\n",
            " 26  Wind_Direction         object \n",
            " 27  Wind_Speed(mph)        float64\n",
            " 28  Precipitation(in)      float64\n",
            " 29  Weather_Condition      object \n",
            " 30  Amenity                bool   \n",
            " 31  Bump                   bool   \n",
            " 32  Crossing               bool   \n",
            " 33  Give_Way               bool   \n",
            " 34  Junction               bool   \n",
            " 35  No_Exit                bool   \n",
            " 36  Railway                bool   \n",
            " 37  Roundabout             bool   \n",
            " 38  Station                bool   \n",
            " 39  Stop                   bool   \n",
            " 40  Traffic_Calming        bool   \n",
            " 41  Traffic_Signal         bool   \n",
            " 42  Turning_Loop           bool   \n",
            " 43  Sunrise_Sunset         object \n",
            " 44  Civil_Twilight         object \n",
            " 45  Nautical_Twilight      object \n",
            " 46  Astronomical_Twilight  object \n",
            "dtypes: bool(13), float64(13), int64(1), object(20)\n",
            "memory usage: 790.0+ MB\n"
          ],
          "name": "stdout"
        }
      ]
    },
    {
      "cell_type": "code",
      "metadata": {
        "colab": {
          "base_uri": "https://localhost:8080/",
          "height": 315
        },
        "id": "14mXv6lIEbnR",
        "outputId": "a654d780-99c5-4432-c435-e2cbd941c06e"
      },
      "source": [
        "df.describe()"
      ],
      "execution_count": 17,
      "outputs": [
        {
          "output_type": "execute_result",
          "data": {
            "text/html": [
              "<div>\n",
              "<style scoped>\n",
              "    .dataframe tbody tr th:only-of-type {\n",
              "        vertical-align: middle;\n",
              "    }\n",
              "\n",
              "    .dataframe tbody tr th {\n",
              "        vertical-align: top;\n",
              "    }\n",
              "\n",
              "    .dataframe thead th {\n",
              "        text-align: right;\n",
              "    }\n",
              "</style>\n",
              "<table border=\"1\" class=\"dataframe\">\n",
              "  <thead>\n",
              "    <tr style=\"text-align: right;\">\n",
              "      <th></th>\n",
              "      <th>Severity</th>\n",
              "      <th>Start_Lat</th>\n",
              "      <th>Start_Lng</th>\n",
              "      <th>End_Lat</th>\n",
              "      <th>End_Lng</th>\n",
              "      <th>Distance(mi)</th>\n",
              "      <th>Number</th>\n",
              "      <th>Temperature(F)</th>\n",
              "      <th>Wind_Chill(F)</th>\n",
              "      <th>Humidity(%)</th>\n",
              "      <th>Pressure(in)</th>\n",
              "      <th>Visibility(mi)</th>\n",
              "      <th>Wind_Speed(mph)</th>\n",
              "      <th>Precipitation(in)</th>\n",
              "    </tr>\n",
              "  </thead>\n",
              "  <tbody>\n",
              "    <tr>\n",
              "      <th>count</th>\n",
              "      <td>2.906610e+06</td>\n",
              "      <td>2.906610e+06</td>\n",
              "      <td>2.906610e+06</td>\n",
              "      <td>2.623789e+06</td>\n",
              "      <td>2.623789e+06</td>\n",
              "      <td>2.906610e+06</td>\n",
              "      <td>1.014938e+06</td>\n",
              "      <td>2.839386e+06</td>\n",
              "      <td>1.722751e+06</td>\n",
              "      <td>2.835340e+06</td>\n",
              "      <td>2.849702e+06</td>\n",
              "      <td>2.834532e+06</td>\n",
              "      <td>2.599447e+06</td>\n",
              "      <td>1.605284e+06</td>\n",
              "    </tr>\n",
              "    <tr>\n",
              "      <th>mean</th>\n",
              "      <td>2.288649e+00</td>\n",
              "      <td>3.653027e+01</td>\n",
              "      <td>-9.642676e+01</td>\n",
              "      <td>3.651733e+01</td>\n",
              "      <td>-9.620367e+01</td>\n",
              "      <td>3.980541e-01</td>\n",
              "      <td>6.789728e+03</td>\n",
              "      <td>6.098873e+01</td>\n",
              "      <td>5.499048e+01</td>\n",
              "      <td>6.537758e+01</td>\n",
              "      <td>2.965685e+01</td>\n",
              "      <td>9.116766e+00</td>\n",
              "      <td>7.818111e+00</td>\n",
              "      <td>1.119459e-02</td>\n",
              "    </tr>\n",
              "    <tr>\n",
              "      <th>std</th>\n",
              "      <td>5.541618e-01</td>\n",
              "      <td>5.013964e+00</td>\n",
              "      <td>1.775412e+01</td>\n",
              "      <td>5.016609e+00</td>\n",
              "      <td>1.765971e+01</td>\n",
              "      <td>1.592556e+00</td>\n",
              "      <td>1.697225e+04</td>\n",
              "      <td>1.845258e+01</td>\n",
              "      <td>2.219542e+01</td>\n",
              "      <td>2.287854e+01</td>\n",
              "      <td>9.094133e-01</td>\n",
              "      <td>2.837271e+00</td>\n",
              "      <td>5.431171e+00</td>\n",
              "      <td>1.540812e-01</td>\n",
              "    </tr>\n",
              "    <tr>\n",
              "      <th>min</th>\n",
              "      <td>1.000000e+00</td>\n",
              "      <td>2.455527e+01</td>\n",
              "      <td>-1.246238e+02</td>\n",
              "      <td>2.455527e+01</td>\n",
              "      <td>-1.246238e+02</td>\n",
              "      <td>0.000000e+00</td>\n",
              "      <td>0.000000e+00</td>\n",
              "      <td>-8.900000e+01</td>\n",
              "      <td>-8.900000e+01</td>\n",
              "      <td>1.000000e+00</td>\n",
              "      <td>0.000000e+00</td>\n",
              "      <td>0.000000e+00</td>\n",
              "      <td>0.000000e+00</td>\n",
              "      <td>0.000000e+00</td>\n",
              "    </tr>\n",
              "    <tr>\n",
              "      <th>25%</th>\n",
              "      <td>2.000000e+00</td>\n",
              "      <td>3.366453e+01</td>\n",
              "      <td>-1.178232e+02</td>\n",
              "      <td>3.364659e+01</td>\n",
              "      <td>-1.177020e+02</td>\n",
              "      <td>0.000000e+00</td>\n",
              "      <td>9.650000e+02</td>\n",
              "      <td>4.890000e+01</td>\n",
              "      <td>3.900000e+01</td>\n",
              "      <td>4.900000e+01</td>\n",
              "      <td>2.959000e+01</td>\n",
              "      <td>1.000000e+01</td>\n",
              "      <td>4.600000e+00</td>\n",
              "      <td>0.000000e+00</td>\n",
              "    </tr>\n",
              "    <tr>\n",
              "      <th>50%</th>\n",
              "      <td>2.000000e+00</td>\n",
              "      <td>3.609977e+01</td>\n",
              "      <td>-9.116690e+01</td>\n",
              "      <td>3.605898e+01</td>\n",
              "      <td>-9.105163e+01</td>\n",
              "      <td>0.000000e+00</td>\n",
              "      <td>3.093000e+03</td>\n",
              "      <td>6.300000e+01</td>\n",
              "      <td>5.800000e+01</td>\n",
              "      <td>6.800000e+01</td>\n",
              "      <td>2.992000e+01</td>\n",
              "      <td>1.000000e+01</td>\n",
              "      <td>7.000000e+00</td>\n",
              "      <td>0.000000e+00</td>\n",
              "    </tr>\n",
              "    <tr>\n",
              "      <th>75%</th>\n",
              "      <td>3.000000e+00</td>\n",
              "      <td>4.037505e+01</td>\n",
              "      <td>-8.085814e+01</td>\n",
              "      <td>4.033133e+01</td>\n",
              "      <td>-8.084679e+01</td>\n",
              "      <td>2.790000e-01</td>\n",
              "      <td>7.976000e+03</td>\n",
              "      <td>7.500000e+01</td>\n",
              "      <td>7.200000e+01</td>\n",
              "      <td>8.500000e+01</td>\n",
              "      <td>3.007000e+01</td>\n",
              "      <td>1.000000e+01</td>\n",
              "      <td>1.040000e+01</td>\n",
              "      <td>0.000000e+00</td>\n",
              "    </tr>\n",
              "    <tr>\n",
              "      <th>max</th>\n",
              "      <td>4.000000e+00</td>\n",
              "      <td>4.900220e+01</td>\n",
              "      <td>-6.711317e+01</td>\n",
              "      <td>4.907500e+01</td>\n",
              "      <td>-6.710924e+01</td>\n",
              "      <td>3.336300e+02</td>\n",
              "      <td>9.999997e+06</td>\n",
              "      <td>2.030000e+02</td>\n",
              "      <td>1.740000e+02</td>\n",
              "      <td>1.000000e+02</td>\n",
              "      <td>5.804000e+01</td>\n",
              "      <td>1.400000e+02</td>\n",
              "      <td>9.840000e+02</td>\n",
              "      <td>2.400000e+01</td>\n",
              "    </tr>\n",
              "  </tbody>\n",
              "</table>\n",
              "</div>"
            ],
            "text/plain": [
              "           Severity     Start_Lat  ...  Wind_Speed(mph)  Precipitation(in)\n",
              "count  2.906610e+06  2.906610e+06  ...     2.599447e+06       1.605284e+06\n",
              "mean   2.288649e+00  3.653027e+01  ...     7.818111e+00       1.119459e-02\n",
              "std    5.541618e-01  5.013964e+00  ...     5.431171e+00       1.540812e-01\n",
              "min    1.000000e+00  2.455527e+01  ...     0.000000e+00       0.000000e+00\n",
              "25%    2.000000e+00  3.366453e+01  ...     4.600000e+00       0.000000e+00\n",
              "50%    2.000000e+00  3.609977e+01  ...     7.000000e+00       0.000000e+00\n",
              "75%    3.000000e+00  4.037505e+01  ...     1.040000e+01       0.000000e+00\n",
              "max    4.000000e+00  4.900220e+01  ...     9.840000e+02       2.400000e+01\n",
              "\n",
              "[8 rows x 14 columns]"
            ]
          },
          "metadata": {
            "tags": []
          },
          "execution_count": 17
        }
      ]
    },
    {
      "cell_type": "code",
      "metadata": {
        "colab": {
          "base_uri": "https://localhost:8080/"
        },
        "id": "IdqpzMhtEbkJ",
        "outputId": "9b6b86e1-c327-4334-91be-7792d55f03cb"
      },
      "source": [
        "numerics = ['int16', 'int32', 'int64', 'float16', 'float32', 'float64']\n",
        "\n",
        "numeric_df = df.select_dtypes(include=numerics)\n",
        "len(numeric_df.columns)"
      ],
      "execution_count": 18,
      "outputs": [
        {
          "output_type": "execute_result",
          "data": {
            "text/plain": [
              "14"
            ]
          },
          "metadata": {
            "tags": []
          },
          "execution_count": 18
        }
      ]
    },
    {
      "cell_type": "markdown",
      "metadata": {
        "id": "CL8kpqTPFjjq"
      },
      "source": [
        "### Percentage of missing values per column"
      ]
    },
    {
      "cell_type": "code",
      "metadata": {
        "colab": {
          "base_uri": "https://localhost:8080/"
        },
        "id": "CFFc6nb0EbYk",
        "outputId": "1a56afaa-2f8f-4b2c-b2c9-099aea016fdb"
      },
      "source": [
        "missing_percentages = df.isna().sum().sort_values(ascending=False) / len(df)\n",
        "missing_percentages"
      ],
      "execution_count": 19,
      "outputs": [
        {
          "output_type": "execute_result",
          "data": {
            "text/plain": [
              "Number                   0.650817\n",
              "Precipitation(in)        0.447713\n",
              "Wind_Chill(F)            0.407299\n",
              "Wind_Speed(mph)          0.105677\n",
              "End_Lat                  0.097303\n",
              "End_Lng                  0.097303\n",
              "Visibility(mi)           0.024798\n",
              "Weather_Condition        0.024720\n",
              "Humidity(%)              0.024520\n",
              "Temperature(F)           0.023128\n",
              "Wind_Direction           0.021838\n",
              "Pressure(in)             0.019579\n",
              "Weather_Timestamp        0.016141\n",
              "Airport_Code             0.002273\n",
              "Timezone                 0.001180\n",
              "Zipcode                  0.000383\n",
              "Nautical_Twilight        0.000038\n",
              "Astronomical_Twilight    0.000038\n",
              "Civil_Twilight           0.000038\n",
              "Sunrise_Sunset           0.000038\n",
              "City                     0.000037\n",
              "Amenity                  0.000000\n",
              "Severity                 0.000000\n",
              "Start_Time               0.000000\n",
              "End_Time                 0.000000\n",
              "Start_Lat                0.000000\n",
              "Start_Lng                0.000000\n",
              "Distance(mi)             0.000000\n",
              "Description              0.000000\n",
              "Turning_Loop             0.000000\n",
              "Street                   0.000000\n",
              "Side                     0.000000\n",
              "County                   0.000000\n",
              "Bump                     0.000000\n",
              "State                    0.000000\n",
              "Traffic_Signal           0.000000\n",
              "Country                  0.000000\n",
              "Traffic_Calming          0.000000\n",
              "Stop                     0.000000\n",
              "Station                  0.000000\n",
              "Roundabout               0.000000\n",
              "Railway                  0.000000\n",
              "No_Exit                  0.000000\n",
              "Junction                 0.000000\n",
              "Give_Way                 0.000000\n",
              "Crossing                 0.000000\n",
              "ID                       0.000000\n",
              "dtype: float64"
            ]
          },
          "metadata": {
            "tags": []
          },
          "execution_count": 19
        }
      ]
    },
    {
      "cell_type": "code",
      "metadata": {
        "colab": {
          "base_uri": "https://localhost:8080/"
        },
        "id": "_1vKsa5iEbRZ",
        "outputId": "c62897e3-7e9d-4ebd-bb00-f0ef32025433"
      },
      "source": [
        "type(missing_percentages)"
      ],
      "execution_count": 20,
      "outputs": [
        {
          "output_type": "execute_result",
          "data": {
            "text/plain": [
              "pandas.core.series.Series"
            ]
          },
          "metadata": {
            "tags": []
          },
          "execution_count": 20
        }
      ]
    },
    {
      "cell_type": "code",
      "metadata": {
        "colab": {
          "base_uri": "https://localhost:8080/",
          "height": 282
        },
        "id": "Jm92hqf-EbOZ",
        "outputId": "2de9c3ee-9a9e-4dbd-9976-7b441257bb41"
      },
      "source": [
        "missing_percentages[missing_percentages != 0].plot(kind='barh')"
      ],
      "execution_count": 21,
      "outputs": [
        {
          "output_type": "execute_result",
          "data": {
            "text/plain": [
              "<matplotlib.axes._subplots.AxesSubplot at 0x7f7e2176e750>"
            ]
          },
          "metadata": {
            "tags": []
          },
          "execution_count": 21
        },
        {
          "output_type": "display_data",
          "data": {
            "image/png": "[encoded data removed]",
            "text/plain": [
              "<Figure size 432x288 with 1 Axes>"
            ]
          },
          "metadata": {
            "tags": [],
            "needs_background": "light"
          }
        }
      ]
    },
    {
      "cell_type": "markdown",
      "metadata": {
        "id": "g3_U093WFyMl"
      },
      "source": [
        "## Exploratory Analysis and Visualization\n",
        "Columns analyzed:\n",
        "\n",
        "  - City\n",
        "  - Start Time\n",
        "  - Start Lat, Start Lng\n",
        "  - Temperature\n",
        "  - Weather Condition"
      ]
    },
    {
      "cell_type": "code",
      "metadata": {
        "colab": {
          "base_uri": "https://localhost:8080/"
        },
        "id": "9Ow9VwZFEbLj",
        "outputId": "fe3652a9-a5bd-4056-c442-ae8c2cd762e8"
      },
      "source": [
        "df.columns"
      ],
      "execution_count": 22,
      "outputs": [
        {
          "output_type": "execute_result",
          "data": {
            "text/plain": [
              "Index(['ID', 'Severity', 'Start_Time', 'End_Time', 'Start_Lat', 'Start_Lng',\n",
              "       'End_Lat', 'End_Lng', 'Distance(mi)', 'Description', 'Number', 'Street',\n",
              "       'Side', 'City', 'County', 'State', 'Zipcode', 'Country', 'Timezone',\n",
              "       'Airport_Code', 'Weather_Timestamp', 'Temperature(F)', 'Wind_Chill(F)',\n",
              "       'Humidity(%)', 'Pressure(in)', 'Visibility(mi)', 'Wind_Direction',\n",
              "       'Wind_Speed(mph)', 'Precipitation(in)', 'Weather_Condition', 'Amenity',\n",
              "       'Bump', 'Crossing', 'Give_Way', 'Junction', 'No_Exit', 'Railway',\n",
              "       'Roundabout', 'Station', 'Stop', 'Traffic_Calming', 'Traffic_Signal',\n",
              "       'Turning_Loop', 'Sunrise_Sunset', 'Civil_Twilight', 'Nautical_Twilight',\n",
              "       'Astronomical_Twilight'],\n",
              "      dtype='object')"
            ]
          },
          "metadata": {
            "tags": []
          },
          "execution_count": 22
        }
      ]
    },
    {
      "cell_type": "markdown",
      "metadata": {
        "id": "aQuts0JdF_ua"
      },
      "source": [
        "### City"
      ]
    },
    {
      "cell_type": "code",
      "metadata": {
        "colab": {
          "base_uri": "https://localhost:8080/"
        },
        "id": "YuDbDz5yEbBS",
        "outputId": "cee73591-23c2-4aa6-c8c6-5d7598fd7d58"
      },
      "source": [
        "df.City"
      ],
      "execution_count": 23,
      "outputs": [
        {
          "output_type": "execute_result",
          "data": {
            "text/plain": [
              "0                Greenville\n",
              "1                 Charlotte\n",
              "2                 Los Gatos\n",
              "3               Carson City\n",
              "4           Fort Lauderdale\n",
              "                 ...       \n",
              "2906605             Houston\n",
              "2906606              Colton\n",
              "2906607               Miami\n",
              "2906608      Salt Lake City\n",
              "2906609    Colorado Springs\n",
              "Name: City, Length: 2906610, dtype: object"
            ]
          },
          "metadata": {
            "tags": []
          },
          "execution_count": 23
        }
      ]
    },
    {
      "cell_type": "code",
      "metadata": {
        "colab": {
          "base_uri": "https://localhost:8080/"
        },
        "id": "eZE6TVUVGDDc",
        "outputId": "813f8087-f479-4439-c424-ca084e977d64"
      },
      "source": [
        "cities = df.City.unique()\n",
        "len(cities)"
      ],
      "execution_count": 24,
      "outputs": [
        {
          "output_type": "execute_result",
          "data": {
            "text/plain": [
              "11790"
            ]
          },
          "metadata": {
            "tags": []
          },
          "execution_count": 24
        }
      ]
    },
    {
      "cell_type": "code",
      "metadata": {
        "colab": {
          "base_uri": "https://localhost:8080/"
        },
        "id": "V4A4WCTAGDBN",
        "outputId": "bb7dccde-6a65-4db2-d953-71a6edbde65a"
      },
      "source": [
        "cities_by_accident = df.City.value_counts()\n",
        "cities_by_accident"
      ],
      "execution_count": 25,
      "outputs": [
        {
          "output_type": "execute_result",
          "data": {
            "text/plain": [
              "Los Angeles    68411\n",
              "Houston        68265\n",
              "Charlotte      56176\n",
              "Miami          49965\n",
              "Dallas         48525\n",
              "               ...  \n",
              "McAlister          1\n",
              "Broadbent          1\n",
              "Rarden             1\n",
              "Star Lake          1\n",
              "Minong             1\n",
              "Name: City, Length: 11789, dtype: int64"
            ]
          },
          "metadata": {
            "tags": []
          },
          "execution_count": 25
        }
      ]
    },
    {
      "cell_type": "code",
      "metadata": {
        "colab": {
          "base_uri": "https://localhost:8080/"
        },
        "id": "yg6L8DAuGC_H",
        "outputId": "29d779a3-c84e-44f9-a8a4-3f95f52ba82f"
      },
      "source": [
        "cities_by_accident[:20]"
      ],
      "execution_count": 26,
      "outputs": [
        {
          "output_type": "execute_result",
          "data": {
            "text/plain": [
              "Los Angeles      68411\n",
              "Houston          68265\n",
              "Charlotte        56176\n",
              "Miami            49965\n",
              "Dallas           48525\n",
              "Austin           38808\n",
              "Raleigh          31355\n",
              "Atlanta          29244\n",
              "Sacramento       28984\n",
              "Orlando          28092\n",
              "Nashville        25277\n",
              "Baton Rouge      25080\n",
              "Minneapolis      22469\n",
              "San Diego        22329\n",
              "Phoenix          21370\n",
              "Oklahoma City    21292\n",
              "Portland         19432\n",
              "Richmond         18343\n",
              "Seattle          17384\n",
              "Saint Paul       17266\n",
              "Name: City, dtype: int64"
            ]
          },
          "metadata": {
            "tags": []
          },
          "execution_count": 26
        }
      ]
    },
    {
      "cell_type": "code",
      "metadata": {
        "colab": {
          "base_uri": "https://localhost:8080/"
        },
        "id": "u8EsHSA2GC8u",
        "outputId": "247e527e-4ee9-4a7c-a794-54942148e111"
      },
      "source": [
        "type(cities_by_accident)"
      ],
      "execution_count": 27,
      "outputs": [
        {
          "output_type": "execute_result",
          "data": {
            "text/plain": [
              "pandas.core.series.Series"
            ]
          },
          "metadata": {
            "tags": []
          },
          "execution_count": 27
        }
      ]
    },
    {
      "cell_type": "code",
      "metadata": {
        "colab": {
          "base_uri": "https://localhost:8080/",
          "height": 282
        },
        "id": "r1Y45PPhGC6T",
        "outputId": "aa6e639d-869d-460e-e7a6-5e53f07d48a5"
      },
      "source": [
        "cities_by_accident[:20].plot(kind='barh')"
      ],
      "execution_count": 28,
      "outputs": [
        {
          "output_type": "execute_result",
          "data": {
            "text/plain": [
              "<matplotlib.axes._subplots.AxesSubplot at 0x7f7e21212690>"
            ]
          },
          "metadata": {
            "tags": []
          },
          "execution_count": 28
        },
        {
          "output_type": "display_data",
          "data": {
            "image/png": "[encoded data removed]",
            "text/plain": [
              "<Figure size 432x288 with 1 Axes>"
            ]
          },
          "metadata": {
            "tags": [],
            "needs_background": "light"
          }
        }
      ]
    },
    {
      "cell_type": "code",
      "metadata": {
        "id": "W6QXRiwhGC3k"
      },
      "source": [
        "import seaborn as sns\n",
        "sns.set_style(\"darkgrid\")"
      ],
      "execution_count": 29,
      "outputs": []
    },
    {
      "cell_type": "code",
      "metadata": {
        "colab": {
          "base_uri": "https://localhost:8080/",
          "height": 300
        },
        "id": "IeQ-6rohGC1G",
        "outputId": "ad789b1a-140b-4039-dfc0-41e48acc40ab"
      },
      "source": [
        "sns.histplot(cities_by_accident, log_scale=True)"
      ],
      "execution_count": 30,
      "outputs": [
        {
          "output_type": "execute_result",
          "data": {
            "text/plain": [
              "<matplotlib.axes._subplots.AxesSubplot at 0x7f7e12fd1190>"
            ]
          },
          "metadata": {
            "tags": []
          },
          "execution_count": 30
        },
        {
          "output_type": "display_data",
          "data": {
            "image/png": "[encoded data removed]",
            "text/plain": [
              "<Figure size 432x288 with 1 Axes>"
            ]
          },
          "metadata": {
            "tags": []
          }
        }
      ]
    },
    {
      "cell_type": "code",
      "metadata": {
        "colab": {
          "base_uri": "https://localhost:8080/"
        },
        "id": "gF-tHclXGCyq",
        "outputId": "74564fd8-ced3-4b35-93b0-4a63d295bed8"
      },
      "source": [
        "cities_by_accident[cities_by_accident == 1]"
      ],
      "execution_count": 31,
      "outputs": [
        {
          "output_type": "execute_result",
          "data": {
            "text/plain": [
              "Pipe Creek    1\n",
              "Gully         1\n",
              "Aspinwall     1\n",
              "Estancia      1\n",
              "Shaftsbury    1\n",
              "             ..\n",
              "McAlister     1\n",
              "Broadbent     1\n",
              "Rarden        1\n",
              "Star Lake     1\n",
              "Minong        1\n",
              "Name: City, Length: 1306, dtype: int64"
            ]
          },
          "metadata": {
            "tags": []
          },
          "execution_count": 31
        }
      ]
    },
    {
      "cell_type": "markdown",
      "metadata": {
        "id": "QThBqm-pX-vi"
      },
      "source": [
        "### Start Time"
      ]
    },
    {
      "cell_type": "code",
      "metadata": {
        "colab": {
          "base_uri": "https://localhost:8080/"
        },
        "id": "KJZNmMY6JWxi",
        "outputId": "bf64537d-6e3a-4b9a-cbb8-290fae80723d"
      },
      "source": [
        "df.Start_Time"
      ],
      "execution_count": 32,
      "outputs": [
        {
          "output_type": "execute_result",
          "data": {
            "text/plain": [
              "0          2019-05-21 08:29:55\n",
              "1          2019-10-07 17:43:09\n",
              "2          2020-12-13 21:53:00\n",
              "3          2018-04-17 16:51:23\n",
              "4          2016-08-31 17:40:49\n",
              "                  ...         \n",
              "2906605    2018-06-28 08:49:01\n",
              "2906606    2019-01-10 02:01:01\n",
              "2906607    2020-11-23 12:52:00\n",
              "2906608    2019-12-29 22:38:00\n",
              "2906609    2018-03-26 13:35:03\n",
              "Name: Start_Time, Length: 2906610, dtype: object"
            ]
          },
          "metadata": {
            "tags": []
          },
          "execution_count": 32
        }
      ]
    },
    {
      "cell_type": "code",
      "metadata": {
        "id": "HgyWzWPLJWu7"
      },
      "source": [
        "df.Start_Time = pd.to_datetime(df.Start_Time)"
      ],
      "execution_count": 33,
      "outputs": []
    },
    {
      "cell_type": "code",
      "metadata": {
        "colab": {
          "base_uri": "https://localhost:8080/",
          "height": 350
        },
        "id": "-vaKgSnrJWsX",
        "outputId": "844755d0-a5b4-423b-c2dc-8c8fb33ba404"
      },
      "source": [
        "sns.distplot(df.Start_Time.dt.hour, bins=24, kde=False, norm_hist=True)"
      ],
      "execution_count": 34,
      "outputs": [
        {
          "output_type": "stream",
          "text": [
            "/usr/local/lib/python3.7/dist-packages/seaborn/distributions.py:2557: FutureWarning: `distplot` is a deprecated function and will be removed in a future version. Please adapt your code to use either `displot` (a figure-level function with similar flexibility) or `histplot` (an axes-level function for histograms).\n",
            "  warnings.warn(msg, FutureWarning)\n"
          ],
          "name": "stderr"
        },
        {
          "output_type": "execute_result",
          "data": {
            "text/plain": [
              "<matplotlib.axes._subplots.AxesSubplot at 0x7f7e124ee290>"
            ]
          },
          "metadata": {
            "tags": []
          },
          "execution_count": 34
        },
        {
          "output_type": "display_data",
          "data": {
            "image/png": "[encoded data removed]",
            "text/plain": [
              "<Figure size 432x288 with 1 Axes>"
            ]
          },
          "metadata": {
            "tags": []
          }
        }
      ]
    },
    {
      "cell_type": "markdown",
      "metadata": {
        "id": "Tvoc42yFapfu"
      },
      "source": [
        "- A high percentage of accidents occur between 6 am to 10 am (probably people in a hurry to get to work)\n",
        "- Next higest percentage is 3 pm to 6 pm."
      ]
    },
    {
      "cell_type": "code",
      "metadata": {
        "colab": {
          "base_uri": "https://localhost:8080/",
          "height": 350
        },
        "id": "OLO3_PSQJWlC",
        "outputId": "eb297fd0-7df3-427c-aa32-10f217d48dea"
      },
      "source": [
        "sns.distplot(df.Start_Time.dt.dayofweek, bins=7, kde=False, norm_hist=True)"
      ],
      "execution_count": 35,
      "outputs": [
        {
          "output_type": "stream",
          "text": [
            "/usr/local/lib/python3.7/dist-packages/seaborn/distributions.py:2557: FutureWarning: `distplot` is a deprecated function and will be removed in a future version. Please adapt your code to use either `displot` (a figure-level function with similar flexibility) or `histplot` (an axes-level function for histograms).\n",
            "  warnings.warn(msg, FutureWarning)\n"
          ],
          "name": "stderr"
        },
        {
          "output_type": "execute_result",
          "data": {
            "text/plain": [
              "<matplotlib.axes._subplots.AxesSubplot at 0x7f7e1255b850>"
            ]
          },
          "metadata": {
            "tags": []
          },
          "execution_count": 35
        },
        {
          "output_type": "display_data",
          "data": {
            "image/png": "[encoded data removed]",
            "text/plain": [
              "<Figure size 432x288 with 1 Axes>"
            ]
          },
          "metadata": {
            "tags": []
          }
        }
      ]
    },
    {
      "cell_type": "markdown",
      "metadata": {
        "id": "tkpGoCUUdi52"
      },
      "source": [
        "Is the distribution of accidents by hour the same on weekends as on weekdays."
      ]
    },
    {
      "cell_type": "code",
      "metadata": {
        "colab": {
          "base_uri": "https://localhost:8080/",
          "height": 350
        },
        "id": "4IkQL2GbJWcu",
        "outputId": "fd3a0e93-7cde-4173-e9cc-d1c455102250"
      },
      "source": [
        "sundays_start_time = df.Start_Time[df.Start_Time.dt.dayofweek == 6]\n",
        "sns.distplot(sundays_start_time.dt.hour, bins=24, kde=False, norm_hist=True)"
      ],
      "execution_count": 36,
      "outputs": [
        {
          "output_type": "stream",
          "text": [
            "/usr/local/lib/python3.7/dist-packages/seaborn/distributions.py:2557: FutureWarning: `distplot` is a deprecated function and will be removed in a future version. Please adapt your code to use either `displot` (a figure-level function with similar flexibility) or `histplot` (an axes-level function for histograms).\n",
            "  warnings.warn(msg, FutureWarning)\n"
          ],
          "name": "stderr"
        },
        {
          "output_type": "execute_result",
          "data": {
            "text/plain": [
              "<matplotlib.axes._subplots.AxesSubplot at 0x7f7e1241aa50>"
            ]
          },
          "metadata": {
            "tags": []
          },
          "execution_count": 36
        },
        {
          "output_type": "display_data",
          "data": {
            "image/png": "[encoded data removed]",
            "text/plain": [
              "<Figure size 432x288 with 1 Axes>"
            ]
          },
          "metadata": {
            "tags": []
          }
        }
      ]
    },
    {
      "cell_type": "code",
      "metadata": {
        "colab": {
          "base_uri": "https://localhost:8080/",
          "height": 350
        },
        "id": "6ZjQFXTbGCwP",
        "outputId": "c088ec6b-e398-4206-99b6-c1ffa3d2b031"
      },
      "source": [
        "monday_start_time = df.Start_Time[df.Start_Time.dt.dayofweek == 0]\n",
        "sns.distplot(monday_start_time.dt.hour, bins=24, kde=False, norm_hist=True)"
      ],
      "execution_count": 37,
      "outputs": [
        {
          "output_type": "stream",
          "text": [
            "/usr/local/lib/python3.7/dist-packages/seaborn/distributions.py:2557: FutureWarning: `distplot` is a deprecated function and will be removed in a future version. Please adapt your code to use either `displot` (a figure-level function with similar flexibility) or `histplot` (an axes-level function for histograms).\n",
            "  warnings.warn(msg, FutureWarning)\n"
          ],
          "name": "stderr"
        },
        {
          "output_type": "execute_result",
          "data": {
            "text/plain": [
              "<matplotlib.axes._subplots.AxesSubplot at 0x7f7e12492d10>"
            ]
          },
          "metadata": {
            "tags": []
          },
          "execution_count": 37
        },
        {
          "output_type": "display_data",
          "data": {
            "image/png": "[encoded data removed]",
            "text/plain": [
              "<Figure size 432x288 with 1 Axes>"
            ]
          },
          "metadata": {
            "tags": []
          }
        }
      ]
    },
    {
      "cell_type": "markdown",
      "metadata": {
        "id": "Teo2UAvBUZ-j"
      },
      "source": [
        "On Sundays, the peak occurs between 10 am and 3 pm, unlike weekdays"
      ]
    },
    {
      "cell_type": "code",
      "metadata": {
        "colab": {
          "base_uri": "https://localhost:8080/",
          "height": 353
        },
        "id": "S2sVDIKaGCtq",
        "outputId": "f6f45f38-593e-480e-86e1-04fea2b19780"
      },
      "source": [
        "df_2019 = df[df.Start_Time.dt.year == 2019]\n",
        "sns.distplot(df_2019.Start_Time.dt.month, bins=12, kde=False, norm_hist=True)"
      ],
      "execution_count": 49,
      "outputs": [
        {
          "output_type": "stream",
          "text": [
            "/usr/local/lib/python3.7/dist-packages/seaborn/distributions.py:2557: FutureWarning: `distplot` is a deprecated function and will be removed in a future version. Please adapt your code to use either `displot` (a figure-level function with similar flexibility) or `histplot` (an axes-level function for histograms).\n",
            "  warnings.warn(msg, FutureWarning)\n"
          ],
          "name": "stderr"
        },
        {
          "output_type": "execute_result",
          "data": {
            "text/plain": [
              "<matplotlib.axes._subplots.AxesSubplot at 0x7f7e216c0a50>"
            ]
          },
          "metadata": {
            "tags": []
          },
          "execution_count": 49
        },
        {
          "output_type": "display_data",
          "data": {
            "image/png": "[encoded data removed]",
            "text/plain": [
              "<Figure size 432x288 with 1 Axes>"
            ]
          },
          "metadata": {
            "tags": []
          }
        }
      ]
    },
    {
      "cell_type": "markdown",
      "metadata": {
        "id": "XXkDK3uoXPK_"
      },
      "source": [
        "Much data is missing for 2016. Maybe even 2017."
      ]
    },
    {
      "cell_type": "markdown",
      "metadata": {
        "id": "40X9k8PLaSkN"
      },
      "source": [
        "### Start Latitude & Longitude"
      ]
    },
    {
      "cell_type": "code",
      "metadata": {
        "colab": {
          "base_uri": "https://localhost:8080/"
        },
        "id": "LVbBoJVdUdN4",
        "outputId": "ebfd3529-cb2c-4995-fa0b-f085d43fc51e"
      },
      "source": [
        "df.Start_Lat"
      ],
      "execution_count": 52,
      "outputs": [
        {
          "output_type": "execute_result",
          "data": {
            "text/plain": [
              "0          34.808868\n",
              "1          35.090080\n",
              "2          37.145730\n",
              "3          39.110390\n",
              "4          26.102942\n",
              "             ...    \n",
              "2906605    29.813824\n",
              "2906606    34.068890\n",
              "2906607    25.702200\n",
              "2906608    40.660140\n",
              "2906609    38.831749\n",
              "Name: Start_Lat, Length: 2906610, dtype: float64"
            ]
          },
          "metadata": {
            "tags": []
          },
          "execution_count": 52
        }
      ]
    },
    {
      "cell_type": "code",
      "metadata": {
        "colab": {
          "base_uri": "https://localhost:8080/"
        },
        "id": "vVwvZiiMUdLG",
        "outputId": "ced965d7-afe3-4d3b-bbbf-2f2b9f0ac3df"
      },
      "source": [
        "df.Start_Lng"
      ],
      "execution_count": 53,
      "outputs": [
        {
          "output_type": "execute_result",
          "data": {
            "text/plain": [
              "0          -82.269157\n",
              "1          -80.745560\n",
              "2         -121.985052\n",
              "3         -119.773781\n",
              "4          -80.265091\n",
              "              ...    \n",
              "2906605    -95.399437\n",
              "2906606   -117.342010\n",
              "2906607    -80.335556\n",
              "2906608   -111.952460\n",
              "2906609   -104.748161\n",
              "Name: Start_Lng, Length: 2906610, dtype: float64"
            ]
          },
          "metadata": {
            "tags": []
          },
          "execution_count": 53
        }
      ]
    },
    {
      "cell_type": "code",
      "metadata": {
        "id": "wp-HBTfPUdIF"
      },
      "source": [
        "sample_df = df.sample(int(0.1 * len(df)))"
      ],
      "execution_count": 54,
      "outputs": []
    },
    {
      "cell_type": "code",
      "metadata": {
        "colab": {
          "base_uri": "https://localhost:8080/",
          "height": 299
        },
        "id": "GK2xSZq-UdFr",
        "outputId": "73ff4be8-4b48-4eb1-be47-b24ff57473a0"
      },
      "source": [
        "sns.scatterplot(x=sample_df.Start_Lng, y=sample_df.Start_Lat, size=0.001)"
      ],
      "execution_count": 55,
      "outputs": [
        {
          "output_type": "execute_result",
          "data": {
            "text/plain": [
              "<matplotlib.axes._subplots.AxesSubplot at 0x7f7e11fba950>"
            ]
          },
          "metadata": {
            "tags": []
          },
          "execution_count": 55
        },
        {
          "output_type": "display_data",
          "data": {
            "image/png": "[encoded data removed]",
            "text/plain": [
              "<Figure size 432x288 with 1 Axes>"
            ]
          },
          "metadata": {
            "tags": []
          }
        }
      ]
    },
    {
      "cell_type": "markdown",
      "metadata": {
        "id": "fhM28n62ar1N"
      },
      "source": [
        "More acciends occured at coastal areas where most of the population resides."
      ]
    },
    {
      "cell_type": "code",
      "metadata": {
        "id": "fEifZD1xalMr"
      },
      "source": [
        "import folium"
      ],
      "execution_count": 56,
      "outputs": []
    },
    {
      "cell_type": "code",
      "metadata": {
        "colab": {
          "base_uri": "https://localhost:8080/"
        },
        "id": "8rT_gzUgalLG",
        "outputId": "7ad86318-1145-40c8-86f9-db04b5fffbfb"
      },
      "source": [
        "lat, lon = df.Start_Lat[0], df.Start_Lng[0]\n",
        "lat, lon"
      ],
      "execution_count": 57,
      "outputs": [
        {
          "output_type": "execute_result",
          "data": {
            "text/plain": [
              "(34.808868, -82.26915699999998)"
            ]
          },
          "metadata": {
            "tags": []
          },
          "execution_count": 57
        }
      ]
    },
    {
      "cell_type": "code",
      "metadata": {
        "colab": {
          "base_uri": "https://localhost:8080/"
        },
        "id": "QdzhIv-zalHu",
        "outputId": "03bda01e-1211-49e4-b34b-cf7b65654318"
      },
      "source": [
        "for x in df[['Start_Lat', 'Start_Lng']].sample(100).iteritems():\n",
        "    print(x[1])"
      ],
      "execution_count": 58,
      "outputs": [
        {
          "output_type": "stream",
          "text": [
            "1359605    30.371094\n",
            "1147214    34.154133\n",
            "2360887    33.597919\n",
            "1641648    32.759430\n",
            "918199     34.068900\n",
            "             ...    \n",
            "1981664    34.024799\n",
            "681893     33.777730\n",
            "461909     33.894649\n",
            "1335451    34.136215\n",
            "1096608    41.232246\n",
            "Name: Start_Lat, Length: 100, dtype: float64\n",
            "1359605    -81.761197\n",
            "1147214   -118.467949\n",
            "2360887   -117.676453\n",
            "1641648   -117.203789\n",
            "918199    -117.364890\n",
            "              ...    \n",
            "1981664   -117.733948\n",
            "681893     -84.605700\n",
            "461909    -118.326516\n",
            "1335451   -117.453468\n",
            "1096608    -73.220551\n",
            "Name: Start_Lng, Length: 100, dtype: float64\n"
          ],
          "name": "stdout"
        }
      ]
    },
    {
      "cell_type": "code",
      "metadata": {
        "colab": {
          "base_uri": "https://localhost:8080/"
        },
        "id": "3BD4-kTialFC",
        "outputId": "eb8693d9-048b-4fab-bc18-1e28b2d19ae5"
      },
      "source": [
        "zip(list(df.Start_Lat), list(df.Start_Lng))"
      ],
      "execution_count": 59,
      "outputs": [
        {
          "output_type": "execute_result",
          "data": {
            "text/plain": [
              "<zip at 0x7f7e78f9eaf0>"
            ]
          },
          "metadata": {
            "tags": []
          },
          "execution_count": 59
        }
      ]
    },
    {
      "cell_type": "code",
      "metadata": {
        "id": "lyX-h7jjalCN"
      },
      "source": [
        "from folium.plugins import HeatMap"
      ],
      "execution_count": 60,
      "outputs": []
    },
    {
      "cell_type": "code",
      "metadata": {
        "id": "jzd5tTn-ak_U"
      },
      "source": [
        "sample_df = df.sample(int(0.001 * len(df)))\n",
        "lat_lon_pairs = list(zip(list(sample_df.Start_Lat), list(sample_df.Start_Lng)))"
      ],
      "execution_count": 61,
      "outputs": []
    },
    {
      "cell_type": "code",
      "metadata": {
        "colab": {
          "base_uri": "https://localhost:8080/",
          "height": 866
        },
        "id": "oZa0H52yak29",
        "outputId": "c389a749-2e4f-4a68-aa91-84d6077bff3a"
      },
      "source": [
        "map = folium.Map()\n",
        "HeatMap(lat_lon_pairs).add_to(map)\n",
        "map"
      ],
      "execution_count": 62,
      "outputs": [
        {
          "output_type": "execute_result",
          "data": {
            "text/html": [
              "<div style=\"width:100%;\"><div style=\"position:relative;width:100%;height:0;padding-bottom:60%;\"><span style=\"color:#565656\">Make this Notebook Trusted to load map: File -> Trust Notebook</span><iframe src=\"about:blank\" style=\"position:absolute;width:100%;height:100%;left:0;top:0;border:none !important;\" data-html=%3C%21DOCTYPE%20html%3E%0A%3Chead%3E%20%20%20%20%0A%20%20%20%20%3Cmeta%20http-equiv%3D%22content-type%22%20content%3D%22text/html%3B%20charset%3DUTF-8%22%20/%3E%0A%20%20%20%20%3Cscript%3EL_PREFER_CANVAS%3Dfalse%3B%20L_NO_TOUCH%3Dfalse%3B%20L_DISABLE_3D%3Dfalse%3B%3C/script%3E%0A%20%20%20%20%3Cscript%20src%3D%22https%3A//cdn.jsdelivr.net/npm/leaflet%401.4.0/dist/leaflet.js%22%3E%3C/script%3E%0A%20%20%20%20%3Cscript%20src%3D%22https%3A//code.jquery.com/jquery-1.12.4.min.js%22%3E%3C/script%3E%0A%20%20%20%20%3Cscript%20src%3D%22https%3A//maxcdn.bootstrapcdn.com/bootstrap/3.2.0/js/bootstrap.min.js%22%3E%3C/script%3E%0A%20%20%20%20%3Cscript%20src%3D%22https%3A//cdnjs.cloudflare.com/ajax/libs/Leaflet.awesome-markers/2.0.2/leaflet.awesome-markers.js%22%3E%3C/script%3E%0A%20%20%20%20%3Clink%20rel%3D%22stylesheet%22%20href%3D%22https%3A//cdn.jsdelivr.net/npm/leaflet%401.4.0/dist/leaflet.css%22/%3E%0A%20%20%20%20%3Clink%20rel%3D%22stylesheet%22%20href%3D%22https%3A//maxcdn.bootstrapcdn.com/bootstrap/3.2.0/css/bootstrap.min.css%22/%3E%0A%20%20%20%20%3Clink%20rel%3D%22stylesheet%22%20href%3D%22https%3A//maxcdn.bootstrapcdn.com/bootstrap/3.2.0/css/bootstrap-theme.min.css%22/%3E%0A%20%20%20%20%3Clink%20rel%3D%22stylesheet%22%20href%3D%22https%3A//maxcdn.bootstrapcdn.com/font-awesome/4.6.3/css/font-awesome.min.css%22/%3E%0A%20%20%20%20%3Clink%20rel%3D%22stylesheet%22%20href%3D%22https%3A//cdnjs.cloudflare.com/ajax/libs/Leaflet.awesome-markers/2.0.2/leaflet.awesome-markers.css%22/%3E%0A%20%20%20%20%3Clink%20rel%3D%22stylesheet%22%20href%3D%22https%3A//rawcdn.githack.com/python-visualization/folium/master/folium/templates/leaflet.awesome.rotate.css%22/%3E%0A%20%20%20%20%3Cstyle%3Ehtml%2C%20body%20%7Bwidth%3A%20100%25%3Bheight%3A%20100%25%3Bmargin%3A%200%3Bpadding%3A%200%3B%7D%3C/style%3E%0A%20%20%20%20%3Cstyle%3E%23map%20%7Bposition%3Aabsolute%3Btop%3A0%3Bbottom%3A0%3Bright%3A0%3Bleft%3A0%3B%7D%3C/style%3E%0A%20%20%20%20%0A%20%20%20%20%3Cmeta%20name%3D%22viewport%22%20content%3D%22width%3Ddevice-width%2C%0A%20%20%20%20%20%20%20%20initial-scale%3D1.0%2C%20maximum-scale%3D1.0%2C%20user-scalable%3Dno%22%20/%3E%0A%20%20%20%20%3Cstyle%3E%23map_403d8152f9e9433f9183c8935cb67e82%20%7B%0A%20%20%20%20%20%20%20%20position%3A%20relative%3B%0A%20%20%20%20%20%20%20%20width%3A%20100.0%25%3B%0A%20%20%20%20%20%20%20%20height%3A%20100.0%25%3B%0A%20%20%20%20%20%20%20%20left%3A%200.0%25%3B%0A%20%20%20%20%20%20%20%20top%3A%200.0%25%3B%0A%20%20%20%20%20%20%20%20%7D%0A%20%20%20%20%3C/style%3E%0A%20%20%20%20%3Cscript%20src%3D%22https%3A//leaflet.github.io/Leaflet.heat/dist/leaflet-heat.js%22%3E%3C/script%3E%0A%3C/head%3E%0A%3Cbody%3E%20%20%20%20%0A%20%20%20%20%0A%20%20%20%20%3Cdiv%20class%3D%22folium-map%22%20id%3D%22map_403d8152f9e9433f9183c8935cb67e82%22%20%3E%3C/div%3E%0A%3C/body%3E%0A%3Cscript%3E%20%20%20%20%0A%20%20%20%20%0A%20%20%20%20%0A%20%20%20%20%20%20%20%20var%20bounds%20%3D%20null%3B%0A%20%20%20%20%0A%0A%20%20%20%20var%20map_403d8152f9e9433f9183c8935cb67e82%20%3D%20L.map%28%0A%20%20%20%20%20%20%20%20%27map_403d8152f9e9433f9183c8935cb67e82%27%2C%20%7B%0A%20%20%20%20%20%20%20%20center%3A%20%5B0%2C%200%5D%2C%0A%20%20%20%20%20%20%20%20zoom%3A%201%2C%0A%20%20%20%20%20%20%20%20maxBounds%3A%20bounds%2C%0A%20%20%20%20%20%20%20%20layers%3A%20%5B%5D%2C%0A%20%20%20%20%20%20%20%20worldCopyJump%3A%20false%2C%0A%20%20%20%20%20%20%20%20crs%3A%20L.CRS.EPSG3857%2C%0A%20%20%20%20%20%20%20%20zoomControl%3A%20true%2C%0A%20%20%20%20%20%20%20%20%7D%29%3B%0A%0A%0A%20%20%20%20%0A%20%20%20%20var%20tile_layer_19960cbeaf5c4ec488e0647227486669%20%3D%20L.tileLayer%28%0A%20%20%20%20%20%20%20%20%27https%3A//%7Bs%7D.tile.openstreetmap.org/%7Bz%7D/%7Bx%7D/%7By%7D.png%27%2C%0A%20%20%20%20%20%20%20%20%7B%0A%20%20%20%20%20%20%20%20%22attribution%22%3A%20null%2C%0A%20%20%20%20%20%20%20%20%22detectRetina%22%3A%20false%2C%0A%20%20%20%20%20%20%20%20%22maxNativeZoom%22%3A%2018%2C%0A%20%20%20%20%20%20%20%20%22maxZoom%22%3A%2018%2C%0A%20%20%20%20%20%20%20%20%22minZoom%22%3A%200%2C%0A%20%20%20%20%20%20%20%20%22noWrap%22%3A%20false%2C%0A%20%20%20%20%20%20%20%20%22opacity%22%3A%201%2C%0A%20%20%20%20%20%20%20%20%22subdomains%22%3A%20%22abc%22%2C%0A%20%20%20%20%20%20%20%20%22tms%22%3A%20false%0A%7D%29.addTo%28map_403d8152f9e9433f9183c8935cb67e82%29%3B%0A%20%20%20%20%0A%20%20%20%20%20%20%20%20%20%20%20%20var%20heat_map_05cd805653be46abbb3ebf1d6c2742a4%20%3D%20L.heatLayer%28%0A%20%20%20%20%20%20%20%20%20%20%20%20%20%20%20%20%5B%5B34.968204%2C%20-82.006088%5D%2C%20%5B41.047134%2C%20-73.803886%5D%2C%20%5B33.75567%2C%20-117.85307%5D%2C%20%5B45.00645%2C%20-93.2828%5D%2C%20%5B29.156183%2C%20-81.294579%5D%2C%20%5B41.78873%2C%20-87.63123%5D%2C%20%5B40.799824%2C%20-73.929906%5D%2C%20%5B39.526882%2C%20-119.70414%5D%2C%20%5B31.781347%2C%20-106.409996%5D%2C%20%5B34.316666999999995%2C%20-81.991651%5D%2C%20%5B33.976523%2C%20-117.371895%5D%2C%20%5B38.501987%2C%20-122.998755%5D%2C%20%5B45.533024%2C%20-122.665611%5D%2C%20%5B34.117496%2C%20-117.846329%5D%2C%20%5B33.853279%2C%20-118.280251%5D%2C%20%5B29.677488%2C%20-95.553459%5D%2C%20%5B35.760738%2C%20-78.661263%5D%2C%20%5B30.15011%2C%20-92.040604%5D%2C%20%5B29.7269%2C%20-95.46584%5D%2C%20%5B44.7786%2C%20-124.07046%5D%2C%20%5B33.928444%2C%20-118.239044%5D%2C%20%5B34.068937%2C%20-117.370325%5D%2C%20%5B41.518936%2C%20-72.77095%5D%2C%20%5B29.150824%2C%20-82.185059%5D%2C%20%5B39.443382%2C%20-75.64517%5D%2C%20%5B33.823273%2C%20-84.367271%5D%2C%20%5B35.23316%2C%20-80.87621%5D%2C%20%5B41.214432%2C%20-73.810539%5D%2C%20%5B46.352769%2C%20-114.200655%5D%2C%20%5B33.42017%2C%20-80.664261%5D%2C%20%5B32.970585%2C%20-117.249409%5D%2C%20%5B37.813098%2C%20-122.36171000000002%5D%2C%20%5B34.177052%2C%20-119.122734%5D%2C%20%5B41.06018%2C%20-81.56655%5D%2C%20%5B38.430462%2C%20-121.488106%5D%2C%20%5B37.106297%2C%20-113.139215%5D%2C%20%5B36.0465%2C%20-79.76583000000002%5D%2C%20%5B37.826713%2C%20-122.278933%5D%2C%20%5B36.87235%2C%20-76.19564%5D%2C%20%5B35.975201%2C%20-86.571564%5D%2C%20%5B40.70249%2C%20-111.95275%5D%2C%20%5B40.694168%2C%20-73.54345699999998%5D%2C%20%5B42.43769%2C%20-123.283148%5D%2C%20%5B35.334038%2C%20-97.490196%5D%2C%20%5B42.363091%2C%20-71.054085%5D%2C%20%5B34.121559000000005%2C%20-117.696732%5D%2C%20%5B34.0224%2C%20-117.81362%5D%2C%20%5B46.01011%2C%20-92.93225%5D%2C%20%5B39.931953%2C%20-82.928558%5D%2C%20%5B37.69397%2C%20-122.048951%5D%2C%20%5B32.875329%2C%20-96.691135%5D%2C%20%5B34.838039%2C%20-82.430145%5D%2C%20%5B29.755865000000004%2C%20-95.644562%5D%2C%20%5B34.048165999999995%2C%20-118.26601399999998%5D%2C%20%5B35.224689%2C%20-80.709969%5D%2C%20%5B38.290943%2C%20-122.03476%5D%2C%20%5B44.973225%2C%20-93.287357%5D%2C%20%5B37.469139%2C%20-122.155357%5D%2C%20%5B25.732421%2C%20-80.367779%5D%2C%20%5B38.25766%2C%20-122.779564%5D%2C%20%5B39.823007%2C%20-75.233644%5D%2C%20%5B44.970226%2C%20-93.323914%5D%2C%20%5B33.86874%2C%20-117.706969%5D%2C%20%5B39.6081%2C%20-75.71531999999998%5D%2C%20%5B38.29717%2C%20-81.74797%5D%2C%20%5B33.984337%2C%20-117.842659%5D%2C%20%5B34.26034%2C%20-118.43873%5D%2C%20%5B34.956452%2C%20-81.99701800000003%5D%2C%20%5B33.917041999999995%2C%20-118.079686%5D%2C%20%5B33.54156%2C%20-81.98749000000002%5D%2C%20%5B42.42756%2C%20-82.9265%5D%2C%20%5B33.760464%2C%20-84.493477%5D%2C%20%5B38.80872700000001%2C%20-104.741501%5D%2C%20%5B38.259922%2C%20-122.660591%5D%2C%20%5B34.065929%2C%20-117.254189%5D%2C%20%5B34.135926%2C%20-117.385364%5D%2C%20%5B38.54972100000001%2C%20-122.712898%5D%2C%20%5B44.555879%2C%20-123.079608%5D%2C%20%5B37.557041%2C%20-77.46320300000002%5D%2C%20%5B42.91165%2C%20-82.5057%5D%2C%20%5B35.657612%2C%20-78.848473%5D%2C%20%5B32.773053999999995%2C%20-117.128275%5D%2C%20%5B38.616596%2C%20-90.239822%5D%2C%20%5B40.772495%2C%20-74.20478100000003%5D%2C%20%5B33.88205%2C%20-117.5837%5D%2C%20%5B42.20356%2C%20-71.103386%5D%2C%20%5B37.31649%2C%20-121.9673%5D%2C%20%5B34.793039%2C%20-118.854253%5D%2C%20%5B39.34627%2C%20-77.27043%5D%2C%20%5B35.136951%2C%20-80.885696%5D%2C%20%5B38.800116%2C%20-77.599296%5D%2C%20%5B47.95195800000001%2C%20-122.101486%5D%2C%20%5B25.747674%2C%20-80.337216%5D%2C%20%5B33.268082%2C%20-117.436683%5D%2C%20%5B43.2769%2C%20-124.22873%5D%2C%20%5B45.09457%2C%20-93.40248%5D%2C%20%5B29.708849%2C%20-95.336784%5D%2C%20%5B29.85187%2C%20-95.362434%5D%2C%20%5B29.708747%2C%20-96.540538%5D%2C%20%5B27.036463%2C%20-80.233358%5D%2C%20%5B43.30405%2C%20-121.76543999999998%5D%2C%20%5B37.509953%2C%20-122.33333%5D%2C%20%5B40.25325%2C%20-76.812363%5D%2C%20%5B30.751128%2C%20-81.82504399999998%5D%2C%20%5B44.862438%2C%20-93.215981%5D%2C%20%5B32.923140999999994%2C%20-96.740303%5D%2C%20%5B39.415823%2C%20-76.659196%5D%2C%20%5B45.173458%2C%20-93.39193%5D%2C%20%5B40.832318%2C%20-74.43831999999998%5D%2C%20%5B40.082058%2C%20-75.189178%5D%2C%20%5B42.944847%2C%20-74.359703%5D%2C%20%5B38.788292%2C%20-121.287804%5D%2C%20%5B39.782856%2C%20-86.153374%5D%2C%20%5B33.509639%2C%20-93.946623%5D%2C%20%5B34.066185%2C%20-117.488319%5D%2C%20%5B36.31054%2C%20-119.704079%5D%2C%20%5B33.654831%2C%20-112.05687%5D%2C%20%5B35.57708%2C%20-97.690147%5D%2C%20%5B29.485004%2C%20-98.429817%5D%2C%20%5B41.294119%2C%20-72.773191%5D%2C%20%5B43.031067%2C%20-83.71592700000002%5D%2C%20%5B37.485354%2C%20-121.938866%5D%2C%20%5B40.75278%2C%20-111.91115%5D%2C%20%5B47.66829%2C%20-122.32237%5D%2C%20%5B32.888094%2C%20-117.112502%5D%2C%20%5B33.835922%2C%20-117.522949%5D%2C%20%5B35.092087%2C%20-80.933495%5D%2C%20%5B33.873499%2C%20-118.009375%5D%2C%20%5B38.04463%2C%20-78.90214%5D%2C%20%5B39.690052%2C%20-121.773523%5D%2C%20%5B37.99349%2C%20-122.07334%5D%2C%20%5B45.35732%2C%20-92.90951%5D%2C%20%5B38.405712%2C%20-120.646362%5D%2C%20%5B39.81185900000001%2C%20-86.17460600000003%5D%2C%20%5B34.009627%2C%20-81.153076%5D%2C%20%5B41.96973%2C%20-87.758728%5D%2C%20%5B25.785303%2C%20-80.264084%5D%2C%20%5B33.771286%2C%20-84.390045%5D%2C%20%5B33.23141%2C%20-80.44355%5D%2C%20%5B40.44744%2C%20-79.94241%5D%2C%20%5B37.99562%2C%20-121.78071%5D%2C%20%5B45.236387%2C%20-92.98322%5D%2C%20%5B37.951356%2C%20-120.424212%5D%2C%20%5B34.310555%2C%20-118.48616%5D%2C%20%5B30.745951%2C%20-85.483398%5D%2C%20%5B35.835503%2C%20-78.607765%5D%2C%20%5B41.76093%2C%20-87.89263000000003%5D%2C%20%5B39.42216%2C%20-75.02601999999997%5D%2C%20%5B45.01021%2C%20-93.15665%5D%2C%20%5B29.614021%2C%20-95.386971%5D%2C%20%5B41.190651%2C%20-96.184036%5D%2C%20%5B25.892637%2C%20-80.162839%5D%2C%20%5B40.8594%2C%20-73.91579%5D%2C%20%5B25.769715%2C%20-80.33499599999998%5D%2C%20%5B42.396389%2C%20-71.020943%5D%2C%20%5B34.237114%2C%20-118.659157%5D%2C%20%5B33.99405%2C%20-117.89254%5D%2C%20%5B30.049999%2C%20-95.184547%5D%2C%20%5B34.137640000000005%2C%20-118.36296000000002%5D%2C%20%5B42.175823%2C%20-87.989395%5D%2C%20%5B41.209358%2C%20-76.921291%5D%2C%20%5B34.035736%2C%20-118.370697%5D%2C%20%5B37.724335%2C%20-121.941071%5D%2C%20%5B41.671726%2C%20-91.445374%5D%2C%20%5B34.135357%2C%20-118.000743%5D%2C%20%5B35.103065%2C%20-89.870171%5D%2C%20%5B34.111599%2C%20-118.247078%5D%2C%20%5B32.698307%2C%20-117.144821%5D%2C%20%5B37.443075%2C%20-77.58117800000002%5D%2C%20%5B37.70218%2C%20-121.76653%5D%2C%20%5B34.155559999999994%2C%20-118.431145%5D%2C%20%5B27.996144%2C%20-82.40187%5D%2C%20%5B40.98731%2C%20-87.91162%5D%2C%20%5B30.17732%2C%20-97.63974%5D%2C%20%5B44.93772%2C%20-93.27481%5D%2C%20%5B33.22823%2C%20-87.533234%5D%2C%20%5B42.966908%2C%20-76.85096%5D%2C%20%5B25.924424%2C%20-80.31085300000002%5D%2C%20%5B39.81215200000001%2C%20-86.179698%5D%2C%20%5B35.75783900000001%2C%20-78.72892%5D%2C%20%5B47.61586%2C%20-122.18892%5D%2C%20%5B40.088718%2C%20-75.265984%5D%2C%20%5B36.790687%2C%20-119.784246%5D%2C%20%5B40.636206%2C%20-111.910783%5D%2C%20%5B37.449039%2C%20-121.106239%5D%2C%20%5B41.9415%2C%20-87.63902%5D%2C%20%5B40.72304000000001%2C%20-74.14604%5D%2C%20%5B43.172516%2C%20-83.73455799999998%5D%2C%20%5B40.257334%2C%20-76.850761%5D%2C%20%5B34.193146%2C%20-79.778862%5D%2C%20%5B25.774044%2C%20-80.32066400000002%5D%2C%20%5B41.13998%2C%20-96.052414%5D%2C%20%5B34.776942%2C%20-118.170437%5D%2C%20%5B36.799467%2C%20-76.098922%5D%2C%20%5B34.058811%2C%20-118.04237%5D%2C%20%5B41.04292%2C%20-73.7869%5D%2C%20%5B32.836529%2C%20-96.776962%5D%2C%20%5B44.95165%2C%20-93.13646%5D%2C%20%5B37.316435%2C%20-121.9683%5D%2C%20%5B32.691853%2C%20-97.241043%5D%2C%20%5B36.769513%2C%20-79.935119%5D%2C%20%5B41.08925%2C%20-111.98917%5D%2C%20%5B40.120003%2C%20-75.183853%5D%2C%20%5B36.060844%2C%20-95.904243%5D%2C%20%5B33.98669%2C%20-117.869901%5D%2C%20%5B40.035598%2C%20-75.569702%5D%2C%20%5B25.899757%2C%20-80.17921899999997%5D%2C%20%5B41.712868%2C%20-87.598846%5D%2C%20%5B45.130367%2C%20-93.422585%5D%2C%20%5B33.029606%2C%20-80.194633%5D%2C%20%5B33.928509000000005%2C%20-118.239166%5D%2C%20%5B35.81848%2C%20-78.68892%5D%2C%20%5B34.102931%2C%20-118.195043%5D%2C%20%5B47.69078%2C%20-122.32904%5D%2C%20%5B33.002994%2C%20-96.857886%5D%2C%20%5B42.34389%2C%20-88.16923%5D%2C%20%5B34.119141%2C%20-118.16246%5D%2C%20%5B33.518074%2C%20-80.86576099999998%5D%2C%20%5B45.336136%2C%20-122.769562%5D%2C%20%5B37.598022%2C%20-122.0606%5D%2C%20%5B35.018715%2C%20-85.239712%5D%2C%20%5B28.57131%2C%20-81.375618%5D%2C%20%5B33.003578000000005%2C%20-80.121712%5D%2C%20%5B33.167976%2C%20-87.525398%5D%2C%20%5B25.640571%2C%20-80.335564%5D%2C%20%5B42.440151%2C%20-71.250999%5D%2C%20%5B39.53016%2C%20-75.73699%5D%2C%20%5B37.348179%2C%20-77.405289%5D%2C%20%5B38.807526%2C%20-90.837532%5D%2C%20%5B33.219234%2C%20-111.91996%5D%2C%20%5B33.86034%2C%20-80.112953%5D%2C%20%5B41.300171%2C%20-72.906399%5D%2C%20%5B41.87116%2C%20-87.84857%5D%2C%20%5B33.900257%2C%20-118.058019%5D%2C%20%5B37.572556%2C%20-77.476807%5D%2C%20%5B37.39204%2C%20-122.168106%5D%2C%20%5B30.436953000000006%2C%20-91.084488%5D%2C%20%5B33.90437%2C%20-117.46042%5D%2C%20%5B43.011326%2C%20-83.517525%5D%2C%20%5B43.059025%2C%20-76.154513%5D%2C%20%5B39.595219%2C%20-84.23722099999998%5D%2C%20%5B44.28381%2C%20-123.06113%5D%2C%20%5B39.471538%2C%20-77.361225%5D%2C%20%5B36.532628%2C%20-119.628896%5D%2C%20%5B34.199721999999994%2C%20-80.971008%5D%2C%20%5B34.044483%2C%20-81.11749300000002%5D%2C%20%5B35.071613%2C%20-120.516495%5D%2C%20%5B36.075279%2C%20-95.95797%5D%2C%20%5B43.56097000000001%2C%20-123.28162%5D%2C%20%5B40.417355%2C%20-80.056572%5D%2C%20%5B32.446171%2C%20-80.993965%5D%2C%20%5B38.869141%2C%20-77.22026%5D%2C%20%5B28.244577000000003%2C%20-82.213264%5D%2C%20%5B34.16098%2C%20-118.469437%5D%2C%20%5B29.736507%2C%20-95.588615%5D%2C%20%5B27.893181%2C%20-81.828445%5D%2C%20%5B33.925201%2C%20-117.880287%5D%2C%20%5B30.394976%2C%20-91.085799%5D%2C%20%5B37.33388%2C%20-122.04951%5D%2C%20%5B43.105927%2C%20-77.74861899999998%5D%2C%20%5B38.285542%2C%20-90.403679%5D%2C%20%5B38.44305%2C%20-122.72193%5D%2C%20%5B45.8367%2C%20-118.42126%5D%2C%20%5B26.25916%2C%20-80.2499%5D%2C%20%5B44.681595%2C%20-119.126869%5D%2C%20%5B37.021289%2C%20-122.026941%5D%2C%20%5B35.77685%2C%20-78.63665%5D%2C%20%5B44.328611%2C%20-88.59749599999998%5D%2C%20%5B29.709637%2C%20-82.0441%5D%2C%20%5B30.231594%2C%20-97.717506%5D%2C%20%5B41.16158%2C%20-96.02358%5D%2C%20%5B42.559086%2C%20-71.933319%5D%2C%20%5B45.5075%2C%20-122.72064%5D%2C%20%5B38.241959%2C%20-77.500504%5D%2C%20%5B43.07829%2C%20-76.17245%5D%2C%20%5B32.792664%2C%20-96.873688%5D%2C%20%5B33.725521%2C%20-117.803482%5D%2C%20%5B33.881302000000005%2C%20-117.649864%5D%2C%20%5B37.81701%2C%20-122.271614%5D%2C%20%5B45.019848%2C%20-91.442734%5D%2C%20%5B39.46273%2C%20-75.72142%5D%2C%20%5B34.580399%2C%20-82.09655%5D%2C%20%5B33.891392%2C%20-84.459038%5D%2C%20%5B38.434299%2C%20-122.40049%5D%2C%20%5B32.775593%2C%20-96.911519%5D%2C%20%5B32.791039000000005%2C%20-96.753426%5D%2C%20%5B26.704701%2C%20-81.43722199999998%5D%2C%20%5B25.761058%2C%20-80.48122099999998%5D%2C%20%5B33.423924%2C%20-117.152033%5D%2C%20%5B26.168594%2C%20-80.309883%5D%2C%20%5B35.841625%2C%20-78.642967%5D%2C%20%5B41.227481%2C%20-73.246767%5D%2C%20%5B45.01058%2C%20-93.14119%5D%2C%20%5B30.339377%2C%20-81.540318%5D%2C%20%5B34.139713%2C%20-117.24509%5D%2C%20%5B38.6511%2C%20-121.327644%5D%2C%20%5B32.7789%2C%20-117.101994%5D%2C%20%5B42.753296%2C%20-73.932335%5D%2C%20%5B27.99843%2C%20-80.630264%5D%2C%20%5B34.212063%2C%20-118.348564%5D%2C%20%5B40.798794%2C%20-74.356415%5D%2C%20%5B40.10373%2C%20-74.79007%5D%2C%20%5B33.943012%2C%20-117.280792%5D%2C%20%5B26.528056%2C%20-81.869772%5D%2C%20%5B39.946087%2C%20-75.11398299999998%5D%2C%20%5B33.880959999999995%2C%20-117.59985%5D%2C%20%5B41.703022%2C%20-93.60054%5D%2C%20%5B32.668159%2C%20-97.235001%5D%2C%20%5B40.72573%2C%20-111.95756000000002%5D%2C%20%5B32.737839%2C%20-96.874153%5D%2C%20%5B38.485256%2C%20-121.808075%5D%2C%20%5B35.011565999999995%2C%20-81.91229200000002%5D%2C%20%5B38.365547%2C%20-120.794952%5D%2C%20%5B36.192871%2C%20-86.777611%5D%2C%20%5B35.26772000000001%2C%20-119.252649%5D%2C%20%5B40.426155%2C%20-112.380409%5D%2C%20%5B47.46865800000001%2C%20-122.624146%5D%2C%20%5B33.846661%2C%20-118.220215%5D%2C%20%5B32.747814%2C%20-96.918785%5D%2C%20%5B42.01186%2C%20-87.755219%5D%2C%20%5B41.98394%2C%20-87.84267%5D%2C%20%5B34.135466%2C%20-117.965352%5D%2C%20%5B36.183804%2C%20-86.768478%5D%2C%20%5B44.977123%2C%20-93.202766%5D%2C%20%5B40.9053%2C%20-74.19039000000002%5D%2C%20%5B40.67556%2C%20-74.000679%5D%2C%20%5B35.241575%2C%20-80.897104%5D%2C%20%5B27.48587%2C%20-82.46981%5D%2C%20%5B42.688347%2C%20-124.434127%5D%2C%20%5B37.486942%2C%20-121.940872%5D%2C%20%5B39.47771%2C%20-111.98548999999998%5D%2C%20%5B35.397663%2C%20-97.318024%5D%2C%20%5B40.241128%2C%20-111.150322%5D%2C%20%5B32.895902%2C%20-96.897961%5D%2C%20%5B37.39991%2C%20-122.032684%5D%2C%20%5B44.873872%2C%20-93.1634%5D%2C%20%5B40.184464%2C%20-75.132423%5D%2C%20%5B40.439461%2C%20-80.010327%5D%2C%20%5B37.63019%2C%20-122.43482%5D%2C%20%5B38.56179%2C%20-121.64726%5D%2C%20%5B44.890472%2C%20-93.399284%5D%2C%20%5B33.1001%2C%20-117.308567%5D%2C%20%5B33.642658000000004%2C%20-79.028702%5D%2C%20%5B35.026669%2C%20-81.87610600000002%5D%2C%20%5B34.660213%2C%20-118.150183%5D%2C%20%5B33.7477%2C%20-84.38703000000002%5D%2C%20%5B36.75773%2C%20-119.7545%5D%2C%20%5B34.021968%2C%20-118.164694%5D%2C%20%5B32.759521%2C%20-97.057709%5D%2C%20%5B28.246101%2C%20-81.631905%5D%2C%20%5B33.139534000000005%2C%20-117.14613%5D%2C%20%5B42.023911%2C%20-71.260338%5D%2C%20%5B33.887514%2C%20-117.55187%5D%2C%20%5B28.559641%2C%20-81.491692%5D%2C%20%5B40.806713%2C%20-79.806496%5D%2C%20%5B32.22085%2C%20-110.7899%5D%2C%20%5B33.98785%2C%20-118.39122%5D%2C%20%5B26.062817000000006%2C%20-80.208267%5D%2C%20%5B44.59813%2C%20-123.06177%5D%2C%20%5B25.97321%2C%20-80.16573000000002%5D%2C%20%5B35.835719%2C%20-78.61001800000003%5D%2C%20%5B37.966634%2C%20-122.048958%5D%2C%20%5B45.03739%2C%20-93.01223%5D%2C%20%5B40.69399600000001%2C%20-73.923508%5D%2C%20%5B33.459571999999994%2C%20-112.305672%5D%2C%20%5B33.936508%2C%20-84.159424%5D%2C%20%5B37.48745%2C%20-77.32261700000002%5D%2C%20%5B41.628689%2C%20-93.79364%5D%2C%20%5B39.956711%2C%20-86.007858%5D%2C%20%5B36.450329%2C%20-87.099358%5D%2C%20%5B37.808253%2C%20-122.366974%5D%2C%20%5B37.93998%2C%20-121.739693%5D%2C%20%5B39.113026%2C%20-121.564133%5D%2C%20%5B26.432213%2C%20-81.77793100000002%5D%2C%20%5B44.94687%2C%20-93.0791%5D%2C%20%5B45.13847%2C%20-93.29046%5D%2C%20%5B33.776836%2C%20-79.021156%5D%2C%20%5B38.95768%2C%20-76.86509000000002%5D%2C%20%5B30.47472%2C%20-84.29483%5D%2C%20%5B25.811358%2C%20-80.24039499999998%5D%2C%20%5B32.79096%2C%20-96.75879%5D%2C%20%5B29.785212%2C%20-95.771301%5D%2C%20%5B37.05419000000001%2C%20-120.70567%5D%2C%20%5B39.74003%2C%20-104.9988%5D%2C%20%5B40.123459%2C%20-75.338661%5D%2C%20%5B35.882057%2C%20-78.741638%5D%2C%20%5B33.46929%2C%20-82.06766999999998%5D%2C%20%5B33.836975%2C%20-117.309442%5D%2C%20%5B38.496464%2C%20-122.756821%5D%2C%20%5B42.65738%2C%20-73.74157%5D%2C%20%5B33.559135%2C%20-112.037773%5D%2C%20%5B36.86169%2C%20-121.58186%5D%2C%20%5B37.658543%2C%20-77.632813%5D%2C%20%5B34.102695000000004%2C%20-84.53094499999997%5D%2C%20%5B29.95887%2C%20-89.99243%5D%2C%20%5B38.639656%2C%20-121.198242%5D%2C%20%5B39.61361%2C%20-84.191245%5D%2C%20%5B37.646393%2C%20-122.092812%5D%2C%20%5B38.30899%2C%20-122.302902%5D%2C%20%5B34.20741%2C%20-118.21736%5D%2C%20%5B40.254108%2C%20-76.82648499999998%5D%2C%20%5B35.33557800000001%2C%20-119.003087%5D%2C%20%5B32.33748%2C%20-111.0468%5D%2C%20%5B33.70348%2C%20-84.170181%5D%2C%20%5B44.218136%2C%20-88.47229%5D%2C%20%5B37.34457800000001%2C%20-120.613499%5D%2C%20%5B28.357292%2C%20-80.683571%5D%2C%20%5B37.89722%2C%20-122.080303%5D%2C%20%5B33.136759999999995%2C%20-117.17143%5D%2C%20%5B34.830743%2C%20-82.505055%5D%2C%20%5B30.08541%2C%20-90.43113%5D%2C%20%5B35.594631%2C%20-97.587799%5D%2C%20%5B35.3883%2C%20-84.72163%5D%2C%20%5B34.024858%2C%20-118.428356%5D%2C%20%5B33.859955%2C%20-118.309158%5D%2C%20%5B32.756481%2C%20-117.15918%5D%2C%20%5B28.5911%2C%20-81.47601999999998%5D%2C%20%5B34.156663%2C%20-118.41378600000002%5D%2C%20%5B40.164757%2C%20-75.12473299999998%5D%2C%20%5B45.089554%2C%20-93.431564%5D%2C%20%5B33.92321%2C%20-118.20573%5D%2C%20%5B36.01008%2C%20-83.52490999999998%5D%2C%20%5B38.79313%2C%20-77.18186999999998%5D%2C%20%5B37.95287%2C%20-122.538243%5D%2C%20%5B30.355947%2C%20-81.668327%5D%2C%20%5B27.890976%2C%20-82.335267%5D%2C%20%5B36.941958%2C%20-80.917374%5D%2C%20%5B35.85617%2C%20-78.64124%5D%2C%20%5B33.477798%2C%20-112.849963%5D%2C%20%5B35.201858%2C%20-80.786987%5D%2C%20%5B25.973208%2C%20-80.18836999999998%5D%2C%20%5B26.810244%2C%20-80.152946%5D%2C%20%5B29.60043%2C%20-95.298889%5D%2C%20%5B36.03515%2C%20-86.78305999999998%5D%2C%20%5B36.13813%2C%20-86.72779799999998%5D%2C%20%5B26.51096%2C%20-80.07265%5D%2C%20%5B42.035141%2C%20-88.311874%5D%2C%20%5B39.69979%2C%20-86.10714%5D%2C%20%5B28.70283%2C%20-81.55937%5D%2C%20%5B34.171096%2C%20-118.521848%5D%2C%20%5B34.741882000000004%2C%20-86.66996800000003%5D%2C%20%5B33.66917%2C%20-112.05281200000002%5D%2C%20%5B40.776797%2C%20-76.900552%5D%2C%20%5B30.26716%2C%20-97.695976%5D%2C%20%5B35.12901%2C%20-90.03511%5D%2C%20%5B38.835903%2C%20-77.099939%5D%2C%20%5B34.030437%2C%20-117.611946%5D%2C%20%5B39.47887%2C%20-104.8724%5D%2C%20%5B40.54976%2C%20-111.89592%5D%2C%20%5B40.16134%2C%20-111.64685%5D%2C%20%5B34.06898%2C%20-118.21689%5D%2C%20%5B43.047939%2C%20-77.65126%5D%2C%20%5B34.883063%2C%20-120.436649%5D%2C%20%5B34.15297%2C%20-118.27965%5D%2C%20%5B34.690262%2C%20-111.74353%5D%2C%20%5B38.815727%2C%20-77.13825200000002%5D%2C%20%5B36.750147%2C%20-119.592066%5D%2C%20%5B36.16048%2C%20-86.778419%5D%2C%20%5B33.98979%2C%20-117.350057%5D%2C%20%5B40.795269%2C%20-74.19171%5D%2C%20%5B44.77565%2C%20-93.31821%5D%2C%20%5B25.896133%2C%20-80.292068%5D%2C%20%5B33.764633%2C%20-80.964104%5D%2C%20%5B36.073872%2C%20-86.623512%5D%2C%20%5B40.44218%2C%20-79.82464%5D%2C%20%5B39.92017%2C%20-84.36928%5D%2C%20%5B43.164639%2C%20-77.623253%5D%2C%20%5B28.090628%2C%20-82.40572399999998%5D%2C%20%5B33.137544%2C%20-117.138357%5D%2C%20%5B34.787702%2C%20-82.48007700000002%5D%2C%20%5B33.924138%2C%20-118.023223%5D%2C%20%5B33.538647%2C%20-112.099632%5D%2C%20%5B45.60198%2C%20-121.14312%5D%2C%20%5B42.647129%2C%20-73.711166%5D%2C%20%5B35.10556%2C%20-106.629211%5D%2C%20%5B43.0686%2C%20-83.67405699999998%5D%2C%20%5B47.5992%2C%20-122.3172%5D%2C%20%5B33.807209%2C%20-117.832031%5D%2C%20%5B37.201458%2C%20-93.261971%5D%2C%20%5B38.558605%2C%20-121.473465%5D%2C%20%5B38.9222%2C%20-94.76229%5D%2C%20%5B45.287758%2C%20-93.002441%5D%2C%20%5B40.036125%2C%20-76.307472%5D%2C%20%5B32.319046%2C%20-80.934441%5D%2C%20%5B41.513485%2C%20-73.04847%5D%2C%20%5B37.603428%2C%20-122.064142%5D%2C%20%5B42.279732%2C%20-87.87854%5D%2C%20%5B29.7355%2C%20-95.284241%5D%2C%20%5B34.690252%2C%20-117.966343%5D%2C%20%5B33.514365999999995%2C%20-82.05920400000002%5D%2C%20%5B36.750308%2C%20-119.49298%5D%2C%20%5B40.292679%2C%20-83.146309%5D%2C%20%5B40.789348%2C%20-74.195963%5D%2C%20%5B26.561453000000004%2C%20-81.751938%5D%2C%20%5B35.507751%2C%20-97.576118%5D%2C%20%5B47.53807000000001%2C%20-122.03322%5D%2C%20%5B41.082027%2C%20-77.55519100000002%5D%2C%20%5B39.828236%2C%20-85.77011999999998%5D%2C%20%5B44.790154%2C%20-93.221146%5D%2C%20%5B28.652851%2C%20-81.388412%5D%2C%20%5B34.167709%2C%20-79.687599%5D%2C%20%5B34.081623%2C%20-117.71933%5D%2C%20%5B34.172161%2C%20-118.396507%5D%2C%20%5B30.41582%2C%20-90.04488%5D%2C%20%5B39.538542%2C%20-119.734873%5D%2C%20%5B34.097612%2C%20-78.978004%5D%2C%20%5B41.64555%2C%20-83.54851500000002%5D%2C%20%5B34.31171%2C%20-117.47612%5D%2C%20%5B39.323437%2C%20-77.357155%5D%2C%20%5B37.826908%2C%20-122.267715%5D%2C%20%5B40.678051%2C%20-74.002586%5D%2C%20%5B35.676974%2C%20-78.912101%5D%2C%20%5B41.042393%2C%20-73.783752%5D%2C%20%5B40.557709%2C%20-111.425728%5D%2C%20%5B29.74506%2C%20-95.361671%5D%2C%20%5B38.584346%2C%20-77.026737%5D%2C%20%5B36.152569%2C%20-86.857079%5D%2C%20%5B42.29454000000001%2C%20-71.75350999999998%5D%2C%20%5B39.846046%2C%20-104.985069%5D%2C%20%5B29.797215%2C%20-81.869087%5D%2C%20%5B29.68078%2C%20-95.36396%5D%2C%20%5B45.32343%2C%20-122.6582%5D%2C%20%5B29.150072%2C%20-81.290291%5D%2C%20%5B38.775555%2C%20-90.334419%5D%2C%20%5B36.297909%2C%20-119.421303%5D%2C%20%5B35.785179%2C%20-78.74044%5D%2C%20%5B45.476048%2C%20-122.54938500000002%5D%2C%20%5B33.68908%2C%20-117.33459%5D%2C%20%5B32.881062%2C%20-96.883904%5D%2C%20%5B37.375204%2C%20-78.016329%5D%2C%20%5B45.294511%2C%20-93.801659%5D%2C%20%5B29.4387%2C%20-98.477654%5D%2C%20%5B39.0738%2C%20-76.923959%5D%2C%20%5B37.64655%2C%20-122.09556%5D%2C%20%5B34.159659999999995%2C%20-118.466156%5D%2C%20%5B39.904855%2C%20-75.096177%5D%2C%20%5B37.565872%2C%20-121.21711%5D%2C%20%5B37.500984%2C%20-77.475426%5D%2C%20%5B27.41736%2C%20-82.475891%5D%2C%20%5B41.196297%2C%20-95.967407%5D%2C%20%5B33.69846%2C%20-84.08492%5D%2C%20%5B40.80877%2C%20-73.16601999999997%5D%2C%20%5B40.723904%2C%20-74.22979000000002%5D%2C%20%5B39.943508%2C%20-76.73278%5D%2C%20%5B40.691238%2C%20-74.267342%5D%2C%20%5B30.375084%2C%20-97.729599%5D%2C%20%5B36.869708%2C%20-121.770106%5D%2C%20%5B46.93263%2C%20-122.9079%5D%2C%20%5B34.148564%2C%20-118.062654%5D%2C%20%5B43.242005%2C%20-118.516741%5D%2C%20%5B42.09611%2C%20-71.22636999999997%5D%2C%20%5B37.54578%2C%20-77.44899699999998%5D%2C%20%5B43.13316%2C%20-77.49226%5D%2C%20%5B25.53092%2C%20-80.412775%5D%2C%20%5B34.031620000000004%2C%20-118.41359%5D%2C%20%5B28.871731%2C%20-81.284233%5D%2C%20%5B41.864079%2C%20-88.117363%5D%2C%20%5B34.112881%2C%20-118.176976%5D%2C%20%5B33.826405%2C%20-117.925621%5D%2C%20%5B34.426357%2C%20-117.567089%5D%2C%20%5B29.709692%2C%20-95.660492%5D%2C%20%5B38.862476%2C%20-76.99781800000002%5D%2C%20%5B38.57636%2C%20-121.3132%5D%2C%20%5B33.87375%2C%20-118.2216%5D%2C%20%5B39.210411%2C%20-84.462547%5D%2C%20%5B39.801682%2C%20-105.156792%5D%2C%20%5B37.547935%2C%20-120.905365%5D%2C%20%5B41.49764%2C%20-111.968754%5D%2C%20%5B34.400585%2C%20-80.994247%5D%2C%20%5B28.56691%2C%20-81.294342%5D%2C%20%5B43.13546%2C%20-89.295067%5D%2C%20%5B36.779514%2C%20-119.749023%5D%2C%20%5B33.882003999999995%2C%20-117.51432%5D%2C%20%5B34.039548%2C%20-117.550381%5D%2C%20%5B37.8986%2C%20-122.07079%5D%2C%20%5B45.69904%2C%20-121.65009%5D%2C%20%5B32.849497%2C%20-86.633717%5D%2C%20%5B36.590666%2C%20-86.601973%5D%2C%20%5B35.763351%2C%20-78.631477%5D%2C%20%5B30.397479%2C%20-91.113428%5D%2C%20%5B47.756004%2C%20-122.329689%5D%2C%20%5B37.945084%2C%20-122.489082%5D%2C%20%5B36.43731%2C%20-82.52314%5D%2C%20%5B34.958294%2C%20-80.854102%5D%2C%20%5B44.05175%2C%20-123.050079%5D%2C%20%5B43.035892%2C%20-88.077202%5D%2C%20%5B32.675041%2C%20-117.109772%5D%2C%20%5B38.914986%2C%20-104.787361%5D%2C%20%5B25.597661%2C%20-80.375493%5D%2C%20%5B45.137976%2C%20-121.620249%5D%2C%20%5B34.065979%2C%20-118.2164%5D%2C%20%5B37.551723%2C%20-122.251823%5D%2C%20%5B34.06997%2C%20-117.29582%5D%2C%20%5B33.480244%2C%20-112.038005%5D%2C%20%5B39.82543%2C%20-86.04981%5D%2C%20%5B30.458786%2C%20-91.058258%5D%2C%20%5B38.805631%2C%20-121.202126%5D%2C%20%5B35.824742%2C%20-78.708549%5D%2C%20%5B27.714103%2C%20-82.335265%5D%2C%20%5B39.0508%2C%20-77.618988%5D%2C%20%5B43.089851%2C%20-88.058479%5D%2C%20%5B40.60177%2C%20-74.06107%5D%2C%20%5B34.029621%2C%20-117.550468%5D%2C%20%5B36.043919%2C%20-86.650482%5D%2C%20%5B33.928226%2C%20-84.176018%5D%2C%20%5B29.845589%2C%20-95.37767%5D%2C%20%5B39.905956%2C%20-76.580872%5D%2C%20%5B39.727624%2C%20-86.04643399999998%5D%2C%20%5B37.211755%2C%20-77.297004%5D%2C%20%5B33.92592%2C%20-118.308109%5D%2C%20%5B34.13473%2C%20-117.62466%5D%2C%20%5B28.421057%2C%20-81.371368%5D%2C%20%5B33.876362%2C%20-118.082367%5D%2C%20%5B32.956211%2C%20-80.646873%5D%2C%20%5B34.003772999999995%2C%20-118.280919%5D%2C%20%5B37.377145%2C%20-121.94327%5D%2C%20%5B34.003986%2C%20-117.83016200000002%5D%2C%20%5B40.742184%2C%20-73.824898%5D%2C%20%5B33.928581%2C%20-118.28914%5D%2C%20%5B33.725102%2C%20-112.239061%5D%2C%20%5B28.14892%2C%20-82.695709%5D%2C%20%5B32.99722%2C%20-80.67018%5D%2C%20%5B42.446117%2C%20-82.917106%5D%2C%20%5B34.000782%2C%20-117.35221%5D%2C%20%5B39.833462%2C%20-104.77166%5D%2C%20%5B32.988281%2C%20-87.197113%5D%2C%20%5B33.988019%2C%20-118.39881%5D%2C%20%5B29.830522%2C%20-95.382065%5D%2C%20%5B27.88651%2C%20-82.66901%5D%2C%20%5B39.00508%2C%20-77.08106%5D%2C%20%5B39.872578%2C%20-75.082161%5D%2C%20%5B29.5205%2C%20-98.50541%5D%2C%20%5B37.80647%2C%20-121.99071%5D%2C%20%5B30.445078%2C%20-81.604996%5D%2C%20%5B34.293981%2C%20-80.021728%5D%2C%20%5B39.87429%2C%20-74.16714%5D%2C%20%5B34.439449%2C%20-119.832314%5D%2C%20%5B35.921836%2C%20-78.46679%5D%2C%20%5B42.506032%2C%20-79.214056%5D%2C%20%5B30.484787%2C%20-91.06424%5D%2C%20%5B34.027401%2C%20-118.144035%5D%2C%20%5B32.480953%2C%20-93.754997%5D%2C%20%5B33.774898%2C%20-118.085402%5D%2C%20%5B27.843615000000003%2C%20-82.811676%5D%2C%20%5B34.222103000000004%2C%20-119.113808%5D%2C%20%5B32.790749%2C%20-117.113098%5D%2C%20%5B42.29824%2C%20-83.97071%5D%2C%20%5B34.047382%2C%20-117.307274%5D%2C%20%5B38.550488%2C%20-121.427864%5D%2C%20%5B38.291714%2C%20-121.264367%5D%2C%20%5B33.385674%2C%20-111.857498%5D%2C%20%5B32.99725%2C%20-80.21719399999998%5D%2C%20%5B43.763859%2C%20-95.371201%5D%2C%20%5B33.436382%2C%20-111.986603%5D%2C%20%5B41.840019%2C%20-71.411263%5D%2C%20%5B32.893539000000004%2C%20-97.099327%5D%2C%20%5B37.635506%2C%20-77.613152%5D%2C%20%5B27.76882%2C%20-82.39188%5D%2C%20%5B33.470690000000005%2C%20-111.88821000000002%5D%2C%20%5B37.009862%2C%20-121.953314%5D%2C%20%5B25.883984%2C%20-80.32373%5D%2C%20%5B37.885387%2C%20-121.279762%5D%2C%20%5B40.188667%2C%20-76.191681%5D%2C%20%5B29.600239%2C%20-95.317863%5D%2C%20%5B35.201939%2C%20-111.47638700000002%5D%2C%20%5B34.709846%2C%20-82.500175%5D%2C%20%5B35.861828%2C%20-78.54888199999998%5D%2C%20%5B41.74984%2C%20-72.71605699999998%5D%2C%20%5B37.905491%2C%20-122.069656%5D%2C%20%5B34.171242%2C%20-118.11525%5D%2C%20%5B34.029545%2C%20-118.218758%5D%2C%20%5B33.775333%2C%20-78.983063%5D%2C%20%5B33.934059999999995%2C%20-117.4079%5D%2C%20%5B42.0971%2C%20-71.0585%5D%2C%20%5B27.408381%2C%20-80.400337%5D%2C%20%5B33.959270000000004%2C%20-118.254028%5D%2C%20%5B39.26321%2C%20-76.56774%5D%2C%20%5B40.853188%2C%20-73.960709%5D%2C%20%5B45.8638%2C%20-123.56523%5D%2C%20%5B42.31543%2C%20-71.056686%5D%2C%20%5B27.99669%2C%20-82.568333%5D%2C%20%5B37.946487%2C%20-122.491051%5D%2C%20%5B38.933922%2C%20-94.678047%5D%2C%20%5B38.593428%2C%20-121.444756%5D%2C%20%5B43.089741%2C%20-75.317929%5D%2C%20%5B44.11907%2C%20-121.31678%5D%2C%20%5B29.941364%2C%20-95.413678%5D%2C%20%5B40.71816%2C%20-111.89309%5D%2C%20%5B34.801987%2C%20-82.747047%5D%2C%20%5B27.109253%2C%20-82.37732700000002%5D%2C%20%5B42.94494%2C%20-87.93491%5D%2C%20%5B34.028996%2C%20-118.012863%5D%2C%20%5B45.07917%2C%20-93.18548%5D%2C%20%5B37.7347%2C%20-122.13974%5D%2C%20%5B39.349163%2C%20-76.745705%5D%2C%20%5B43.19464%2C%20-78.57558%5D%2C%20%5B34.262241%2C%20-117.50074%5D%2C%20%5B39.6005%2C%20-77.67723000000002%5D%2C%20%5B40.84507%2C%20-73.91626%5D%2C%20%5B33.811333000000005%2C%20-84.369431%5D%2C%20%5B41.98539%2C%20-87.833931%5D%2C%20%5B35.427057%2C%20-119.110007%5D%2C%20%5B34.154423%2C%20-118.383167%5D%2C%20%5B45.91%2C%20-119.404968%5D%2C%20%5B39.943127%2C%20-104.903099%5D%2C%20%5B42.737942%2C%20-84.510139%5D%2C%20%5B39.798519%2C%20-86.04965200000002%5D%2C%20%5B36.74156%2C%20-119.815046%5D%2C%20%5B40.718861%2C%20-73.946238%5D%2C%20%5B37.794914%2C%20-122.266151%5D%2C%20%5B30.500799%2C%20-87.22161700000002%5D%2C%20%5B38.83717%2C%20-104.792999%5D%2C%20%5B37.891249%2C%20-84.349799%5D%2C%20%5B38.867172%2C%20-77.31766800000003%5D%2C%20%5B33.825451%2C%20-118.20694%5D%2C%20%5B34.26882%2C%20-118.433901%5D%2C%20%5B35.231277%2C%20-80.826263%5D%2C%20%5B32.800329999999995%2C%20-96.62612%5D%2C%20%5B34.628339000000004%2C%20-82.992299%5D%2C%20%5B41.46865%2C%20-81.65923000000002%5D%2C%20%5B37.87907%2C%20-122.532913%5D%2C%20%5B40.849517%2C%20-73.942247%5D%2C%20%5B37.400712%2C%20-122.036276%5D%2C%20%5B32.805719%2C%20-96.79345%5D%2C%20%5B34.291035%2C%20-118.81498%5D%2C%20%5B32.86821%2C%20-96.66777%5D%2C%20%5B44.960217%2C%20-93.201523%5D%2C%20%5B40.409031%2C%20-75.504616%5D%2C%20%5B41.47574%2C%20-81.88251%5D%2C%20%5B35.83179000000001%2C%20-78.67701%5D%2C%20%5B36.14304%2C%20-86.684349%5D%2C%20%5B37.809887%2C%20-122.477455%5D%2C%20%5B35.031426%2C%20-85.30888399999998%5D%2C%20%5B36.264099%2C%20-86.724197%5D%2C%20%5B33.24165%2C%20-84.80684699999998%5D%2C%20%5B42.88795%2C%20-78.76771%5D%2C%20%5B30.415805%2C%20-91.141703%5D%2C%20%5B36.7647%2C%20-119.83428%5D%2C%20%5B35.783066%2C%20-78.78125%5D%2C%20%5B39.826136%2C%20-85.616668%5D%2C%20%5B39.014229%2C%20-122.056931%5D%2C%20%5B35.205605%2C%20-80.840843%5D%2C%20%5B41.731875%2C%20-87.62487%5D%2C%20%5B30.429237%2C%20-97.770988%5D%2C%20%5B45.545529%2C%20-122.532652%5D%2C%20%5B36.952632%2C%20-81.05460699999998%5D%2C%20%5B34.346586%2C%20-83.318588%5D%2C%20%5B40.999588%2C%20-85.88757700000002%5D%2C%20%5B41.533115%2C%20-78.682286%5D%2C%20%5B33.40784%2C%20-111.6154%5D%2C%20%5B39.958012%2C%20-75.610977%5D%2C%20%5B38.02368900000001%2C%20-121.972104%5D%2C%20%5B37.610397%2C%20-122.069405%5D%2C%20%5B41.55264%2C%20-81.60032%5D%2C%20%5B42.973518%2C%20-85.639778%5D%2C%20%5B33.878635%2C%20-117.880502%5D%2C%20%5B34.991058%2C%20-109.967211%5D%2C%20%5B39.16337%2C%20-94.55938%5D%2C%20%5B42.874249%2C%20-78.787849%5D%2C%20%5B32.903641%2C%20-80.024017%5D%2C%20%5B38.608733%2C%20-121.429246%5D%2C%20%5B45.530721%2C%20-122.68687%5D%2C%20%5B34.16556%2C%20-118.837963%5D%2C%20%5B40.081353%2C%20-75.356586%5D%2C%20%5B40.09443%2C%20-75.36259%5D%2C%20%5B44.28381%2C%20-123.06113%5D%2C%20%5B43.017849%2C%20-71.03022800000002%5D%2C%20%5B34.269112%2C%20-118.146355%5D%2C%20%5B44.96468400000001%2C%20-93.216072%5D%2C%20%5B41.651306%2C%20-93.575783%5D%2C%20%5B35.189819%2C%20-80.929192%5D%2C%20%5B34.109868%2C%20-118.261851%5D%2C%20%5B35.43875%2C%20-80.644052%5D%2C%20%5B29.89408%2C%20-95.58965%5D%2C%20%5B34.167278%2C%20-80.858467%5D%2C%20%5B29.72131%2C%20-95.32648%5D%2C%20%5B37.70066%2C%20-121.79516%5D%2C%20%5B42.115788%2C%20-122.622283%5D%2C%20%5B36.195133%2C%20-86.775566%5D%2C%20%5B40.59708%2C%20-111.90344%5D%2C%20%5B34.247253%2C%20-82.056526%5D%2C%20%5B32.337643%2C%20-111.066704%5D%2C%20%5B33.462270000000004%2C%20-112.22652%5D%2C%20%5B32.671803000000004%2C%20-114.306824%5D%2C%20%5B32.235572999999995%2C%20-110.840981%5D%2C%20%5B43.158365%2C%20-77.682351%5D%2C%20%5B35.328999%2C%20-80.870758%5D%2C%20%5B42.872124%2C%20-87.912903%5D%2C%20%5B29.50527%2C%20-90.67609%5D%2C%20%5B34.054352%2C%20-118.225761%5D%2C%20%5B28.547555%2C%20-81.253005%5D%2C%20%5B40.7506%2C%20-74.11613%5D%2C%20%5B27.92322%2C%20-82.69838%5D%2C%20%5B32.731232%2C%20-116.938316%5D%2C%20%5B42.240203%2C%20-87.994129%5D%2C%20%5B45.580592%2C%20-118.635531%5D%2C%20%5B42.95697%2C%20-83.856522%5D%2C%20%5B42.49226%2C%20-82.99894%5D%2C%20%5B39.805042%2C%20-75.306213%5D%2C%20%5B38.481765%2C%20-121.390252%5D%2C%20%5B33.979440000000004%2C%20-118.28062%5D%2C%20%5B32.92285%2C%20-96.75547%5D%2C%20%5B33.776789%2C%20-84.602397%5D%2C%20%5B48.214371%2C%20-114.277148%5D%2C%20%5B26.620878%2C%20-81.74959100000002%5D%2C%20%5B29.727684000000004%2C%20-95.554024%5D%2C%20%5B40.76088%2C%20-73.70047%5D%2C%20%5B27.824720000000006%2C%20-82.67965%5D%2C%20%5B40.01396%2C%20-75.722853%5D%2C%20%5B41.87019%2C%20-87.89125%5D%2C%20%5B42.518986%2C%20-83.616135%5D%2C%20%5B43.207549%2C%20-77.680741%5D%2C%20%5B41.908901%2C%20-95.344155%5D%2C%20%5B40.66764000000001%2C%20-73.99632%5D%2C%20%5B32.972939000000004%2C%20-80.249832%5D%2C%20%5B32.36631%2C%20-110.9695%5D%2C%20%5B29.342134%2C%20-95.280602%5D%2C%20%5B38.222408%2C%20-122.128578%5D%2C%20%5B39.961807%2C%20-76.718552%5D%2C%20%5B32.716663%2C%20-117.120163%5D%2C%20%5B37.456841%2C%20-77.32975%5D%2C%20%5B25.733494%2C%20-80.302761%5D%2C%20%5B28.571449%2C%20-81.430614%5D%2C%20%5B40.76087%2C%20-73.75463%5D%2C%20%5B32.77467%2C%20-96.78747%5D%2C%20%5B34.060844%2C%20-118.251047%5D%2C%20%5B32.514249%2C%20-93.747771%5D%2C%20%5B37.717431%2C%20-121.703956%5D%2C%20%5B27.44627%2C%20-82.50551999999998%5D%2C%20%5B39.955345%2C%20-82.871315%5D%2C%20%5B43.105919%2C%20-77.748627%5D%2C%20%5B39.640005%2C%20-78.949274%5D%2C%20%5B47.77877%2C%20-122.317436%5D%2C%20%5B33.89406%2C%20-84.25492%5D%2C%20%5B29.966356%2C%20-90.100474%5D%2C%20%5B34.32941%2C%20-111.092516%5D%2C%20%5B37.256408%2C%20-122.116137%5D%2C%20%5B36.9825%2C%20-121.964444%5D%2C%20%5B34.023540000000004%2C%20-118.1728%5D%2C%20%5B42.05778%2C%20-88.02767%5D%2C%20%5B37.40905%2C%20-77.56133%5D%2C%20%5B37.78341%2C%20-121.246281%5D%2C%20%5B38.597362%2C%20-121.503797%5D%2C%20%5B34.433824%2C%20-118.389188%5D%2C%20%5B39.10371%2C%20-84.51363%5D%2C%20%5B39.25846%2C%20-76.63591%5D%2C%20%5B42.948025%2C%20-83.66185%5D%2C%20%5B30.42523%2C%20-91.122498%5D%2C%20%5B29.737751%2C%20-95.50103%5D%2C%20%5B37.66357%2C%20-122.465851%5D%2C%20%5B28.359924%2C%20-80.79459399999998%5D%2C%20%5B25.880366%2C%20-80.208917%5D%2C%20%5B37.59747700000001%2C%20-77.49140200000002%5D%2C%20%5B36.568772%2C%20-119.571898%5D%2C%20%5B30.388791%2C%20-91.186695%5D%2C%20%5B29.742809%2C%20-95.588802%5D%2C%20%5B38.51091%2C%20-122.840149%5D%2C%20%5B43.078645%2C%20-75.26179599999998%5D%2C%20%5B45.541798%2C%20-121.089075%5D%2C%20%5B41.70969%2C%20-87.77956%5D%2C%20%5B25.782577%2C%20-80.38701400000002%5D%2C%20%5B39.924198%2C%20-86.12134300000002%5D%2C%20%5B42.839676%2C%20-83.89631700000002%5D%2C%20%5B39.00538%2C%20-77.08165%5D%2C%20%5B29.619511%2C%20-95.565018%5D%2C%20%5B40.16967%2C%20-118.48121%5D%2C%20%5B36.116119%2C%20-86.77325400000002%5D%2C%20%5B34.152389%2C%20-81.102967%5D%2C%20%5B34.99508%2C%20-81.99472%5D%2C%20%5B40.77293%2C%20-80.074722%5D%2C%20%5B26.12938%2C%20-80.21771%5D%2C%20%5B32.798416%2C%20-96.814651%5D%2C%20%5B32.808842%2C%20-97.418427%5D%2C%20%5B32.77272%2C%20-96.738041%5D%2C%20%5B47.633203%2C%20-122.187848%5D%2C%20%5B34.000446000000004%2C%20-117.374588%5D%2C%20%5B41.546242%2C%20-72.109062%5D%2C%20%5B43.063748%2C%20-70.794914%5D%2C%20%5B45.676751%2C%20-93.92495%5D%2C%20%5B37.868549%2C%20-122.194786%5D%2C%20%5B30.394774%2C%20-97.644369%5D%2C%20%5B27.140661%2C%20-82.409745%5D%2C%20%5B34.114914%2C%20-117.199974%5D%2C%20%5B34.488594%2C%20-118.162903%5D%2C%20%5B33.566959000000004%2C%20-112.11718%5D%2C%20%5B33.619751%2C%20-112.022018%5D%2C%20%5B39.982018%2C%20-104.988258%5D%2C%20%5B32.91901%2C%20-97.01535%5D%2C%20%5B32.545559000000004%2C%20-82.889258%5D%2C%20%5B45.70876%2C%20-122.87301%5D%2C%20%5B39.030043%2C%20-94.552997%5D%2C%20%5B47.756691%2C%20-122.187073%5D%2C%20%5B41.22467%2C%20-95.975945%5D%2C%20%5B29.50946%2C%20-98.666862%5D%2C%20%5B33.231831%2C%20-80.487038%5D%2C%20%5B43.05166%2C%20-76.1369%5D%2C%20%5B34.0872%2C%20-118.23411000000002%5D%2C%20%5B37.701405%2C%20-121.88811499999998%5D%2C%20%5B35.12178%2C%20-80.7189%5D%2C%20%5B37.411425%2C%20-122.241014%5D%2C%20%5B29.76645%2C%20-95.34765%5D%2C%20%5B41.205528%2C%20-111.994118%5D%2C%20%5B32.670959%2C%20-96.94722%5D%2C%20%5B30.145502%2C%20-92.032562%5D%2C%20%5B43.346%2C%20-83.86336999999997%5D%2C%20%5B40.66214%2C%20-74.28716999999997%5D%2C%20%5B29.965405%2C%20-95.418861%5D%2C%20%5B37.63307800000001%2C%20-121.343282%5D%2C%20%5B33.595459000000005%2C%20-112.237801%5D%2C%20%5B30.250071%2C%20-81.55242199999998%5D%2C%20%5B40.765228%2C%20-73.951904%5D%2C%20%5B39.89717%2C%20-83.03412%5D%2C%20%5B45.160199%2C%20-122.913344%5D%2C%20%5B41.39355%2C%20-73.60044%5D%2C%20%5B38.883019%2C%20-77.228566%5D%2C%20%5B40.85306%2C%20-73.96011%5D%2C%20%5B40.211857%2C%20-75.139412%5D%2C%20%5B39.648896%2C%20-78.762928%5D%2C%20%5B37.325168%2C%20-121.886239%5D%2C%20%5B33.407211%2C%20-82.030861%5D%2C%20%5B39.044872%2C%20-94.387665%5D%2C%20%5B31.761789%2C%20-106.359978%5D%2C%20%5B28.027182%2C%20-82.18695100000002%5D%2C%20%5B39.848122%2C%20-104.985306%5D%2C%20%5B45.26363%2C%20-93.5557%5D%2C%20%5B44.967079%2C%20-93.221375%5D%2C%20%5B38.172631%2C%20-102.724411%5D%2C%20%5B35.27332%2C%20-80.83193%5D%2C%20%5B27.910368%2C%20-82.700928%5D%2C%20%5B37.45843%2C%20-119.869767%5D%2C%20%5B30.306566%2C%20-81.878304%5D%2C%20%5B29.940561%2C%20-95.413773%5D%2C%20%5B33.391040000000004%2C%20-82.02727%5D%2C%20%5B41.22432%2C%20-112.01124%5D%2C%20%5B25.500658%2C%20-80.444969%5D%2C%20%5B37.863266%2C%20-122.035553%5D%2C%20%5B29.744531%2C%20-95.588331%5D%2C%20%5B33.994259%2C%20-117.889412%5D%2C%20%5B38.496046%2C%20-121.437835%5D%2C%20%5B30.453705%2C%20-91.091858%5D%2C%20%5B30.76576%2C%20-97.629097%5D%2C%20%5B40.016464%2C%20-82.949837%5D%2C%20%5B44.92013%2C%20-123.00384%5D%2C%20%5B38.882122%2C%20-77.222137%5D%2C%20%5B30.433133%2C%20-87.275036%5D%2C%20%5B44.948666%2C%20-92.988831%5D%2C%20%5B39.93310200000001%2C%20-75.082748%5D%2C%20%5B34.803764%2C%20-82.37545%5D%2C%20%5B28.394951%2C%20-81.689484%5D%2C%20%5B33.60531%2C%20-112.2987%5D%2C%20%5B32.308095%2C%20-80.976562%5D%2C%20%5B38.337494%2C%20-75.55896800000002%5D%2C%20%5B32.68323%2C%20-96.61714%5D%2C%20%5B33.923302%2C%20-118.20597%5D%2C%20%5B39.27052%2C%20-77.21674%5D%2C%20%5B35.20326%2C%20-80.744125%5D%2C%20%5B32.086613%2C%20-83.7631%5D%2C%20%5B35.486038%2C%20-97.654266%5D%2C%20%5B39.595055%2C%20-104.826309%5D%2C%20%5B35.398457%2C%20-120.829361%5D%2C%20%5B35.083904%2C%20-80.933388%5D%2C%20%5B29.510353%2C%20-98.397858%5D%2C%20%5B34.819697999999995%2C%20-82.26931%5D%2C%20%5B38.641544%2C%20-121.47156499999998%5D%2C%20%5B46.861399%2C%20-96.841231%5D%2C%20%5B32.801184%2C%20-79.946563%5D%2C%20%5B31.744364%2C%20-106.301758%5D%2C%20%5B34.029255%2C%20-117.715557%5D%2C%20%5B41.47394%2C%20-81.70156%5D%2C%20%5B43.978237%2C%20-124.101227%5D%2C%20%5B45.58092%2C%20-118.63318%5D%2C%20%5B35.478466%2C%20-97.565842%5D%2C%20%5B36.184319%2C%20-86.754478%5D%2C%20%5B33.869625%2C%20-118.055107%5D%2C%20%5B29.304558%2C%20-98.555801%5D%2C%20%5B34.130009%2C%20-117.933517%5D%2C%20%5B36.788331%2C%20-119.856365%5D%2C%20%5B40.553326%2C%20-74.317673%5D%2C%20%5B27.996311%2C%20-82.37303100000003%5D%2C%20%5B33.948006%2C%20-118.279322%5D%2C%20%5B32.939674%2C%20-97.098747%5D%2C%20%5B36.773767%2C%20-121.6692%5D%2C%20%5B44.15291%2C%20-88.4863%5D%2C%20%5B29.165748%2C%20-82.16929499999998%5D%2C%20%5B37.801347%2C%20-122.469502%5D%2C%20%5B28.494307%2C%20-81.452629%5D%2C%20%5B32.99831%2C%20-96.797684%5D%2C%20%5B45.40747%2C%20-122.57143%5D%2C%20%5B29.10412%2C%20-81.03333%5D%2C%20%5B30.24135%2C%20-97.757988%5D%2C%20%5B40.73239%2C%20-73.92496%5D%2C%20%5B32.763359%2C%20-96.682617%5D%2C%20%5B35.86306300000001%2C%20-78.626335%5D%2C%20%5B34.42735%2C%20-119.729257%5D%2C%20%5B39.634729%2C%20-77.957886%5D%2C%20%5B33.75677%2C%20-118.24414%5D%2C%20%5B42.93203%2C%20-83.583221%5D%2C%20%5B40.188707%2C%20-74.689897%5D%2C%20%5B39.19355%2C%20-77.26032%5D%2C%20%5B42.303459%2C%20-89.04965200000002%5D%2C%20%5B34.029945%2C%20-118.442192%5D%2C%20%5B39.674042%2C%20-104.781609%5D%2C%20%5B42.313648%2C%20-83.09108%5D%2C%20%5B41.87177%2C%20-87.91261%5D%2C%20%5B33.873613%2C%20-118.235964%5D%2C%20%5B48.456519%2C%20-113.183437%5D%2C%20%5B39.77834%2C%20-104.89542%5D%2C%20%5B40.82282%2C%20-73.88546%5D%2C%20%5B33.96029%2C%20-118.28111%5D%2C%20%5B34.163501000000004%2C%20-79.765252%5D%2C%20%5B34.34188%2C%20-118.50565%5D%2C%20%5B35.090245%2C%20-90.076821%5D%2C%20%5B33.766163%2C%20-117.937693%5D%2C%20%5B29.938098%2C%20-95.441547%5D%2C%20%5B44.93053%2C%20-93.397854%5D%2C%20%5B32.5157%2C%20-93.71064%5D%2C%20%5B33.930881%2C%20-118.368253%5D%2C%20%5B25.804743%2C%20-80.20595%5D%2C%20%5B29.466194%2C%20-98.618729%5D%2C%20%5B25.94749%2C%20-80.150355%5D%2C%20%5B40.24897%2C%20-75.34626999999998%5D%2C%20%5B32.192033%2C%20-86.419197%5D%2C%20%5B40.55535%2C%20-75.428331%5D%2C%20%5B47.598362%2C%20-122.326393%5D%2C%20%5B30.307615%2C%20-97.715729%5D%2C%20%5B33.411348%2C%20-87.510272%5D%2C%20%5B38.547444%2C%20-121.454102%5D%2C%20%5B34.887043%2C%20-82.371223%5D%2C%20%5B34.16924%2C%20-118.46793999999998%5D%2C%20%5B38.769153%2C%20-78.624655%5D%2C%20%5B38.317555%2C%20-123.028256%5D%2C%20%5B41.053911%2C%20-76.235351%5D%2C%20%5B45.66177%2C%20-122.558937%5D%2C%20%5B30.288483000000006%2C%20-97.629753%5D%2C%20%5B37.731556%2C%20-122.188278%5D%2C%20%5B46.677891%2C%20-120.481285%5D%2C%20%5B42.975302%2C%20-76.806267%5D%2C%20%5B34.055962%2C%20-118.451484%5D%2C%20%5B39.38626%2C%20-74.51156%5D%2C%20%5B27.193263%2C%20-82.122332%5D%2C%20%5B33.996831%2C%20-117.931031%5D%2C%20%5B40.625309%2C%20-111.44043700000002%5D%2C%20%5B39.840298%2C%20-83.09070600000003%5D%2C%20%5B41.88205%2C%20-87.6278%5D%2C%20%5B47.52892%2C%20-122.19769%5D%2C%20%5B30.383745%2C%20-89.439636%5D%2C%20%5B32.899609000000005%2C%20-96.788322%5D%2C%20%5B36.664713%2C%20-78.133167%5D%2C%20%5B37.503899%2C%20-77.511452%5D%2C%20%5B42.81929%2C%20-73.76753199999997%5D%2C%20%5B41.852655%2C%20-87.64539%5D%2C%20%5B32.631557%2C%20-80.881538%5D%2C%20%5B38.26263%2C%20-85.81611%5D%2C%20%5B32.903156%2C%20-97.096535%5D%2C%20%5B35.22689099999999%2C%20-80.856728%5D%2C%20%5B38.35315%2C%20-90.39332%5D%2C%20%5B42.237892%2C%20-85.638092%5D%2C%20%5B37.93026%2C%20-122.389637%5D%2C%20%5B33.502258000000005%2C%20-86.813889%5D%2C%20%5B25.81761%2C%20-80.38669%5D%2C%20%5B36.015442%2C%20-86.62114%5D%2C%20%5B32.11974%2C%20-110.90934%5D%2C%20%5B27.869974%2C%20-82.616562%5D%2C%20%5B36.115987%2C%20-86.83088599999998%5D%2C%20%5B26.45375%2C%20-80.18741999999997%5D%2C%20%5B40.81368300000001%2C%20-73.93139000000002%5D%2C%20%5B39.749111%2C%20-84.212074%5D%2C%20%5B33.83574%2C%20-117.53217%5D%2C%20%5B36.079563%2C%20-86.726372%5D%2C%20%5B34.311798%2C%20-117.47506%5D%2C%20%5B33.163306%2C%20-117.342431%5D%2C%20%5B38.806561%2C%20-77.05838%5D%2C%20%5B32.995399%2C%20-117.256538%5D%2C%20%5B34.07382%2C%20-118.219275%5D%2C%20%5B36.060886%2C%20-95.868538%5D%2C%20%5B35.097027000000004%2C%20-81.668221%5D%2C%20%5B40.5359%2C%20-74.30315999999998%5D%2C%20%5B37.644139%2C%20-122.491896%5D%2C%20%5B38.692397%2C%20-90.664817%5D%2C%20%5B44.81106%2C%20-124.06222%5D%2C%20%5B26.55646%2C%20-81.87184%5D%2C%20%5B36.12202%2C%20-80.23035%5D%2C%20%5B30.3997%2C%20-91.116608%5D%2C%20%5B45.507012%2C%20-122.670754%5D%2C%20%5B27.91638%2C%20-82.736465%5D%2C%20%5B33.974747%2C%20-118.24766499999998%5D%2C%20%5B29.545561%2C%20-98.368912%5D%2C%20%5B33.936192%2C%20-118.046571%5D%2C%20%5B33.59816%2C%20-112.043617%5D%2C%20%5B42.350062%2C%20-71.116014%5D%2C%20%5B25.89513%2C%20-80.37763100000002%5D%2C%20%5B37.33452800000001%2C%20-121.85057%5D%2C%20%5B41.650669%2C%20-70.415337%5D%2C%20%5B42.237808%2C%20-85.67845600000003%5D%2C%20%5B33.993525%2C%20-117.35751299999998%5D%2C%20%5B33.7901%2C%20-84.39083000000002%5D%2C%20%5B33.856232%2C%20-117.997894%5D%2C%20%5B40.131763%2C%20-86.330161%5D%2C%20%5B42.05498%2C%20-124.26944%5D%2C%20%5B32.612583%2C%20-83.742805%5D%2C%20%5B30.376181%2C%20-91.068451%5D%2C%20%5B35.224277%2C%20-80.89076999999997%5D%2C%20%5B33.423201%2C%20-111.89136%5D%2C%20%5B36.180669%2C%20-86.749684%5D%2C%20%5B34.1211%2C%20-118.47972%5D%2C%20%5B38.910839%2C%20-94.393339%5D%2C%20%5B34.06842%2C%20-117.97419%5D%2C%20%5B34.135208%2C%20-80.963585%5D%2C%20%5B37.368912%2C%20-77.907433%5D%2C%20%5B42.281525%2C%20-83.19896700000002%5D%2C%20%5B30.057401%2C%20-95.188594%5D%2C%20%5B38.144146%2C%20-78.427402%5D%2C%20%5B33.967119%2C%20-118.164796%5D%2C%20%5B35.24362199999999%2C%20-80.84706899999998%5D%2C%20%5B33.63636%2C%20-112.347183%5D%2C%20%5B29.70442%2C%20-95.37523%5D%2C%20%5B40.699806%2C%20-73.86868299999998%5D%2C%20%5B38.82748%2C%20-77.31648299999998%5D%2C%20%5B33.974651%2C%20-118.280998%5D%2C%20%5B41.099561%2C%20-73.950469%5D%2C%20%5B40.71294%2C%20-73.8236%5D%2C%20%5B27.4344%2C%20-81.366003%5D%2C%20%5B37.86644%2C%20-122.03878%5D%2C%20%5B42.856811%2C%20-87.93768299999998%5D%2C%20%5B34.507118%2C%20-117.32386%5D%2C%20%5B44.6393%2C%20-123.06224%5D%2C%20%5B42.42837100000001%2C%20-71.25882%5D%2C%20%5B42.23822%2C%20-71.02365%5D%2C%20%5B41.18824%2C%20-76.91372%5D%2C%20%5B46.432105%2C%20-94.306878%5D%2C%20%5B42.349522%2C%20-83.070824%5D%2C%20%5B32.861073%2C%20-97.31472%5D%2C%20%5B41.90867%2C%20-72.63247%5D%2C%20%5B46.555814%2C%20-94.3087%5D%2C%20%5B38.808865%2C%20-104.840858%5D%2C%20%5B36.648674%2C%20-119.817816%5D%2C%20%5B43.38226%2C%20-71.96345500000002%5D%2C%20%5B33.675391%2C%20-117.839881%5D%2C%20%5B34.6532%2C%20-92.41288%5D%2C%20%5B40.981947%2C%20-77.824872%5D%2C%20%5B39.36563%2C%20-106.06099%5D%2C%20%5B28.227699%2C%20-80.67881%5D%2C%20%5B26.93054%2C%20-80.14881%5D%2C%20%5B29.937719%2C%20-95.432121%5D%2C%20%5B42.650691%2C%20-70.976526%5D%2C%20%5B33.853190999999995%2C%20-117.925308%5D%2C%20%5B40.771122%2C%20-73.874809%5D%2C%20%5B37.657774%2C%20-77.450405%5D%2C%20%5B34.072205%2C%20-118.091026%5D%2C%20%5B35.52598%2C%20-82.98746%5D%2C%20%5B41.259624%2C%20-96.001968%5D%2C%20%5B39.87535%2C%20-75.04845%5D%2C%20%5B34.5201%2C%20-118.308331%5D%2C%20%5B37.39486%2C%20-122.0463%5D%2C%20%5B35.11079%2C%20-80.68785%5D%2C%20%5B34.025616%2C%20-118.206184%5D%2C%20%5B44.440241%2C%20-123.276881%5D%2C%20%5B44.86931%2C%20-92.99949%5D%2C%20%5B29.73106%2C%20-95.4073%5D%2C%20%5B42.938314%2C%20-123.285795%5D%2C%20%5B25.98884%2C%20-80.210854%5D%2C%20%5B37.3226%2C%20-121.89635%5D%2C%20%5B40.85494%2C%20-73.970621%5D%2C%20%5B29.439590000000006%2C%20-98.491966%5D%2C%20%5B42.496286%2C%20-83.351479%5D%2C%20%5B38.68589%2C%20-121.33342%5D%2C%20%5B43.01632%2C%20-83.68358%5D%2C%20%5B25.809839%2C%20-80.321457%5D%2C%20%5B29.67115%2C%20-95.577198%5D%2C%20%5B32.840721%2C%20-117.121597%5D%2C%20%5B35.081211%2C%20-81.608589%5D%2C%20%5B33.6382%2C%20-112.2029%5D%2C%20%5B40.833019%2C%20-73.336899%5D%2C%20%5B37.690749%2C%20-122.092785%5D%2C%20%5B35.493282%2C%20-97.521034%5D%2C%20%5B41.76291%2C%20-87.86009%5D%2C%20%5B40.57527%2C%20-74.62864%5D%2C%20%5B37.31786%2C%20-77.31993100000003%5D%2C%20%5B43.960317%2C%20-121.348032%5D%2C%20%5B40.424784%2C%20-74.219459%5D%2C%20%5B40.667679%2C%20-111.952759%5D%2C%20%5B40.503017%2C%20-80.02628299999998%5D%2C%20%5B30.01335%2C%20-90.01338%5D%2C%20%5B39.775879%2C%20-75.49189%5D%2C%20%5B34.930939%2C%20-82.55684699999998%5D%2C%20%5B35.022007%2C%20-81.578644%5D%2C%20%5B29.847361%2C%20-95.49485%5D%2C%20%5B35.768877%2C%20-78.459838%5D%2C%20%5B32.100593%2C%20-81.32351700000002%5D%2C%20%5B38.72293%2C%20-104.72158%5D%2C%20%5B37.318592%2C%20-121.831802%5D%2C%20%5B40.67847800000001%2C%20-75.34236899999998%5D%2C%20%5B35.229061%2C%20-80.860603%5D%2C%20%5B32.85556500000001%2C%20-96.770301%5D%2C%20%5B40.7369%2C%20-73.931969%5D%2C%20%5B35.801025%2C%20-78.67417900000002%5D%2C%20%5B38.271071%2C%20-121.302712%5D%2C%20%5B37.47628%2C%20-121.932457%5D%2C%20%5B30.320571%2C%20-81.69096400000002%5D%2C%20%5B30.341616%2C%20-81.76061999999997%5D%2C%20%5B33.976809%2C%20-117.899211%5D%2C%20%5B41.86925%2C%20-87.9171%5D%2C%20%5B39.27216%2C%20-77.31546800000002%5D%2C%20%5B42.544029%2C%20-70.983742%5D%2C%20%5B34.961811%2C%20-77.24125699999998%5D%2C%20%5B40.876324%2C%20-74.062943%5D%2C%20%5B42.343441%2C%20-83.21219599999998%5D%2C%20%5B37.185886%2C%20-79.936348%5D%2C%20%5B39.798798%2C%20-84.189705%5D%2C%20%5B44.52249000000001%2C%20-93.294176%5D%2C%20%5B30.16673%2C%20-81.55764%5D%2C%20%5B30.251809%2C%20-81.46037199999998%5D%2C%20%5B34.268513%2C%20-118.435117%5D%2C%20%5B27.260625%2C%20-82.522352%5D%2C%20%5B32.684437%2C%20-96.620476%5D%2C%20%5B38.445852%2C%20-111.804349%5D%2C%20%5B41.787254%2C%20-72.65790600000003%5D%2C%20%5B34.128809999999994%2C%20-118.34688%5D%2C%20%5B38.223377%2C%20-85.578751%5D%2C%20%5B33.18153%2C%20-117.338623%5D%2C%20%5B47.934919%2C%20-122.070623%5D%2C%20%5B34.058640000000004%2C%20-118.454605%5D%2C%20%5B34.172314%2C%20-118.57093799999998%5D%2C%20%5B47.534718%2C%20-122.28067%5D%2C%20%5B33.802879%2C%20-118.081985%5D%2C%20%5B44.952%2C%20-93.17106%5D%2C%20%5B33.898340000000005%2C%20-84.26711%5D%2C%20%5B37.715203%2C%20-122.172643%5D%2C%20%5B40.67314%2C%20-73.80145%5D%2C%20%5B33.247025%2C%20-117.22792%5D%2C%20%5B37.884064%2C%20-122.05333%5D%2C%20%5B35.226406%2C%20-80.910301%5D%2C%20%5B43.18243%2C%20-77.507858%5D%2C%20%5B30.45896%2C%20-91.166267%5D%2C%20%5B27.823891%2C%20-82.653572%5D%2C%20%5B33.876926%2C%20-118.15123%5D%2C%20%5B45.74124000000001%2C%20-123.95277%5D%2C%20%5B35.727531%2C%20-78.578209%5D%2C%20%5B26.84405%2C%20-80.06137%5D%2C%20%5B33.80272%2C%20-118.13193%5D%2C%20%5B45.227718%2C%20-93.39856%5D%2C%20%5B32.988794%2C%20-117.255352%5D%2C%20%5B42.964329%2C%20-85.66499300000002%5D%2C%20%5B34.02552%2C%20-118.20569%5D%2C%20%5B40.178303%2C%20-76.83651%5D%2C%20%5B32.411152%2C%20-110.940109%5D%2C%20%5B29.602718%2C%20-98.365768%5D%2C%20%5B42.932564%2C%20-78.76619000000002%5D%2C%20%5B37.50436%2C%20-77.61119000000002%5D%2C%20%5B34.42522%2C%20-83.80688599999998%5D%2C%20%5B40.068451%2C%20-82.429062%5D%2C%20%5B44.97398%2C%20-93.39641%5D%2C%20%5B39.167257%2C%20-94.558285%5D%2C%20%5B39.796398%2C%20-105.053345%5D%2C%20%5B32.230740000000004%2C%20-80.917641%5D%2C%20%5B41.679004%2C%20-120.380603%5D%2C%20%5B40.878551%2C%20-76.799278%5D%2C%20%5B35.471588%2C%20-97.643379%5D%2C%20%5B36.13409%2C%20-79.78969000000002%5D%2C%20%5B35.89196%2C%20-78.601791%5D%2C%20%5B34.88319%2C%20-82.603172%5D%2C%20%5B38.811272%2C%20-76.962723%5D%2C%20%5B41.962768%2C%20-83.67241%5D%2C%20%5B25.577%2C%20-80.36452%5D%2C%20%5B40.828316%2C%20-73.93111400000002%5D%2C%20%5B42.695904%2C%20-73.84127%5D%2C%20%5B34.127583%2C%20-118.273705%5D%2C%20%5B32.78798%2C%20-117.114116%5D%2C%20%5B39.290268%2C%20-84.441216%5D%2C%20%5B33.980587%2C%20-118.43898%5D%2C%20%5B37.015934%2C%20-76.326973%5D%2C%20%5B39.645027%2C%20-77.71914699999998%5D%2C%20%5B25.986885%2C%20-80.165276%5D%2C%20%5B41.39827%2C%20-73.60011300000002%5D%2C%20%5B43.044621%2C%20-88.03566%5D%2C%20%5B41.54531%2C%20-71.47686999999998%5D%2C%20%5B43.820332%2C%20-124.15122%5D%2C%20%5B34.064797%2C%20-118.158291%5D%2C%20%5B31.307522%2C%20-89.316521%5D%2C%20%5B37.673894%2C%20-113.07996%5D%2C%20%5B36.152466%2C%20-86.857674%5D%2C%20%5B44.999046%2C%20-93.089401%5D%2C%20%5B35.788227%2C%20-78.641838%5D%2C%20%5B34.030612%2C%20-117.623502%5D%2C%20%5B39.219173%2C%20-76.65853100000002%5D%2C%20%5B30.647579%2C%20-91.148392%5D%2C%20%5B40.232666%2C%20-75.52718399999998%5D%2C%20%5B33.889462%2C%20-79.798698%5D%2C%20%5B40.715733%2C%20-73.826256%5D%2C%20%5B41.540051%2C%20-73.01645699999997%5D%2C%20%5B40.605343%2C%20-89.465843%5D%2C%20%5B38.981513%2C%20-76.16491500000002%5D%2C%20%5B45.49088%2C%20-122.678529%5D%2C%20%5B34.017433000000004%2C%20-78.94393199999998%5D%2C%20%5B37.41917%2C%20-122.0902%5D%2C%20%5B39.92472100000001%2C%20-74.783234%5D%2C%20%5B35.25052%2C%20-80.84486%5D%2C%20%5B34.017284000000004%2C%20-117.468141%5D%2C%20%5B34.287040999999995%2C%20-118.406853%5D%2C%20%5B40.738503%2C%20-74.217003%5D%2C%20%5B33.935919%2C%20-117.290478%5D%2C%20%5B34.30512%2C%20-119.347347%5D%2C%20%5B36.82304%2C%20-119.729095%5D%2C%20%5B36.549679%2C%20-121.732613%5D%2C%20%5B42.690521%2C%20-71.20623%5D%2C%20%5B33.59137%2C%20-79.440628%5D%2C%20%5B40.136414%2C%20-75.159401%5D%2C%20%5B41.90578%2C%20-87.96486%5D%2C%20%5B28.025698%2C%20-82.549789%5D%2C%20%5B37.431032%2C%20-122.17813%5D%2C%20%5B26.003249%2C%20-80.167066%5D%2C%20%5B37.636341%2C%20-122.100113%5D%2C%20%5B39.627924%2C%20-77.775035%5D%2C%20%5B34.365108%2C%20-118.503716%5D%2C%20%5B41.454853%2C%20-74.06469%5D%2C%20%5B42.90247700000001%2C%20-73.786079%5D%2C%20%5B37.824951%2C%20-122.310479%5D%2C%20%5B29.92887%2C%20-95.41205%5D%2C%20%5B40.70587%2C%20-73.8181%5D%2C%20%5B45.705246%2C%20-120.300412%5D%2C%20%5B37.06649%2C%20-121.219147%5D%2C%20%5B29.948963%2C%20-95.422188%5D%2C%20%5B34.038346000000004%2C%20-118.702704%5D%2C%20%5B40.7922%2C%20-77.700121%5D%2C%20%5B32.815490999999994%2C%20-96.788963%5D%2C%20%5B32.91211%2C%20-96.73633%5D%2C%20%5B37.9636%2C%20-122.51175%5D%2C%20%5B31.783482%2C%20-106.407372%5D%2C%20%5B33.896159999999995%2C%20-84.25111%5D%2C%20%5B33.724996999999995%2C%20-117.292823%5D%2C%20%5B39.00617%2C%20-76.89825%5D%2C%20%5B32.681075%2C%20-117.08673799999998%5D%2C%20%5B45.83604%2C%20-118.4212%5D%2C%20%5B32.983090000000004%2C%20-96.712416%5D%2C%20%5B44.8597%2C%20-93.366%5D%2C%20%5B30.228645%2C%20-97.702843%5D%2C%20%5B38.34383%2C%20-120.883057%5D%2C%20%5B41.918741%2C%20-87.62917%5D%2C%20%5B34.2332%2C%20-118.410217%5D%2C%20%5B34.16922%2C%20-117.337535%5D%2C%20%5B39.169224%2C%20-123.211388%5D%2C%20%5B40.06522%2C%20-80.57338%5D%2C%20%5B34.135562%2C%20-117.99461200000002%5D%2C%20%5B44.889751%2C%20-93.38987%5D%2C%20%5B44.848316%2C%20-93.152847%5D%2C%20%5B33.842868%2C%20-118.206283%5D%2C%20%5B36.98288%2C%20-121.9688%5D%2C%20%5B37.898901%2C%20-78.047758%5D%2C%20%5B34.082355%2C%20-117.544639%5D%2C%20%5B42.236682%2C%20-123.10576100000002%5D%2C%20%5B41.293171%2C%20-73.870506%5D%2C%20%5B28.59063%2C%20-81.37906%5D%2C%20%5B47.46234000000001%2C%20-122.25001%5D%2C%20%5B39.27808%2C%20-77.32361999999998%5D%2C%20%5B30.450159000000006%2C%20-91.160004%5D%2C%20%5B47.687321%2C%20-117.378967%5D%2C%20%5B40.117268%2C%20-83.067245%5D%2C%20%5B39.681667%2C%20-84.230522%5D%2C%20%5B33.757103%2C%20-84.468964%5D%2C%20%5B35.38347800000001%2C%20-119.136724%5D%2C%20%5B34.053577000000004%2C%20-112.145676%5D%2C%20%5B45.6953%2C%20-121.31345%5D%2C%20%5B33.093477%2C%20-84.90982%5D%2C%20%5B42.944279%2C%20-83.667152%5D%2C%20%5B34.971932%2C%20-81.940268%5D%2C%20%5B38.770699%2C%20-90.23893%5D%2C%20%5B33.04838%2C%20-117.28706%5D%2C%20%5B30.152592%2C%20-97.696315%5D%2C%20%5B45.507393%2C%20-122.718964%5D%2C%20%5B33.846693%2C%20-118.206772%5D%2C%20%5B42.43993%2C%20-123.29735%5D%2C%20%5B35.00853%2C%20-85.1532%5D%2C%20%5B34.864479%2C%20-118.158302%5D%2C%20%5B29.727852%2C%20-95.57608%5D%2C%20%5B42.739197%2C%20-83.451279%5D%2C%20%5B30.479404%2C%20-97.803329%5D%2C%20%5B38.018513%2C%20-122.266289%5D%2C%20%5B34.153690000000005%2C%20-118.32574%5D%2C%20%5B33.67283%2C%20-112.02379%5D%2C%20%5B45.475658%2C%20-122.493217%5D%2C%20%5B39.824863%2C%20-86.159195%5D%2C%20%5B34.015759%2C%20-118.155907%5D%2C%20%5B41.10331%2C%20-96.25338%5D%2C%20%5B35.23603400000001%2C%20-80.839546%5D%2C%20%5B41.716866%2C%20-88.007217%5D%2C%20%5B25.685207%2C%20-80.418021%5D%2C%20%5B42.357825%2C%20-76.200388%5D%2C%20%5B37.513277%2C%20-77.69438000000002%5D%2C%20%5B42.7687%2C%20-86.077347%5D%2C%20%5B41.37137%2C%20-72.86936999999998%5D%2C%20%5B33.968163%2C%20-118.16787%5D%2C%20%5B40.013107%2C%20-76.317254%5D%2C%20%5B27.694459%2C%20-82.410434%5D%2C%20%5B33.92345%2C%20-84.48664000000002%5D%2C%20%5B25.702311%2C%20-80.334129%5D%2C%20%5B38.76722%2C%20-121.25326499999998%5D%2C%20%5B34.117496%2C%20-117.846329%5D%2C%20%5B42.300591%2C%20-83.18129%5D%2C%20%5B37.394272%2C%20-77.429337%5D%2C%20%5B32.83698%2C%20-96.9854%5D%2C%20%5B35.775157%2C%20-78.71337700000002%5D%2C%20%5B42.456159%2C%20-71.751316%5D%2C%20%5B47.683048%2C%20-122.300789%5D%2C%20%5B41.12505%2C%20-73.42535%5D%2C%20%5B37.592782%2C%20-77.481287%5D%2C%20%5B38.70415%2C%20-121.31289%5D%2C%20%5B35.757298%2C%20-78.61409%5D%2C%20%5B28.612617%2C%20-81.49839%5D%2C%20%5B29.91671%2C%20-95.41274%5D%2C%20%5B41.56213%2C%20-87.43235%5D%2C%20%5B34.067875%2C%20-118.029144%5D%2C%20%5B42.624882%2C%20-83.04632600000002%5D%2C%20%5B45.32873%2C%20-93.56098%5D%2C%20%5B36.758069%2C%20-76.29782900000002%5D%2C%20%5B36.06083%2C%20-95.875951%5D%2C%20%5B32.481823%2C%20-93.756287%5D%2C%20%5B33.457003%2C%20-117.104449%5D%2C%20%5B39.862354%2C%20-75.100563%5D%2C%20%5B27.386539000000006%2C%20-82.43325%5D%2C%20%5B25.828112%2C%20-80.206231%5D%2C%20%5B41.68313%2C%20-88.07160999999998%5D%2C%20%5B28.362658000000003%2C%20-81.517738%5D%2C%20%5B35.064121%2C%20-80.815758%5D%2C%20%5B37.562916%2C%20-77.475037%5D%2C%20%5B33.846611%2C%20-118.20561200000002%5D%2C%20%5B37.5564%2C%20-122.284973%5D%2C%20%5B40.46570300000001%2C%20-122.30518%5D%2C%20%5B43.133892%2C%20-77.719353%5D%2C%20%5B47.23906%2C%20-122.41054%5D%2C%20%5B40.57400300000001%2C%20-111.89999%5D%2C%20%5B25.886595%2C%20-80.133235%5D%2C%20%5B32.91978%2C%20-96.8523%5D%2C%20%5B41.05925%2C%20-111.96247%5D%2C%20%5B32.836777000000005%2C%20-96.959129%5D%2C%20%5B41.137581%2C%20-96.042923%5D%2C%20%5B34.221371000000005%2C%20-118.473106%5D%2C%20%5B40.005955%2C%20-75.196494%5D%2C%20%5B28.034218%2C%20-82.454735%5D%2C%20%5B26.03921%2C%20-80.16368%5D%2C%20%5B39.633388%2C%20-84.270494%5D%2C%20%5B33.569658000000004%2C%20-117.67206000000002%5D%2C%20%5B32.385399%2C%20-86.25739300000002%5D%2C%20%5B41.297119%2C%20-96.023766%5D%2C%20%5B28.61841%2C%20-81.41481800000003%5D%2C%20%5B38.74355%2C%20-77.18796%5D%2C%20%5B40.920479%2C%20-74.07081600000002%5D%2C%20%5B42.762939%2C%20-73.762451%5D%2C%20%5B38.774624%2C%20-120.297581%5D%2C%20%5B42.9025%2C%20-78.900612%5D%2C%20%5B39.629542%2C%20-122.006883%5D%2C%20%5B35.34412000000001%2C%20-80.84806999999998%5D%2C%20%5B33.585602%2C%20-84.378586%5D%2C%20%5B45.53252%2C%20-122.63282%5D%2C%20%5B42.88528%2C%20-85.89076999999997%5D%2C%20%5B39.919789%2C%20-75.26472199999998%5D%2C%20%5B34.273353%2C%20-118.569729%5D%2C%20%5B43.00494000000001%2C%20-78.947906%5D%2C%20%5B35.81521%2C%20-78.6908%5D%2C%20%5B37.605705%2C%20-77.449921%5D%2C%20%5B44.97706%2C%20-93.08853%5D%2C%20%5B33.56605%2C%20-117.724113%5D%2C%20%5B38.496001%2C%20-121.453825%5D%2C%20%5B43.301916%2C%20-123.117573%5D%2C%20%5B30.169798%2C%20-81.606713%5D%2C%20%5B47.742494%2C%20-122.186905%5D%2C%20%5B35.783413%2C%20-78.610985%5D%2C%20%5B30.382471%2C%20-97.686081%5D%2C%20%5B27.44766%2C%20-82.554878%5D%2C%20%5B30.825511%2C%20-88.092399%5D%2C%20%5B36.11898400000001%2C%20-95.851089%5D%2C%20%5B33.182111%2C%20-117.230933%5D%2C%20%5B39.5229%2C%20-111.57546%5D%2C%20%5B40.6407%2C%20-73.74334%5D%2C%20%5B34.266834%2C%20-118.442101%5D%2C%20%5B33.783333%2C%20-78.990303%5D%2C%20%5B35.165413%2C%20-89.86148100000003%5D%2C%20%5B33.31459%2C%20-81.098534%5D%2C%20%5B32.781071000000004%2C%20-96.737663%5D%2C%20%5B34.07182%2C%20-117.88392%5D%2C%20%5B30.286240000000006%2C%20-97.746407%5D%2C%20%5B33.190983%2C%20-117.363022%5D%2C%20%5B36.919437%2C%20-76.269859%5D%2C%20%5B29.398190000000003%2C%20-98.51179%5D%2C%20%5B44.97626%2C%20-93.24667%5D%2C%20%5B36.085381%2C%20-86.727089%5D%2C%20%5B37.58919%2C%20-121.8721%5D%2C%20%5B36.80077100000001%2C%20-119.808583%5D%2C%20%5B38.237309%2C%20-85.62140699999998%5D%2C%20%5B42.928165%2C%20-83.651128%5D%2C%20%5B36.221142%2C%20-86.804893%5D%2C%20%5B34.311751%2C%20-117.476345%5D%2C%20%5B41.572205%2C%20-87.28384399999999%5D%2C%20%5B40.794197%2C%20-111.917175%5D%2C%20%5B40.716122%2C%20-73.826073%5D%2C%20%5B47.462374%2C%20-122.256915%5D%2C%20%5B38.79635%2C%20-77.51769%5D%2C%20%5B36.175869%2C%20-95.90966%5D%2C%20%5B39.505679%2C%20-121.497232%5D%2C%20%5B34.03345%2C%20-118.14574%5D%2C%20%5B34.205441%2C%20-118.218048%5D%2C%20%5B40.725899%2C%20-73.90166500000002%5D%2C%20%5B39.09766%2C%20-94.4879%5D%2C%20%5B45.498901%2C%20-122.513847%5D%2C%20%5B39.74289%2C%20-104.73655%5D%2C%20%5B41.90443%2C%20-88.03249%5D%2C%20%5B43.235565%2C%20-73.692513%5D%2C%20%5B41.95586%2C%20-87.73456999999998%5D%2C%20%5B29.634272%2C%20-95.426037%5D%2C%20%5B42.373352%2C%20-83.059563%5D%2C%20%5B43.028641%2C%20-76.157944%5D%2C%20%5B40.155791%2C%20-77.29818399999998%5D%2C%20%5B34.069596000000004%2C%20-81.225133%5D%2C%20%5B38.912151%2C%20-77.49852%5D%2C%20%5B35.50761400000001%2C%20-97.565651%5D%2C%20%5B34.524809999999995%2C%20-83.528166%5D%2C%20%5B27.900398%2C%20-82.638931%5D%2C%20%5B33.807049%2C%20-117.50724%5D%2C%20%5B34.15482%2C%20-118.23978%5D%2C%20%5B41.92793%2C%20-87.68799%5D%2C%20%5B44.957331%2C%20-93.196216%5D%2C%20%5B36.602854%2C%20-119.790839%5D%2C%20%5B34.264585%2C%20-119.23566%5D%2C%20%5B42.33873%2C%20-88.00478000000003%5D%2C%20%5B34.747311%2C%20-86.775452%5D%2C%20%5B42.490555%2C%20-83.116127%5D%2C%20%5B33.876417%2C%20-118.168784%5D%2C%20%5B41.138895%2C%20-111.83366399999998%5D%2C%20%5B29.404081%2C%20-98.550764%5D%2C%20%5B39.06324%2C%20-84.03243%5D%2C%20%5B42.491627%2C%20-83.02776300000002%5D%2C%20%5B40.483677%2C%20-111.899147%5D%2C%20%5B39.397841%2C%20-77.408516%5D%2C%20%5B39.432538%2C%20-108.072292%5D%2C%20%5B40.89769%2C%20-73.79689%5D%2C%20%5B32.711182%2C%20-96.908516%5D%2C%20%5B35.90133%2C%20-81.09149000000002%5D%2C%20%5B26.003404%2C%20-80.338994%5D%2C%20%5B27.479009%2C%20-82.636791%5D%2C%20%5B34.26712%2C%20-118.472244%5D%2C%20%5B28.0494%2C%20-82.7387%5D%2C%20%5B34.03655%2C%20-118.15644%5D%2C%20%5B39.446575%2C%20-77.055591%5D%2C%20%5B34.15297%2C%20-118.27965%5D%2C%20%5B37.323948%2C%20-121.892509%5D%2C%20%5B41.464504%2C%20-81.988876%5D%2C%20%5B39.373489%2C%20-76.74646%5D%2C%20%5B37.82262%2C%20-122.26136%5D%2C%20%5B43.166412%2C%20-77.636765%5D%2C%20%5B38.920581%2C%20-75.935913%5D%2C%20%5B34.122741999999995%2C%20-117.514648%5D%2C%20%5B29.937519%2C%20-95.459892%5D%2C%20%5B35.130653%2C%20-106.53334%5D%2C%20%5B41.792998%2C%20-73.077987%5D%2C%20%5B38.5762%2C%20-121.31308%5D%2C%20%5B31.77148%2C%20-106.47383%5D%2C%20%5B33.979359%2C%20-81.113388%5D%2C%20%5B44.10339000000001%2C%20-94.23668%5D%2C%20%5B37.566383%2C%20-122.041718%5D%2C%20%5B28.79503%2C%20-81.34669%5D%2C%20%5B38.497616%2C%20-121.103492%5D%2C%20%5B44.037675%2C%20-116.996353%5D%2C%20%5B35.794292%2C%20-78.583038%5D%2C%20%5B47.172561%2C%20-95.686576%5D%2C%20%5B29.42309%2C%20-98.50165%5D%2C%20%5B40.006706%2C%20-75.703186%5D%2C%20%5B28.085037%2C%20-81.970024%5D%2C%20%5B41.761313%2C%20-87.94511%5D%2C%20%5B30.707741%2C%20-87.90106999999998%5D%2C%20%5B41.831123%2C%20-88.054314%5D%2C%20%5B39.924735%2C%20-104.803596%5D%2C%20%5B47.569607%2C%20-122.682008%5D%2C%20%5B30.65435%2C%20-91.191048%5D%2C%20%5B33.48205%2C%20-112.11273%5D%2C%20%5B33.984337%2C%20-117.842659%5D%2C%20%5B33.6987%2C%20-117.86175%5D%2C%20%5B35.237942%2C%20-80.885811%5D%2C%20%5B38.02261%2C%20-84.413513%5D%2C%20%5B34.173404999999995%2C%20-118.548583%5D%2C%20%5B35.160824%2C%20-80.86308299999997%5D%2C%20%5B37.643676%2C%20-122.447229%5D%2C%20%5B33.921513%2C%20-118.034912%5D%2C%20%5B35.276676%2C%20-81.229996%5D%2C%20%5B40.625606%2C%20-75.482715%5D%2C%20%5B33.462685%2C%20-112.220184%5D%2C%20%5B35.214298%2C%20-80.687263%5D%2C%20%5B32.250834999999995%2C%20-110.892906%5D%2C%20%5B43.194988%2C%20-77.68802600000002%5D%2C%20%5B45.51589%2C%20-122.69827%5D%2C%20%5B34.754096999999994%2C%20-82.24638399999998%5D%2C%20%5B42.098732%2C%20-88.376122%5D%2C%20%5B44.9709%2C%20-93.43286%5D%2C%20%5B37.44263%2C%20-121.89017%5D%2C%20%5B37.119867%2C%20-121.976035%5D%2C%20%5B33.772487%2C%20-117.871198%5D%2C%20%5B34.817627%2C%20-82.424338%5D%2C%20%5B34.47337%2C%20-117.124439%5D%2C%20%5B29.68803%2C%20-95.575516%5D%2C%20%5B39.5663%2C%20-105.061%5D%2C%20%5B34.785019%2C%20-80.09833499999998%5D%2C%20%5B38.88941%2C%20-76.91025%5D%2C%20%5B40.161682%2C%20-75.13020300000002%5D%2C%20%5B34.102695000000004%2C%20-118.197575%5D%2C%20%5B34.071325%2C%20-118.134484%5D%2C%20%5B38.033981%2C%20-121.972672%5D%2C%20%5B33.807751%2C%20-79.58426700000003%5D%2C%20%5B40.63594000000001%2C%20-111.80555%5D%2C%20%5B35.925288%2C%20-84.057726%5D%2C%20%5B36.92296%2C%20-76.2805%5D%2C%20%5B35.383419%2C%20-118.998383%5D%2C%20%5B34.815096999999994%2C%20-118.883873%5D%2C%20%5B36.887688%2C%20-120.05603%5D%2C%20%5B29.689157%2C%20-95.467674%5D%2C%20%5B29.438499%2C%20-98.474482%5D%2C%20%5B37.824861%2C%20-122.313611%5D%2C%20%5B31.90275%2C%20-106.38797%5D%2C%20%5B25.920233%2C%20-80.214813%5D%2C%20%5B41.794476%2C%20-87.631599%5D%2C%20%5B41.87116%2C%20-87.84857%5D%2C%20%5B30.224617%2C%20-92.027206%5D%2C%20%5B41.953892%2C%20-87.71167%5D%2C%20%5B34.235527000000005%2C%20-118.467606%5D%2C%20%5B29.763451%2C%20-95.471078%5D%2C%20%5B35.389297%2C%20-118.978467%5D%2C%20%5B32.94423%2C%20-117.10858%5D%2C%20%5B44.28464500000001%2C%20-94.391891%5D%2C%20%5B37.73846500000001%2C%20-122.194624%5D%2C%20%5B43.119377%2C%20-83.702438%5D%2C%20%5B35.53472700000001%2C%20-81.210454%5D%2C%20%5B41.14108%2C%20-83.65902%5D%2C%20%5B32.7948%2C%20-86.85717199999998%5D%2C%20%5B32.625285%2C%20-117.094184%5D%2C%20%5B37.903481%2C%20-122.070457%5D%2C%20%5B28.47286%2C%20-81.36783%5D%2C%20%5B39.63849%2C%20-104.82311%5D%2C%20%5B34.054516%2C%20-118.202995%5D%2C%20%5B39.28233400000001%2C%20-104.896689%5D%2C%20%5B40.42105%2C%20-80.04326400000002%5D%2C%20%5B32.745228000000004%2C%20-96.726883%5D%2C%20%5B34.824903000000006%2C%20-79.586795%5D%2C%20%5B44.426256%2C%20-121.877935%5D%2C%20%5B30.56543%2C%20-88.34322399999998%5D%2C%20%5B36.21949%2C%20-86.69327%5D%2C%20%5B43.21392700000001%2C%20-77.51424499999997%5D%2C%20%5B25.76088%2C%20-80.418865%5D%2C%20%5B38.881698%2C%20-77.449139%5D%2C%20%5B41.178009%2C%20-112.00119%5D%2C%20%5B33.813251%2C%20-79.019577%5D%2C%20%5B40.635612%2C%20-111.901451%5D%2C%20%5B41.465057%2C%20-81.693214%5D%2C%20%5B40.672549%2C%20-111.427973%5D%2C%20%5B36.158973%2C%20-115.286038%5D%2C%20%5B30.152883000000006%2C%20-85.56689%5D%2C%20%5B34.082434%2C%20-118.223131%5D%2C%20%5B26.676285%2C%20-80.069511%5D%2C%20%5B25.68805%2C%20-80.393952%5D%2C%20%5B34.6658%2C%20-82.51529000000002%5D%2C%20%5B33.957382%2C%20-117.860619%5D%2C%20%5B39.587754%2C%20-84.554578%5D%2C%20%5B37.54886%2C%20-77.44733000000002%5D%2C%20%5B30.424919%2C%20-91.157453%5D%2C%20%5B34.074169%2C%20-80.896187%5D%2C%20%5B29.93709%2C%20-95.546661%5D%2C%20%5B41.737183%2C%20-74.063354%5D%2C%20%5B27.447719%2C%20-82.562855%5D%2C%20%5B41.82498%2C%20-87.71865%5D%2C%20%5B33.892632%2C%20-118.285873%5D%2C%20%5B39.478119%2C%20-87.014802%5D%2C%20%5B33.988918%2C%20-117.339844%5D%2C%20%5B35.46431%2C%20-97.689049%5D%2C%20%5B37.993899%2C%20-122.297627%5D%2C%20%5B42.31700900000001%2C%20-71.065086%5D%2C%20%5B42.061854%2C%20-71.061512%5D%2C%20%5B32.84045%2C%20-117.138351%5D%2C%20%5B32.35883%2C%20-111.08962%5D%2C%20%5B32.235451%2C%20-110.806793%5D%2C%20%5B38.597008%2C%20-121.504082%5D%2C%20%5B39.439453%2C%20-119.765404%5D%2C%20%5B33.431531%2C%20-112.596735%5D%2C%20%5B33.632896%2C%20-84.400795%5D%2C%20%5B42.981808%2C%20-85.69413%5D%2C%20%5B34.030415000000005%2C%20-117.615852%5D%2C%20%5B34.072933%2C%20-80.97052%5D%2C%20%5B44.972836%2C%20-123.021148%5D%2C%20%5B34.131004%2C%20-82.12616%5D%2C%20%5B34.032379%2C%20-118.029152%5D%2C%20%5B31.760618%2C%20-106.267693%5D%2C%20%5B34.09805%2C%20-118.24683%5D%2C%20%5B27.29997%2C%20-82.497632%5D%2C%20%5B28.53918%2C%20-81.47573%5D%2C%20%5B37.108807%2C%20-121.018059%5D%2C%20%5B42.94390900000001%2C%20-83.731796%5D%2C%20%5B30.272439%2C%20-82.141648%5D%2C%20%5B44.968906%2C%20-93.343636%5D%2C%20%5B36.09838900000001%2C%20-86.677299%5D%2C%20%5B33.925282%2C%20-118.327019%5D%2C%20%5B37.3514%2C%20-121.91473%5D%2C%20%5B33.051426%2C%20-97.00943%5D%2C%20%5B34.133603%2C%20-117.93341%5D%2C%20%5B40.03841%2C%20-75.35346%5D%2C%20%5B35.190956%2C%20-80.96901700000002%5D%2C%20%5B26.259996%2C%20-80.13323199999998%5D%2C%20%5B40.25665%2C%20-76.90059000000002%5D%2C%20%5B33.802788%2C%20-118.120247%5D%2C%20%5B40.766006%2C%20-73.951181%5D%2C%20%5B35.387281%2C%20-119.044619%5D%2C%20%5B40.72474%2C%20-111.90361%5D%2C%20%5B41.19164%2C%20-79.42304%5D%2C%20%5B34.338742%2C%20-118.506949%5D%2C%20%5B39.587025%2C%20-119.824081%5D%2C%20%5B28.232540000000004%2C%20-82.371597%5D%2C%20%5B30.456381%2C%20-84.28067800000002%5D%2C%20%5B29.862357%2C%20-95.532519%5D%2C%20%5B40.548096%2C%20-77.60542199999998%5D%2C%20%5B36.147987%2C%20-95.833206%5D%2C%20%5B35.02608%2C%20-82.03274%5D%2C%20%5B33.76483%2C%20-117.86547%5D%2C%20%5B38.537319%2C%20-121.365753%5D%2C%20%5B38.758861%2C%20-90.431217%5D%2C%20%5B37.967983%2C%20-121.346916%5D%2C%20%5B34.226074%2C%20-79.794984%5D%2C%20%5B40.166634%2C%20-74.92349200000002%5D%2C%20%5B28.354049%2C%20-81.52543100000003%5D%2C%20%5B35.696651%2C%20-78.574219%5D%2C%20%5B33.579678%2C%20-86.712074%5D%2C%20%5B40.782524%2C%20-111.910927%5D%2C%20%5B42.4101%2C%20-87.85499%5D%2C%20%5B29.705465000000004%2C%20-95.493073%5D%2C%20%5B27.432486%2C%20-82.575461%5D%2C%20%5B33.888202%2C%20-84.254319%5D%2C%20%5B33.66795%2C%20-112.22048%5D%2C%20%5B39.770782%2C%20-86.143333%5D%2C%20%5B29.686531%2C%20-95.558357%5D%2C%20%5B42.912785%2C%20-85.53625500000003%5D%2C%20%5B42.25046500000001%2C%20-73.884209%5D%2C%20%5B33.965278999999995%2C%20-79.723427%5D%2C%20%5B39.55705%2C%20-84.27569%5D%2C%20%5B40.12063%2C%20-88.09746%5D%2C%20%5B32.177925%2C%20-110.952469%5D%2C%20%5B40.665275%2C%20-122.636538%5D%2C%20%5B38.607986%2C%20-121.415352%5D%2C%20%5B38.844894%2C%20-104.787292%5D%2C%20%5B25.87233%2C%20-80.32298%5D%2C%20%5B41.13989%2C%20-112.0453%5D%2C%20%5B39.375912%2C%20-77.409775%5D%2C%20%5B41.57782%2C%20-87.58055999999998%5D%2C%20%5B34.043171%2C%20-81.10849%5D%2C%20%5B39.45394%2C%20-77.32486%5D%2C%20%5B39.802361%2C%20-104.984398%5D%2C%20%5B33.844902000000005%2C%20-117.828819%5D%2C%20%5B38.365212%2C%20-122.781224%5D%2C%20%5B30.449762%2C%20-91.172752%5D%2C%20%5B39.814034%2C%20-84.132607%5D%2C%20%5B41.87388%2C%20-87.90403%5D%2C%20%5B26.723695000000006%2C%20-80.09163000000002%5D%2C%20%5B34.203987%2C%20-82.200211%5D%2C%20%5B41.585014%2C%20-88.170128%5D%2C%20%5B38.029968%2C%20-84.51004%5D%2C%20%5B33.743259%2C%20-84.370163%5D%2C%20%5B39.821132%2C%20-75.54711400000002%5D%2C%20%5B45.50682000000001%2C%20-122.67098%5D%2C%20%5B34.419769%2C%20-118.65683%5D%2C%20%5B27.960295%2C%20-82.456726%5D%2C%20%5B34.121311%2C%20-117.261817%5D%2C%20%5B33.687344%2C%20-117.885674%5D%2C%20%5B42.992908%2C%20-83.633881%5D%2C%20%5B38.29138%2C%20-122.03451%5D%2C%20%5B35.230297%2C%20-80.93447900000002%5D%2C%20%5B29.711463%2C%20-95.46001%5D%2C%20%5B30.269756%2C%20-97.753166%5D%2C%20%5B42.43055%2C%20-123.06462%5D%2C%20%5B35.120090000000005%2C%20-81.121391%5D%2C%20%5B33.68453%2C%20-84.34822%5D%2C%20%5B40.00473%2C%20-85.557129%5D%2C%20%5B35.695816%2C%20-120.696491%5D%2C%20%5B38.41888%2C%20-121.89413%5D%2C%20%5B35.27963%2C%20-80.68598%5D%2C%20%5B34.253170000000004%2C%20-80.083786%5D%2C%20%5B27.33502%2C%20-82.44682900000002%5D%2C%20%5B38.140899%2C%20-121.259212%5D%2C%20%5B38.296398%2C%20-120.28405%5D%2C%20%5B37.87640800000001%2C%20-122.046349%5D%2C%20%5B37.186176%2C%20-77.490723%5D%2C%20%5B25.688641%2C%20-80.478554%5D%2C%20%5B33.88774%2C%20-113.95538%5D%2C%20%5B39.393127%2C%20-119.724365%5D%2C%20%5B30.658207%2C%20-91.102386%5D%2C%20%5B30.285261%2C%20-97.705734%5D%2C%20%5B41.03552%2C%20-81.566627%5D%2C%20%5B34.453892%2C%20-82.251221%5D%2C%20%5B33.655163%2C%20-112.000275%5D%2C%20%5B32.19486%2C%20-82.15245999999998%5D%2C%20%5B45.21828%2C%20-93.02786%5D%2C%20%5B33.89621%2C%20-84.36313%5D%2C%20%5B34.01704%2C%20-117.341548%5D%2C%20%5B33.93248%2C%20-118.27972%5D%2C%20%5B38.629196%2C%20-121.509544%5D%2C%20%5B38.50068%2C%20-90.46089%5D%2C%20%5B38.83984%2C%20-104.775909%5D%2C%20%5B47.67586%2C%20-122.321099%5D%2C%20%5B38.4498%2C%20-122.6878%5D%2C%20%5B33.861228000000004%2C%20-117.53736%5D%2C%20%5B36.09008%2C%20-95.85867%5D%2C%20%5B39.148895%2C%20-77.216576%5D%2C%20%5B45.108513%2C%20-93.392387%5D%2C%20%5B36.774635%2C%20-76.277893%5D%2C%20%5B35.10773%2C%20-80.92865%5D%2C%20%5B35.59465%2C%20-97.58605%5D%2C%20%5B42.357029%2C%20-88.067993%5D%2C%20%5B41.670833%2C%20-72.843936%5D%2C%20%5B34.06997%2C%20-117.29582%5D%2C%20%5B40.854153%2C%20-73.965897%5D%2C%20%5B34.011021%2C%20-118.160952%5D%2C%20%5B30.006374%2C%20-90.291801%5D%2C%20%5B44.553399%2C%20-123.11006%5D%2C%20%5B34.0099%2C%20-117.823332%5D%2C%20%5B38.909939%2C%20-77.518723%5D%2C%20%5B34.705139%2C%20-82.246178%5D%2C%20%5B32.960617%2C%20-96.727661%5D%2C%20%5B34.251387%2C%20-118.472178%5D%2C%20%5B25.888695%2C%20-80.163885%5D%2C%20%5B39.059422%2C%20-84.535774%5D%2C%20%5B40.710247%2C%20-73.820999%5D%2C%20%5B34.11095%2C%20-117.1994%5D%2C%20%5B44.77535%2C%20-93.31686%5D%2C%20%5B33.12505%2C%20-117.323952%5D%2C%20%5B34.034206%2C%20-118.349991%5D%2C%20%5B34.157036%2C%20-118.067965%5D%2C%20%5B38.63132%2C%20-121.50487%5D%2C%20%5B41.51367800000001%2C%20-88.010974%5D%2C%20%5B38.671181%2C%20-77.248711%5D%2C%20%5B33.993233000000004%2C%20-117.357255%5D%2C%20%5B47.690289%2C%20-117.437737%5D%2C%20%5B37.828934%2C%20-122.29377%5D%2C%20%5B41.14545%2C%20-78.78291999999998%5D%2C%20%5B34.154179%2C%20-118.468226%5D%2C%20%5B30.365578000000006%2C%20-97.717857%5D%2C%20%5B40.08421%2C%20-75.41026%5D%2C%20%5B42.347321%2C%20-71.08760799999997%5D%2C%20%5B39.55705%2C%20-84.27569%5D%2C%20%5B34.003983000000005%2C%20-117.83016200000002%5D%2C%20%5B33.61965%2C%20-112.11674%5D%2C%20%5B34.152%2C%20-118.132477%5D%2C%20%5B39.29884000000001%2C%20-84.44064%5D%2C%20%5B34.914444%2C%20-118.923333%5D%2C%20%5B40.067898%2C%20-75.666382%5D%2C%20%5B33.94485%2C%20-118.09916%5D%2C%20%5B43.150825%2C%20-83.763624%5D%2C%20%5B25.701996%2C%20-80.285302%5D%2C%20%5B35.054649%2C%20-80.850349%5D%2C%20%5B39.8357%2C%20-86.03797%5D%2C%20%5B45.562679%2C%20-122.678474%5D%2C%20%5B33.93096%2C%20-118.35249%5D%2C%20%5B41.494221%2C%20-81.682556%5D%2C%20%5B39.943108%2C%20-104.987839%5D%2C%20%5B33.437813%2C%20-82.026154%5D%2C%20%5B38.394611%2C%20-122.70668%5D%2C%20%5B29.498859000000003%2C%20-98.550549%5D%2C%20%5B44.85581%2C%20-93.39358%5D%2C%20%5B28.453787%2C%20-81.474165%5D%2C%20%5B34.51593%2C%20-82.690407%5D%2C%20%5B37.727306%2C%20-122.402786%5D%2C%20%5B37.827718%2C%20-122.232528%5D%2C%20%5B33.862865%2C%20-117.259636%5D%2C%20%5B40.143124%2C%20-82.989265%5D%2C%20%5B27.996058%2C%20-82.50095400000002%5D%2C%20%5B31.739649%2C%20-106.32489%5D%2C%20%5B44.963347%2C%20-94.3681%5D%2C%20%5B37.330368%2C%20-121.82444%5D%2C%20%5B34.960056%2C%20-81.8666%5D%2C%20%5B44.666161%2C%20-93.929489%5D%2C%20%5B32.925644%2C%20-80.664772%5D%2C%20%5B38.91138%2C%20-94.51923%5D%2C%20%5B44.934505%2C%20-120.118445%5D%2C%20%5B29.801695%2C%20-95.267456%5D%2C%20%5B26.166247%2C%20-80.159672%5D%2C%20%5B28.425031%2C%20-81.40474%5D%2C%20%5B42.47464%2C%20-83.17326%5D%2C%20%5B36.100617%2C%20-118.837469%5D%2C%20%5B33.808815%2C%20-118.156349%5D%2C%20%5B34.85428%2C%20-116.88527%5D%2C%20%5B35.241593%2C%20-80.84369000000002%5D%2C%20%5B37.542%2C%20-77.3997%5D%2C%20%5B29.396107%2C%20-98.497856%5D%2C%20%5B37.47868%2C%20-77.515388%5D%2C%20%5B41.226006%2C%20-95.952667%5D%2C%20%5B43.224125%2C%20-71.507385%5D%2C%20%5B34.913952%2C%20-82.107651%5D%2C%20%5B39.749352%2C%20-86.233209%5D%2C%20%5B25.670941%2C%20-80.414505%5D%2C%20%5B34.829577%2C%20-117.026528%5D%2C%20%5B40.4094%2C%20-74.3056%5D%2C%20%5B42.557565%2C%20-121.883709%5D%2C%20%5B45.508591%2C%20-122.778008%5D%2C%20%5B40.916012%2C%20-74.81549100000002%5D%2C%20%5B34.04096%2C%20-118.05963%5D%2C%20%5B27.441691%2C%20-80.391286%5D%2C%20%5B34.135476000000004%2C%20-117.965344%5D%2C%20%5B34.400098%2C%20-79.125438%5D%2C%20%5B33.422290000000004%2C%20-111.84828%5D%2C%20%5B38.351827%2C%20-121.340112%5D%2C%20%5B31.501062%2C%20-97.227562%5D%2C%20%5B39.823429%2C%20-84.405243%5D%2C%20%5B42.910696%2C%20-70.86485%5D%2C%20%5B28.453623%2C%20-82.625771%5D%2C%20%5B32.758556%2C%20-96.81192%5D%2C%20%5B39.758888%2C%20-105.007549%5D%2C%20%5B38.496395%2C%20-121.446463%5D%2C%20%5B42.7679%2C%20-73.76195%5D%2C%20%5B42.01185%2C%20-87.7541%5D%2C%20%5B39.802212%2C%20-86.083344%5D%2C%20%5B35.325607%2C%20-80.84343%5D%2C%20%5B40.400928%2C%20-74.229271%5D%2C%20%5B41.569551%2C%20-87.362712%5D%2C%20%5B34.143295%2C%20-118.740265%5D%2C%20%5B27.813881%2C%20-82.770241%5D%2C%20%5B37.74437%2C%20-97.31889%5D%2C%20%5B43.90708%2C%20-91.3533%5D%2C%20%5B27.872473%2C%20-82.762245%5D%2C%20%5B30.31641%2C%20-81.524834%5D%2C%20%5B41.87019%2C%20-87.89125%5D%2C%20%5B33.080890000000004%2C%20-117.29686%5D%2C%20%5B39.32654%2C%20-121.535559%5D%2C%20%5B29.734549%2C%20-95.391132%5D%2C%20%5B39.194397%2C%20-84.660904%5D%2C%20%5B33.841356%2C%20-118.265494%5D%2C%20%5B30.33272%2C%20-97.70402%5D%2C%20%5B34.04058%2C%20-118.16967%5D%2C%20%5B40.79699%2C%20-73.47739%5D%2C%20%5B33.775074%2C%20-118.041779%5D%2C%20%5B32.935097%2C%20-96.752731%5D%2C%20%5B37.960629%2C%20-122.50954%5D%2C%20%5B38.46646%2C%20-122.72755%5D%2C%20%5B30.623198%2C%20-81.651409%5D%2C%20%5B43.61809%2C%20-88.599052%5D%2C%20%5B38.96637800000001%2C%20-76.95032900000002%5D%2C%20%5B34.771648%2C%20-82.27275999999998%5D%2C%20%5B40.00984%2C%20-75.04127%5D%2C%20%5B30.735353000000003%2C%20-88.11546899999998%5D%2C%20%5B44.356657%2C%20-91.936253%5D%2C%20%5B45.69392%2C%20-121.32122%5D%2C%20%5B39.70115300000001%2C%20-86.25990300000002%5D%2C%20%5B33.766163%2C%20-117.937693%5D%2C%20%5B35.971562%2C%20-119.290583%5D%2C%20%5B41.941593%2C%20-87.806877%5D%2C%20%5B41.81624%2C%20-87.63011%5D%2C%20%5B28.141325%2C%20-82.756638%5D%2C%20%5B34.030014%2C%20-117.709419%5D%2C%20%5B40.794117%2C%20-77.624753%5D%2C%20%5B30.345636%2C%20-97.799454%5D%2C%20%5B39.75354%2C%20-105.01485%5D%2C%20%5B37.317062%2C%20-121.94059%5D%2C%20%5B30.427872%2C%20-86.639059%5D%2C%20%5B37.322556%2C%20-121.835693%5D%2C%20%5B41.859398%2C%20-88.05611400000002%5D%2C%20%5B37.250729%2C%20-121.910713%5D%2C%20%5B29.824243%2C%20-95.379942%5D%2C%20%5B39.17384000000001%2C%20-77.24659%5D%2C%20%5B34.222488%2C%20-119.142189%5D%2C%20%5B34.299248%2C%20-118.419525%5D%2C%20%5B38.32839600000001%2C%20-122.022087%5D%2C%20%5B29.31587%2C%20-98.553749%5D%2C%20%5B48.042545%2C%20-122.180344%5D%2C%20%5B37.315314%2C%20-79.480327%5D%2C%20%5B28.224613%2C%20-81.181763%5D%2C%20%5B41.176262%2C%20-96.043076%5D%2C%20%5B32.311749%2C%20-86.222786%5D%2C%20%5B32.782089%2C%20-96.769913%5D%2C%20%5B33.88910300000001%2C%20-117.880478%5D%2C%20%5B41.92837%2C%20-87.97161%5D%2C%20%5B38.735748%2C%20-120.666901%5D%2C%20%5B36.18706%2C%20-86.79548%5D%2C%20%5B39.806416%2C%20-84.17920699999998%5D%2C%20%5B34.064236%2C%20-118.005491%5D%2C%20%5B34.034486%2C%20-118.267142%5D%2C%20%5B33.73679%2C%20-84.217007%5D%2C%20%5B47.580242%2C%20-122.174667%5D%2C%20%5B37.681126%2C%20-122.471771%5D%2C%20%5B37.094679%2C%20-113.567722%5D%2C%20%5B41.906216%2C%20-71.042465%5D%2C%20%5B34.504742%2C%20-82.233788%5D%2C%20%5B25.908234%2C%20-80.209891%5D%2C%20%5B38.145809%2C%20-122.109978%5D%2C%20%5B30.443846%2C%20-97.742393%5D%2C%20%5B37.261193%2C%20-122.099465%5D%2C%20%5B34.278%2C%20-119.302254%5D%2C%20%5B42.46982%2C%20-123.33438%5D%2C%20%5B34.05537%2C%20-118.187477%5D%2C%20%5B43.762039%2C%20-124.124527%5D%2C%20%5B36.205936%2C%20-95.975548%5D%2C%20%5B40.66335%2C%20-74.28664300000001%5D%2C%20%5B39.490059%2C%20-76.876984%5D%2C%20%5B28.5494%2C%20-81.382423%5D%2C%20%5B26.36322%2C%20-80.11997%5D%2C%20%5B40.348487%2C%20-111.591665%5D%2C%20%5B39.53177%2C%20-104.86793%5D%2C%20%5B42.26261%2C%20-88.10242%5D%2C%20%5B32.763409%2C%20-96.677608%5D%2C%20%5B43.52543%2C%20-124.2162%5D%2C%20%5B29.78411%2C%20-95.56745%5D%2C%20%5B36.139847%2C%20-86.72647099999998%5D%2C%20%5B35.87532%2C%20-78.623222%5D%2C%20%5B39.593117%2C%20-76.066345%5D%2C%20%5B30.326%2C%20-97.72631%5D%2C%20%5B43.618469%2C%20-124.181332%5D%2C%20%5B36.070278%2C%20-86.945236%5D%2C%20%5B37.689231%2C%20-77.4518%5D%2C%20%5B30.434216%2C%20-91.178777%5D%2C%20%5B34.037857%2C%20-84.562675%5D%2C%20%5B36.068961%2C%20-86.942586%5D%2C%20%5B26.11857%2C%20-80.3352%5D%2C%20%5B42.98098%2C%20-83.71305799999998%5D%2C%20%5B41.850979%2C%20-71.40862299999998%5D%2C%20%5B30.476341%2C%20-97.764626%5D%2C%20%5B34.034111%2C%20-118.22142%5D%2C%20%5B36.949432%2C%20-121.851128%5D%2C%20%5B39.153088%2C%20-76.641121%5D%2C%20%5B37.542194%2C%20-121.270691%5D%2C%20%5B36.758185%2C%20-76.299566%5D%2C%20%5B29.73562%2C%20-95.34725%5D%2C%20%5B43.996819%2C%20-123.006302%5D%2C%20%5B25.81185%2C%20-80.33751%5D%2C%20%5B33.519802%2C%20-117.61946100000002%5D%2C%20%5B30.30526%2C%20-97.736572%5D%2C%20%5B35.296177%2C%20-80.754829%5D%2C%20%5B39.955486%2C%20-75.335883%5D%2C%20%5B33.936275%2C%20-118.046494%5D%2C%20%5B39.420792%2C%20-120.03347%5D%2C%20%5B29.421669%2C%20-98.502083%5D%2C%20%5B33.374657%2C%20-81.973618%5D%2C%20%5B39.218456%2C%20-78.135435%5D%2C%20%5B37.386204%2C%20-122.068443%5D%2C%20%5B40.786346%2C%20-72.96905500000003%5D%2C%20%5B44.931825%2C%20-123.123483%5D%2C%20%5B34.161091%2C%20-118.469627%5D%2C%20%5B41.86175%2C%20-87.64454%5D%2C%20%5B42.080681%2C%20-88.335991%5D%2C%20%5B40.817429%2C%20-73.154167%5D%2C%20%5B40.7548%2C%20-112.013816%5D%2C%20%5B25.922163%2C%20-80.30920400000002%5D%2C%20%5B40.03289%2C%20-75.58679000000002%5D%2C%20%5B42.912621%2C%20-85.608147%5D%2C%20%5B38.93513%2C%20-94.70478%5D%2C%20%5B39.040287%2C%20-94.673241%5D%2C%20%5B33.519676000000004%2C%20-117.61985%5D%2C%20%5B32.880623%2C%20-117.108292%5D%2C%20%5B34.058341%2C%20-118.244351%5D%2C%20%5B38.831383%2C%20-121.171467%5D%2C%20%5B28.51012%2C%20-81.25661%5D%2C%20%5B33.712357%2C%20-84.217262%5D%2C%20%5B38.869846%2C%20-121.132195%5D%2C%20%5B32.27451%2C%20-90.1696%5D%2C%20%5B34.136184%2C%20-117.516835%5D%2C%20%5B38.25839600000001%2C%20-85.73983%5D%2C%20%5B41.06048300000001%2C%20-75.745469%5D%2C%20%5B34.15315%2C%20-118.36151%5D%2C%20%5B29.572332%2C%20-95.109482%5D%2C%20%5B32.778492%2C%20-96.916878%5D%2C%20%5B30.428514%2C%20-91.1603%5D%2C%20%5B37.410606%2C%20-122.07518%5D%2C%20%5B34.145065%2C%20-81.36734%5D%2C%20%5B36.720642%2C%20-120.685059%5D%2C%20%5B29.968728%2C%20-90.084402%5D%2C%20%5B32.940762%2C%20-80.050682%5D%2C%20%5B47.63967%2C%20-122.1867%5D%2C%20%5B27.9974%2C%20-82.3444%5D%2C%20%5B35.030769%2C%20-80.91449%5D%2C%20%5B43.157281%2C%20-77.542136%5D%2C%20%5B39.056324%2C%20-77.15448%5D%2C%20%5B37.96434%2C%20-122.51348%5D%2C%20%5B25.766109%2C%20-80.324516%5D%2C%20%5B32.846342%2C%20-117.118281%5D%2C%20%5B33.049197%2C%20-117.072805%5D%2C%20%5B37.24884%2C%20-121.959694%5D%2C%20%5B33.81266%2C%20-118.16513%5D%2C%20%5B45.70637%2C%20-122.65416%5D%2C%20%5B39.812775%2C%20-84.220001%5D%2C%20%5B28.541079%2C%20-81.49738%5D%2C%20%5B46.660062%2C%20-117.010585%5D%2C%20%5B34.125076%2C%20-118.476775%5D%2C%20%5B37.373695%2C%20-79.303001%5D%2C%20%5B41.82728%2C%20-72.48442%5D%2C%20%5B34.35537%2C%20-117.438961%5D%2C%20%5B43.027168%2C%20-77.96505%5D%2C%20%5B32.221001%2C%20-110.834579%5D%2C%20%5B41.62603%2C%20-87.57908%5D%2C%20%5B37.605305%2C%20-120.993531%5D%2C%20%5B33.875471000000005%2C%20-98.530888%5D%2C%20%5B40.742332%2C%20-73.781235%5D%2C%20%5B37.63225300000001%2C%20-77.50876600000002%5D%2C%20%5B39.59876%2C%20-84.16148000000003%5D%2C%20%5B45.16678%2C%20-121.6647%5D%2C%20%5B36.326759%2C%20-119.20488%5D%2C%20%5B42.988361%2C%20-83.69869200000002%5D%2C%20%5B45.83161%2C%20-95.20728%5D%2C%20%5B33.497074%2C%20-117.14847%5D%2C%20%5B41.859352%2C%20-87.641006%5D%2C%20%5B41.259491%2C%20-88.245811%5D%2C%20%5B34.57143%2C%20-82.492798%5D%2C%20%5B35.287777%2C%20-80.814735%5D%2C%20%5B45.25792%2C%20-93.01932%5D%2C%20%5B42.15375%2C%20-88.01783%5D%2C%20%5B34.082256%2C%20-117.698196%5D%2C%20%5B41.762437%2C%20-87.86349200000002%5D%2C%20%5B30.408735%2C%20-97.629951%5D%2C%20%5B44.462152%2C%20-93.292497%5D%2C%20%5B36.315384%2C%20-119.688258%5D%2C%20%5B28.510147%2C%20-81.397598%5D%2C%20%5B30.242498%2C%20-97.717224%5D%2C%20%5B44.96602%2C%20-93.26767%5D%2C%20%5B28.545797%2C%20-81.413689%5D%2C%20%5B33.83368%2C%20-84.33232%5D%2C%20%5B32.907539%2C%20-96.729608%5D%2C%20%5B29.597824%2C%20-95.38636%5D%2C%20%5B27.789961%2C%20-82.357079%5D%2C%20%5B38.647302%2C%20-121.475458%5D%2C%20%5B38.5545%2C%20-121.37246%5D%2C%20%5B29.81305%2C%20-95.40051%5D%2C%20%5B42.80522%2C%20-117.72844%5D%2C%20%5B33.932819%2C%20-118.291756%5D%2C%20%5B29.709385%2C%20-95.521324%5D%2C%20%5B33.875553000000004%2C%20-118.193213%5D%2C%20%5B41.658989%2C%20-93.775162%5D%2C%20%5B32.062141%2C%20-103.164882%5D%2C%20%5B30.399981%2C%20-97.679322%5D%2C%20%5B34.025906%2C%20-118.149323%5D%2C%20%5B36.902607%2C%20-78.43881999999998%5D%2C%20%5B36.17861%2C%20-86.77368%5D%2C%20%5B47.365016%2C%20-122.294968%5D%2C%20%5B42.3703%2C%20-87.85559%5D%2C%20%5B37.700893%2C%20-121.822662%5D%2C%20%5B32.916237%2C%20-96.861564%5D%2C%20%5B42.376774%2C%20-87.88324%5D%2C%20%5B34.088051%2C%20-84.261772%5D%2C%20%5B33.741446999999994%2C%20-84.41757199999998%5D%2C%20%5B39.109387%2C%20-84.53148%5D%2C%20%5B35.177341%2C%20-80.817497%5D%2C%20%5B40.75236%2C%20-111.91071%5D%2C%20%5B42.38084%2C%20-83.03227%5D%2C%20%5B35.803837%2C%20-78.707024%5D%2C%20%5B34.183611%2C%20-118.891389%5D%2C%20%5B28.003656%2C%20-82.32803299999998%5D%2C%20%5B33.68325%2C%20-117.87605%5D%2C%20%5B39.006689%2C%20-77.153109%5D%2C%20%5B31.366668%2C%20-85.56405%5D%2C%20%5B37.842906%2C%20-81.19373900000002%5D%2C%20%5B39.09882%2C%20-94.608513%5D%2C%20%5B44.03933%2C%20-89.93781%5D%2C%20%5B39.787383%2C%20-104.97829%5D%2C%20%5B34.223025%2C%20-118.248799%5D%2C%20%5B34.177051%2C%20-119.122722%5D%2C%20%5B33.83368%2C%20-84.33232%5D%2C%20%5B34.145575%2C%20-117.314581%5D%2C%20%5B26.274054%2C%20-80.16877%5D%2C%20%5B33.92938%2C%20-117.41643%5D%2C%20%5B39.02185%2C%20-94.20215%5D%2C%20%5B32.84209%2C%20-117.12421%5D%2C%20%5B38.550606%2C%20-121.42272%5D%2C%20%5B38.443069%2C%20-121.862086%5D%2C%20%5B38.706757%2C%20-77.223022%5D%2C%20%5B40.682126%2C%20-73.896564%5D%2C%20%5B39.958042%2C%20-75.163872%5D%2C%20%5B37.31572%2C%20-121.91473%5D%2C%20%5B39.811755%2C%20-86.178072%5D%2C%20%5B40.415478%2C%20-120.648919%5D%2C%20%5B43.112991%2C%20-75.208184%5D%2C%20%5B38.685071%2C%20-94.423625%5D%2C%20%5B32.468971%2C%20-86.189972%5D%2C%20%5B29.422371%2C%20-98.372437%5D%2C%20%5B39.972961%2C%20-76.694016%5D%2C%20%5B30.423792%2C%20-90.995224%5D%2C%20%5B32.844387%2C%20-96.662407%5D%2C%20%5B38.586861%2C%20-121.009209%5D%2C%20%5B37.54861%2C%20-122.29183%5D%2C%20%5B30.169989%2C%20-90.878341%5D%2C%20%5B37.707146%2C%20-122.470619%5D%2C%20%5B38.560707%2C%20-121.463318%5D%2C%20%5B34.736677%2C%20-82.43043%5D%2C%20%5B25.926882%2C%20-80.207441%5D%2C%20%5B43.028558%2C%20-71.35839200000002%5D%2C%20%5B45.52734%2C%20-122.60629%5D%2C%20%5B30.206381%2C%20-92.014168%5D%2C%20%5B36.06682%2C%20-86.68665%5D%2C%20%5B40.66647%2C%20-73.78764%5D%2C%20%5B35.092804%2C%20-106.55061%5D%2C%20%5B37.701019%2C%20-122.393478%5D%2C%20%5B33.800521999999994%2C%20-117.232224%5D%2C%20%5B40.25358%2C%20-76.81799000000002%5D%2C%20%5B37.74067%2C%20-121.5042%5D%2C%20%5B37.793398%2C%20-81.172795%5D%2C%20%5B44.95253%2C%20-93.082779%5D%2C%20%5B38.141891%2C%20-85.583199%5D%2C%20%5B35.870113%2C%20-83.702965%5D%2C%20%5B35.47876%2C%20-97.601067%5D%2C%20%5B34.135225%2C%20-117.977525%5D%2C%20%5B35.74771099999999%2C%20-78.835388%5D%2C%20%5B39.721775%2C%20-86.082497%5D%2C%20%5B41.81461%2C%20-71.370094%5D%2C%20%5B38.511089%2C%20-122.77553600000002%5D%2C%20%5B38.257491%2C%20-122.302578%5D%2C%20%5B32.862320000000004%2C%20-96.893806%5D%2C%20%5B38.71839600000001%2C%20-77.19244499999998%5D%2C%20%5B25.670941%2C%20-80.414505%5D%2C%20%5B39.166684%2C%20-77.270792%5D%2C%20%5B34.85611%2C%20-82.45796%5D%2C%20%5B38.958694%2C%20-92.546532%5D%2C%20%5B34.170535%2C%20-118.50109%5D%2C%20%5B33.911621000000004%2C%20-118.173988%5D%2C%20%5B35.764937%2C%20-94.190988%5D%2C%20%5B32.903332%2C%20-96.556152%5D%2C%20%5B29.986385%2C%20-81.462334%5D%2C%20%5B37.824413%2C%20-122.268509%5D%2C%20%5B48.611634%2C%20-109.33051100000002%5D%2C%20%5B30.438156%2C%20-81.72493%5D%2C%20%5B39.9329%2C%20-76.80794%5D%2C%20%5B34.018459%2C%20-118.27935%5D%2C%20%5B35.21102%2C%20-80.87476%5D%2C%20%5B30.272667%2C%20-92.001793%5D%2C%20%5B44.398354%2C%20-123.06114%5D%2C%20%5B43.38229000000001%2C%20-123.33834%5D%2C%20%5B33.912704%2C%20-118.180194%5D%2C%20%5B44.479722%2C%20-69.706897%5D%2C%20%5B31.746059%2C%20-106.270866%5D%2C%20%5B28.1021%2C%20-80.624184%5D%2C%20%5B35.52207199999999%2C%20-97.565697%5D%2C%20%5B34.08328%2C%20-118.221652%5D%2C%20%5B35.046745%2C%20-81.982986%5D%2C%20%5B35.154453000000004%2C%20-80.79496800000003%5D%2C%20%5B33.99601%2C%20-118.14553%5D%2C%20%5B32.87369%2C%20-96.77034%5D%2C%20%5B38.964079%2C%20-94.358737%5D%2C%20%5B37.88436%2C%20-122.179679%5D%2C%20%5B33.99557%2C%20-118.17683%5D%2C%20%5B25.964170000000006%2C%20-80.16585500000002%5D%2C%20%5B41.610771%2C%20-72.900284%5D%2C%20%5B39.100945%2C%20-77.742508%5D%2C%20%5B29.706314000000006%2C%20-95.404922%5D%2C%20%5B45.500701%2C%20-122.671663%5D%2C%20%5B47.78001%2C%20-122.31744%5D%2C%20%5B34.920525%2C%20-81.993492%5D%2C%20%5B35.249516%2C%20-80.781029%5D%2C%20%5B40.25606%2C%20-77.766479%5D%2C%20%5B37.932125%2C%20-122.399841%5D%2C%20%5B38.25819%2C%20-104.66147%5D%2C%20%5B42.33921%2C%20-83.21598%5D%2C%20%5B47.150391%2C%20-122.434372%5D%2C%20%5B37.718864%2C%20-121.656799%5D%2C%20%5B44.471779%2C%20-93.295433%5D%2C%20%5B39.39482%2C%20-120.02523%5D%2C%20%5B39.55894%2C%20-105.00025%5D%2C%20%5B38.460369%2C%20-78.825905%5D%2C%20%5B32.883392%2C%20-80.019562%5D%2C%20%5B42.642841%2C%20-82.93160999999998%5D%2C%20%5B38.530339%2C%20-121.750879%5D%2C%20%5B41.420975%2C%20-81.689758%5D%2C%20%5B34.76648%2C%20-118.79951%5D%2C%20%5B37.914585%2C%20-122.317551%5D%2C%20%5B33.466732%2C%20-82.083473%5D%2C%20%5B37.34301%2C%20-77.221298%5D%2C%20%5B27.547808000000003%2C%20-82.42326800000002%5D%2C%20%5B41.757127%2C%20-72.44031899999997%5D%2C%20%5B29.93421%2C%20-95.51247%5D%2C%20%5B40.81656%2C%20-81.39679%5D%2C%20%5B36.736829%2C%20-119.682182%5D%2C%20%5B42.87548%2C%20-78.86303000000002%5D%2C%20%5B38.941257%2C%20-94.761276%5D%2C%20%5B33.916387%2C%20-118.367076%5D%2C%20%5B45.537302%2C%20-122.563399%5D%2C%20%5B28.000732%2C%20-82.729424%5D%2C%20%5B38.57368%2C%20-121.5818%5D%2C%20%5B35.784925%2C%20-78.647356%5D%2C%20%5B35.34666400000001%2C%20-80.841476%5D%2C%20%5B32.941399%2C%20-87.627502%5D%2C%20%5B40.62085%2C%20-111.91025%5D%2C%20%5B33.67986%2C%20-117.17101%5D%2C%20%5B33.856483000000004%2C%20-117.785571%5D%2C%20%5B35.306492%2C%20-80.853607%5D%2C%20%5B32.839955%2C%20-117.120709%5D%2C%20%5B33.796211%2C%20-84.393692%5D%2C%20%5B43.044347%2C%20-122.353614%5D%2C%20%5B37.639106%2C%20-76.407476%5D%2C%20%5B37.921791%2C%20-122.343178%5D%2C%20%5B35.460281%2C%20-97.583199%5D%2C%20%5B36.646483%2C%20-120.297549%5D%2C%20%5B39.76351500000001%2C%20-84.203506%5D%2C%20%5B40.726641%2C%20-111.967115%5D%2C%20%5B34.15664%2C%20-118.41042%5D%2C%20%5B36.328257%2C%20-119.511111%5D%2C%20%5B32.74598%2C%20-117.19024%5D%2C%20%5B38.933029%2C%20-94.529175%5D%2C%20%5B37.674591%2C%20-77.560333%5D%2C%20%5B37.158133%2C%20-120.297351%5D%2C%20%5B44.75786%2C%20-123.0498%5D%2C%20%5B34.073025%2C%20-118.325981%5D%2C%20%5B34.371025%2C%20-82.22281600000002%5D%2C%20%5B25.92614%2C%20-80.24933%5D%2C%20%5B34.221567%2C%20-118.359705%5D%2C%20%5B36.152905%2C%20-86.683289%5D%2C%20%5B32.742649%2C%20-97.340561%5D%2C%20%5B28.457212%2C%20-81.474506%5D%2C%20%5B38.550671%2C%20-106.286232%5D%2C%20%5B33.46153%2C%20-112.40187%5D%2C%20%5B39.35609%2C%20-76.66825%5D%2C%20%5B33.87263%2C%20-118.28971%5D%2C%20%5B33.81525%2C%20-118.185096%5D%2C%20%5B37.544529%2C%20-122.288124%5D%2C%20%5B33.588757%2C%20-83.15071800000003%5D%2C%20%5B32.736301%2C%20-96.919342%5D%2C%20%5B39.323949%2C%20-123.301291%5D%2C%20%5B33.500275%2C%20-84.63887%5D%2C%20%5B38.806774%2C%20-121.200775%5D%2C%20%5B38.61838%2C%20-121.51398%5D%2C%20%5B25.947322%2C%20-80.352861%5D%2C%20%5B28.175205%2C%20-82.532188%5D%2C%20%5B37.796608%2C%20-122.270355%5D%2C%20%5B39.65926%2C%20-79.505063%5D%2C%20%5B47.67425%2C%20-117.2336%5D%2C%20%5B39.083931%2C%20-77.078468%5D%2C%20%5B40.713078%2C%20-74.219933%5D%2C%20%5B38.273872%2C%20-122.927142%5D%2C%20%5B40.075115%2C%20-75.28971899999998%5D%2C%20%5B39.47592%2C%20-104.87241000000002%5D%2C%20%5B34.03553400000001%2C%20-118.169891%5D%2C%20%5B33.908588%2C%20-81.21714%5D%2C%20%5B27.900398%2C%20-82.638931%5D%2C%20%5B45.26292%2C%20-123.02481%5D%2C%20%5B38.12012%2C%20-79.04388900000002%5D%2C%20%5B26.510925%2C%20-81.79476899999997%5D%2C%20%5B35.522331%2C%20-97.52977%5D%2C%20%5B42.16529600000001%2C%20-88.155061%5D%2C%20%5B43.060074%2C%20-83.822342%5D%2C%20%5B29.655994%2C%20-95.51091%5D%2C%20%5B38.659996%2C%20-120.936356%5D%2C%20%5B35.052909%2C%20-118.361439%5D%2C%20%5B38.839657%2C%20-104.757332%5D%2C%20%5B32.453785%2C%20-93.743881%5D%2C%20%5B40.825207%2C%20-73.235008%5D%2C%20%5B42.398159%2C%20-83.109512%5D%2C%20%5B34.221603%2C%20-117.400757%5D%2C%20%5B34.063707%2C%20-117.39643999999998%5D%2C%20%5B33.53693%2C%20-112.041183%5D%2C%20%5B40.064674%2C%20-75.322563%5D%2C%20%5B42.548264%2C%20-83.790199%5D%2C%20%5B42.30862%2C%20-87.862572%5D%2C%20%5B34.241615%2C%20-117.283559%5D%2C%20%5B39.782856%2C%20-86.153374%5D%2C%20%5B30.408916%2C%20-91.051529%5D%2C%20%5B34.426468%2C%20-117.380394%5D%2C%20%5B47.11855300000001%2C%20-122.557037%5D%2C%20%5B33.876495%2C%20-118.095695%5D%2C%20%5B45.01005%2C%20-93.16993%5D%2C%20%5B29.876329%2C%20-82.541489%5D%2C%20%5B42.488567%2C%20-71.191498%5D%2C%20%5B34.043859000000005%2C%20-84.175987%5D%2C%20%5B33.98988%2C%20-87.35726899999997%5D%2C%20%5B32.75894%2C%20-97.00126%5D%2C%20%5B40.291451%2C%20-75.340866%5D%2C%20%5B44.173115%2C%20-93.258904%5D%2C%20%5B32.845936%2C%20-96.912186%5D%2C%20%5B32.748829%2C%20-96.682877%5D%2C%20%5B39.665774%2C%20-121.743695%5D%2C%20%5B25.924670000000006%2C%20-80.2946%5D%2C%20%5B26.547377%2C%20-81.786346%5D%2C%20%5B33.64662%2C%20-85.506389%5D%2C%20%5B28.149325%2C%20-82.69582%5D%2C%20%5B44.951833%2C%20-93.159223%5D%2C%20%5B34.837709999999994%2C%20-82.28967%5D%2C%20%5B25.780764%2C%20-80.368935%5D%2C%20%5B28.419288%2C%20-81.42293000000002%5D%2C%20%5B32.903412%2C%20-96.897263%5D%2C%20%5B32.366467%2C%20-86.27127800000002%5D%2C%20%5B36.74504%2C%20-119.820779%5D%2C%20%5B34.392368%2C%20-118.472931%5D%2C%20%5B39.5114%2C%20-106.14452%5D%2C%20%5B34.181778%2C%20-80.135689%5D%2C%20%5B44.94715%2C%20-93.0406%5D%2C%20%5B41.146999%2C%20-92.908569%5D%2C%20%5B41.673507%2C%20-72.847578%5D%2C%20%5B43.17601%2C%20-77.6832%5D%2C%20%5B35.776314%2C%20-78.70809200000002%5D%2C%20%5B30.372683%2C%20-97.691605%5D%2C%20%5B25.778906%2C%20-80.37870799999997%5D%2C%20%5B25.770822%2C%20-80.33653100000002%5D%2C%20%5B37.311171%2C%20-121.850206%5D%2C%20%5B35.18727%2C%20-111.7158%5D%2C%20%5B38.70956%2C%20-76.85275%5D%2C%20%5B40.413788%2C%20-111.868828%5D%2C%20%5B41.46207%2C%20-88.27722%5D%2C%20%5B33.560625%2C%20-112.257517%5D%2C%20%5B38.558956%2C%20-122.820183%5D%2C%20%5B33.112331%2C%20-117.09708%5D%2C%20%5B42.560261%2C%20-71.229134%5D%2C%20%5B38.012718%2C%20-121.871918%5D%2C%20%5B45.19376%2C%20-93.550911%5D%2C%20%5B32.667390000000005%2C%20-96.73197%5D%2C%20%5B35.305248%2C%20-97.512093%5D%2C%20%5B29.6963%2C%20-95.29152%5D%2C%20%5B40.480801%2C%20-86.10764300000002%5D%2C%20%5B35.31892%2C%20-80.902443%5D%2C%20%5B41.812977%2C%20-87.630196%5D%2C%20%5B34.613232%2C%20-86.567123%5D%2C%20%5B33.38739%2C%20-111.97898899999998%5D%2C%20%5B35.817338%2C%20-78.599541%5D%2C%20%5B38.744003%2C%20-90.412628%5D%2C%20%5B30.448498%2C%20-91.058113%5D%2C%20%5B35.50170100000001%2C%20-97.538742%5D%2C%20%5B34.69057100000001%2C%20-82.222755%5D%2C%20%5B41.96767%2C%20-91.6711%5D%2C%20%5B34.15468%2C%20-118.64935%5D%2C%20%5B41.614941%2C%20-93.776962%5D%2C%20%5B33.523819%2C%20-112.07373%5D%2C%20%5B26.18734%2C%20-80.297516%5D%2C%20%5B37.646002%2C%20-121.414276%5D%2C%20%5B42.367294%2C%20-74.083425%5D%2C%20%5B35.22781%2C%20-80.86148%5D%2C%20%5B35.639221%2C%20-78.630173%5D%2C%20%5B35.102329%2C%20-81.635933%5D%2C%20%5B30.30366%2C%20-89.73159%5D%2C%20%5B26.390715000000004%2C%20-81.77286%5D%2C%20%5B34.700122%2C%20-82.918624%5D%2C%20%5B34.806561%2C%20-82.232483%5D%2C%20%5B33.940672%2C%20-117.26764%5D%2C%20%5B28.440935%2C%20-81.559044%5D%2C%20%5B27.441302%2C%20-82.45933000000002%5D%2C%20%5B35.33506%2C%20-80.71839%5D%2C%20%5B38.630665%2C%20-121.217576%5D%2C%20%5B40.8054%2C%20-76.901496%5D%2C%20%5B41.66004%2C%20-93.52236%5D%2C%20%5B37.792623%2C%20-121.189947%5D%2C%20%5B47.21279000000001%2C%20-123.10012%5D%2C%20%5B36.192402%2C%20-86.742653%5D%2C%20%5B48.26775%2C%20-122.268654%5D%2C%20%5B35.814922%2C%20-78.605362%5D%2C%20%5B34.15967%2C%20-118.46619%5D%2C%20%5B43.02886%2C%20-77.96961999999998%5D%2C%20%5B36.735481%2C%20-119.86603999999998%5D%2C%20%5B28.402061%2C%20-80.81869300000002%5D%2C%20%5B29.723055%2C%20-95.501068%5D%2C%20%5B28.29537%2C%20-80.742783%5D%2C%20%5B39.08246%2C%20-77.17223%5D%2C%20%5B38.52227%2C%20-121.76738%5D%2C%20%5B33.87625%2C%20-117.66029%5D%2C%20%5B32.419048%2C%20-80.645981%5D%2C%20%5B36.23854%2C%20-119.34427%5D%2C%20%5B40.598097%2C%20-79.60735%5D%2C%20%5B29.117035%2C%20-82.218681%5D%2C%20%5B39.148968%2C%20-76.68804899999998%5D%2C%20%5B29.745766%2C%20-95.461128%5D%2C%20%5B43.30941%2C%20-73.64386999999998%5D%2C%20%5B41.157521%2C%20-85.055712%5D%2C%20%5B34.07221%2C%20-117.90351%5D%2C%20%5B37.391582%2C%20-121.870387%5D%2C%20%5B41.10637%2C%20-112.00682%5D%2C%20%5B40.37311500000001%2C%20-76.679597%5D%2C%20%5B36.269379%2C%20-86.68988%5D%2C%20%5B34.03025%2C%20-117.67227%5D%2C%20%5B33.931362%2C%20-117.288803%5D%2C%20%5B38.75411%2C%20-90.45436%5D%2C%20%5B33.85115%2C%20-84.24648%5D%2C%20%5B37.158398%2C%20-121.9823%5D%2C%20%5B26.546208%2C%20-81.871431%5D%2C%20%5B35.511387%2C%20-97.583397%5D%2C%20%5B37.735237%2C%20-122.406586%5D%2C%20%5B33.781618%2C%20-117.212541%5D%2C%20%5B39.60516%2C%20-75.74053%5D%2C%20%5B29.841024%2C%20-95.457695%5D%2C%20%5B38.559208%2C%20-121.373861%5D%2C%20%5B45.515251%2C%20-122.688873%5D%2C%20%5B27.937595%2C%20-82.170433%5D%2C%20%5B32.89218%2C%20-96.76912%5D%2C%20%5B33.53524%2C%20-86.795895%5D%2C%20%5B30.034992%2C%20-95.259018%5D%2C%20%5B38.540527%2C%20-121.37723%5D%2C%20%5B37.8111%2C%20-122.249481%5D%2C%20%5B41.23901400000001%2C%20-95.953903%5D%2C%20%5B34.142757%2C%20-118.185654%5D%2C%20%5B32.647575%2C%20-96.876701%5D%2C%20%5B28.19976%2C%20-80.70978000000002%5D%2C%20%5B25.528131%2C%20-80.46157099999998%5D%2C%20%5B39.77142%2C%20-86.163368%5D%2C%20%5B37.866131%2C%20-122.206955%5D%2C%20%5B33.441685%2C%20-86.73050699999997%5D%2C%20%5B33.504391%2C%20-80.847061%5D%2C%20%5B33.180547999999995%2C%20-87.525627%5D%2C%20%5B34.03185%2C%20-117.55047%5D%2C%20%5B33.8372%2C%20-78.85063199999998%5D%2C%20%5B41.58489%2C%20-71.50452%5D%2C%20%5B34.1397%2C%20-80.917187%5D%2C%20%5B38.464329%2C%20-121.49614%5D%2C%20%5B35.205993%2C%20-80.75865%5D%2C%20%5B33.634464%2C%20-111.907768%5D%2C%20%5B26.56245%2C%20-81.93261%5D%2C%20%5B34.108909999999995%2C%20-118.26045%5D%2C%20%5B25.986624%2C%20-80.346096%5D%2C%20%5B30.144182%2C%20-97.696739%5D%2C%20%5B42.017841%2C%20-87.806572%5D%2C%20%5B39.940098%2C%20-75.01120300000002%5D%2C%20%5B41.27763%2C%20-96.10048%5D%2C%20%5B41.872967%2C%20-87.921104%5D%2C%20%5B37.775288%2C%20-79.9701%5D%2C%20%5B41.95858%2C%20-87.688591%5D%2C%20%5B36.307198%2C%20-82.34159100000002%5D%2C%20%5B33.987742%2C%20-117.714053%5D%2C%20%5B30.540575%2C%20-91.19091%5D%2C%20%5B37.785542%2C%20-122.39138%5D%2C%20%5B42.04092%2C%20-87.77877%5D%2C%20%5B45.572632%2C%20-93.203758%5D%2C%20%5B37.34738%2C%20-121.90484%5D%2C%20%5B33.854690999999995%2C%20-117.790428%5D%2C%20%5B32.749687%2C%20-117.110025%5D%2C%20%5B34.234272%2C%20-119.054699%5D%2C%20%5B30.139681%2C%20-81.537231%5D%2C%20%5B33.281739%2C%20-117.151175%5D%2C%20%5B34.860489%2C%20-82.46219599999998%5D%2C%20%5B34.168558000000004%2C%20-118.501084%5D%2C%20%5B41.88518%2C%20-71.37873%5D%2C%20%5B42.394852%2C%20-71.049637%5D%2C%20%5B37.851669%2C%20-121.282931%5D%2C%20%5B44.94369%2C%20-93.3479%5D%2C%20%5B34.154720000000005%2C%20-118.64925%5D%2C%20%5B34.068283%2C%20-118.150994%5D%2C%20%5B37.503515%2C%20-77.078994%5D%2C%20%5B39.763573%2C%20-84.154045%5D%2C%20%5B36.97444%2C%20-121.719645%5D%2C%20%5B29.372166%2C%20-98.516033%5D%2C%20%5B26.456075%2C%20-80.17469200000002%5D%2C%20%5B33.658665%2C%20-117.74596%5D%2C%20%5B35.206604%2C%20-80.796654%5D%2C%20%5B40.83585%2C%20-73.869598%5D%2C%20%5B27.447554%2C%20-82.575405%5D%2C%20%5B38.98305%2C%20-76.56054%5D%2C%20%5B35.947491%2C%20-78.545052%5D%2C%20%5B35.326302%2C%20-97.265038%5D%2C%20%5B38.91834%2C%20-75.91445%5D%2C%20%5B35.83540700000001%2C%20-78.669601%5D%2C%20%5B35.309948%2C%20-80.83890500000003%5D%2C%20%5B41.88812%2C%20-88.10592700000002%5D%2C%20%5B33.913986%2C%20-117.28566%5D%2C%20%5B36.61295%2C%20-121.85407%5D%2C%20%5B37.72198%2C%20-121.93918%5D%2C%20%5B35.793594%2C%20-78.68454%5D%2C%20%5B30.196349%2C%20-97.731144%5D%2C%20%5B39.565842%2C%20-76.078537%5D%2C%20%5B34.196609%2C%20-118.858884%5D%2C%20%5B34.293510999999995%2C%20-118.413443%5D%2C%20%5B37.435357%2C%20-122.320566%5D%2C%20%5B42.101402%2C%20-87.76753199999997%5D%2C%20%5B42.53723%2C%20-83.06865%5D%2C%20%5B34.018458%2C%20-117.537359%5D%2C%20%5B33.788544%2C%20-117.830826%5D%2C%20%5B47.65192%2C%20-117.43375%5D%2C%20%5B31.76179%2C%20-106.35998%5D%2C%20%5B41.24876%2C%20-96.004967%5D%2C%20%5B41.257713%2C%20-95.961525%5D%2C%20%5B39.044075%2C%20-77.507568%5D%2C%20%5B42.27234%2C%20-85.43435%5D%2C%20%5B28.55311%2C%20-81.310806%5D%2C%20%5B33.168753%2C%20-87.545798%5D%2C%20%5B29.421669%2C%20-98.502083%5D%2C%20%5B25.9406%2C%20-80.19075%5D%2C%20%5B42.914352%2C%20-83.750381%5D%2C%20%5B35.64132%2C%20-78.565426%5D%2C%20%5B38.802898%2C%20-90.733154%5D%2C%20%5B30.463520000000006%2C%20-84.30806%5D%2C%20%5B37.88427%2C%20-122.05352%5D%2C%20%5B35.5579%2C%20-97.6384%5D%2C%20%5B32.720284%2C%20-96.862442%5D%2C%20%5B29.186285%2C%20-82.184608%5D%2C%20%5B42.759224%2C%20-73.933258%5D%2C%20%5B35.11521%2C%20-80.96233000000002%5D%2C%20%5B39.75135%2C%20-84.169083%5D%2C%20%5B39.30361%2C%20-76.61194%5D%2C%20%5B34.077020000000005%2C%20-117.81293%5D%2C%20%5B48.96475%2C%20-122.451919%5D%2C%20%5B33.93322%2C%20-81.143463%5D%2C%20%5B37.75396%2C%20-121.484863%5D%2C%20%5B47.30161%2C%20-122.2253%5D%2C%20%5B40.404772%2C%20-111.854732%5D%2C%20%5B32.870019%2C%20-117.229514%5D%2C%20%5B41.817398%2C%20-72.655571%5D%2C%20%5B33.93578%2C%20-117.404861%5D%2C%20%5B36.312392%2C%20-86.670017%5D%2C%20%5B37.595894%2C%20-77.46642299999998%5D%2C%20%5B29.43103%2C%20-98.500298%5D%2C%20%5B43.130768%2C%20-77.667633%5D%2C%20%5B40.843826%2C%20-72.89057199999998%5D%2C%20%5B32.675133%2C%20-97.00679%5D%2C%20%5B39.74683%2C%20-84.158974%5D%2C%20%5B42.182911%2C%20-71.44479399999999%5D%2C%20%5B33.38257%2C%20-111.89119%5D%2C%20%5B42.957801%2C%20-85.571881%5D%2C%20%5B33.910855%2C%20-117.883466%5D%2C%20%5B36.179001%2C%20-86.8008%5D%2C%20%5B33.821556%2C%20-84.2519%5D%2C%20%5B29.622505%2C%20-95.197563%5D%2C%20%5B28.551923%2C%20-81.490237%5D%2C%20%5B39.449818%2C%20-119.776054%5D%2C%20%5B32.746714000000004%2C%20-117.10868899999998%5D%2C%20%5B40.191536%2C%20-74.749184%5D%2C%20%5B43.325512%2C%20-122.999081%5D%2C%20%5B25.92934%2C%20-80.20559%5D%2C%20%5B40.256408%2C%20-123.824707%5D%2C%20%5B40.20668%2C%20-75.22573100000002%5D%2C%20%5B39.5784%2C%20-119.78035%5D%2C%20%5B34.146440000000005%2C%20-118.16187%5D%2C%20%5B45.60303%2C%20-122.55152%5D%2C%20%5B35.11681%2C%20-80.928558%5D%2C%20%5B35.185097%2C%20-89.81472%5D%2C%20%5B29.43706%2C%20-98.50403%5D%2C%20%5B33.172947%2C%20-87.454139%5D%2C%20%5B26.12188%2C%20-80.15942%5D%2C%20%5B37.31227%2C%20-85.90411%5D%2C%20%5B29.707203000000003%2C%20-95.253197%5D%2C%20%5B39.496525%2C%20-119.78416%5D%2C%20%5B33.462875%2C%20-84.21055600000003%5D%2C%20%5B33.62614%2C%20-84.42044%5D%2C%20%5B42.299539%2C%20-123.249499%5D%2C%20%5B33.759968%2C%20-118.238602%5D%2C%20%5B41.022136%2C%20-111.943773%5D%2C%20%5B34.05648%2C%20-81.13108100000002%5D%2C%20%5B38.609443%2C%20-121.355241%5D%2C%20%5B43.35913%2C%20-71.92692%5D%2C%20%5B37.25015%2C%20-93.22909%5D%2C%20%5B37.689083%2C%20-122.470734%5D%2C%20%5B33.657619%2C%20-81.342309%5D%2C%20%5B30.432039000000003%2C%20-91.080879%5D%2C%20%5B38.123062%2C%20-122.229836%5D%2C%20%5B37.577038%2C%20-122.320572%5D%2C%20%5B45.397295%2C%20-122.26098799999998%5D%2C%20%5B34.8854%2C%20-81.048433%5D%2C%20%5B35.83509799999999%2C%20-78.599136%5D%2C%20%5B39.843269%2C%20-75.39703%5D%2C%20%5B34.06597%2C%20-117.2549%5D%2C%20%5B44.86191%2C%20-93.30487%5D%2C%20%5B40.38887%2C%20-111.82694%5D%2C%20%5B40.48973%2C%20-78.724884%5D%2C%20%5B41.46737%2C%20-81.75973%5D%2C%20%5B38.6041%2C%20-77.72015%5D%2C%20%5B36.090092%2C%20-95.975739%5D%2C%20%5B33.790413%2C%20-118.099365%5D%2C%20%5B37.678245%2C%20-122.388263%5D%2C%20%5B38.798714%2C%20-77.60237099999998%5D%2C%20%5B32.791396%2C%20-81.591415%5D%2C%20%5B33.385551%2C%20-117.252426%5D%2C%20%5B29.977451%2C%20-81.630617%5D%2C%20%5B28.494255%2C%20-81.417412%5D%2C%20%5B28.969788%2C%20-81.294731%5D%2C%20%5B42.442513%2C%20-88.991798%5D%2C%20%5B39.42491%2C%20-77.42605%5D%2C%20%5B36.986276%2C%20-121.850686%5D%2C%20%5B34.914188%2C%20-82.10717%5D%2C%20%5B28.487883%2C%20-81.322159%5D%2C%20%5B25.985066%2C%20-80.165529%5D%2C%20%5B30.305303%2C%20-81.888238%5D%2C%20%5B33.996403%2C%20-117.870178%5D%2C%20%5B37.304501%2C%20-121.878754%5D%2C%20%5B35.464138%2C%20-97.460213%5D%2C%20%5B41.64957%2C%20-93.6269%5D%2C%20%5B38.843483%2C%20-94.528976%5D%2C%20%5B33.862988%2C%20-118.199341%5D%2C%20%5B40.894001%2C%20-74.273315%5D%2C%20%5B35.75696%2C%20-78.66101%5D%2C%20%5B32.814640000000004%2C%20-96.802399%5D%2C%20%5B33.856838%2C%20-118.284813%5D%2C%20%5B35.217762%2C%20-80.87183399999998%5D%2C%20%5B39.118204%2C%20-121.634623%5D%2C%20%5B34.466699%2C%20-118.32981399999998%5D%2C%20%5B34.067440000000005%2C%20-117.56364%5D%2C%20%5B39.10047700000001%2C%20-121.085025%5D%2C%20%5B34.030269%2C%20-117.662705%5D%2C%20%5B41.383224%2C%20-73.582382%5D%2C%20%5B29.705889000000006%2C%20-95.245163%5D%2C%20%5B39.267379%2C%20-76.62205300000002%5D%2C%20%5B27.52986%2C%20-82.50834300000002%5D%2C%20%5B41.246502%2C%20-73.087598%5D%2C%20%5B40.082485%2C%20-75.380424%5D%2C%20%5B34.06768%2C%20-117.58435%5D%2C%20%5B37.586914%2C%20-77.470863%5D%2C%20%5B35.263458%2C%20-80.77121700000002%5D%2C%20%5B40.748645%2C%20-111.704961%5D%2C%20%5B30.392052000000003%2C%20-97.834579%5D%2C%20%5B33.47322800000001%2C%20-81.977982%5D%2C%20%5B43.81669%2C%20-95.25313%5D%2C%20%5B37.35405%2C%20-77.49429%5D%2C%20%5B39.121847%2C%20-120.940988%5D%2C%20%5B40.462532%2C%20-79.8573%5D%2C%20%5B29.802971000000007%2C%20-95.448959%5D%2C%20%5B39.647511%2C%20-75.669487%5D%2C%20%5B40.085705%2C%20-75.09850300000002%5D%2C%20%5B32.379714%2C%20-95.335492%5D%2C%20%5B33.634254%2C%20-80.875694%5D%2C%20%5B37.698505%2C%20-121.979507%5D%2C%20%5B37.340457%2C%20-120.591468%5D%2C%20%5B40.77676%2C%20-74.04337%5D%2C%20%5B32.765957%2C%20-117.128319%5D%2C%20%5B38.78188400000001%2C%20-76.893065%5D%2C%20%5B34.018902000000004%2C%20-118.173264%5D%2C%20%5B37.613509%2C%20-77.52046%5D%2C%20%5B33.89886%2C%20-118.37022%5D%2C%20%5B28.002211%2C%20-82.327271%5D%2C%20%5B38.75194000000001%2C%20-76.92714000000002%5D%2C%20%5B38.55385%2C%20-121.40927%5D%2C%20%5B32.863411%2C%20-96.894302%5D%2C%20%5B38.542869%2C%20-121.732009%5D%2C%20%5B47.61859000000001%2C%20-122.35345%5D%2C%20%5B34.10808%2C%20-118.18562%5D%2C%20%5B34.028313%2C%20-118.449325%5D%2C%20%5B34.119827%2C%20-117.838631%5D%2C%20%5B34.872032%2C%20-82.224571%5D%2C%20%5B47.519199%2C%20-122.355133%5D%2C%20%5B37.9984%2C%20-121.80057%5D%2C%20%5B27.549071%2C%20-82.562919%5D%2C%20%5B42.950502%2C%20-78.702567%5D%2C%20%5B40.63024%2C%20-111.85653%5D%2C%20%5B34.035053000000005%2C%20-118.368249%5D%2C%20%5B32.62977%2C%20-96.90329%5D%2C%20%5B39.425434%2C%20-77.488457%5D%2C%20%5B29.645149%2C%20-95.368401%5D%2C%20%5B33.098824%2C%20-117.307419%5D%2C%20%5B34.692989000000004%2C%20-80.79445600000003%5D%2C%20%5B37.533878%2C%20-77.507591%5D%2C%20%5B34.256542%2C%20-118.435097%5D%2C%20%5B36.12384%2C%20-86.74825%5D%2C%20%5B28.478434000000004%2C%20-81.247025%5D%2C%20%5B39.058304%2C%20-94.486839%5D%2C%20%5B37.728561%2C%20-121.107857%5D%2C%20%5B34.170799%2C%20-118.605888%5D%2C%20%5B34.04577800000001%2C%20-80.989129%5D%2C%20%5B30.40753%2C%20-97.714142%5D%2C%20%5B41.88874000000001%2C%20-88.06413%5D%2C%20%5B37.81913%2C%20-121.99312%5D%2C%20%5B34.073856%2C%20-80.94749499999998%5D%2C%20%5B25.769715%2C%20-80.33499599999998%5D%2C%20%5B40.82338%2C%20-73.027283%5D%2C%20%5B39.166764%2C%20-121.716751%5D%2C%20%5B41.310368%2C%20-95.975792%5D%2C%20%5B34.122634999999995%2C%20-118.478424%5D%2C%20%5B33.91215%2C%20-84.207782%5D%2C%20%5B36.026443%2C%20-86.588364%5D%2C%20%5B38.110953%2C%20-120.458785%5D%2C%20%5B32.250021999999994%2C%20-110.915144%5D%2C%20%5B40.42874000000001%2C%20-79.92923%5D%2C%20%5B33.882046%2C%20-118.191406%5D%2C%20%5B38.490217%2C%20-90.742906%5D%2C%20%5B35.16404%2C%20-80.873421%5D%2C%20%5B32.900955%2C%20-96.717545%5D%2C%20%5B37.410072%2C%20-121.995163%5D%2C%20%5B37.3098%2C%20-121.998108%5D%2C%20%5B36.038906%2C%20-86.782555%5D%2C%20%5B45.04323%2C%20-123.95258%5D%2C%20%5B33.977344%2C%20-118.388483%5D%2C%20%5B38.596013%2C%20-121.401416%5D%2C%20%5B37.49341%2C%20-121.92028%5D%2C%20%5B37.990383%2C%20-84.456818%5D%2C%20%5B32.770038%2C%20-117.138987%5D%2C%20%5B37.56279%2C%20-77.44811%5D%2C%20%5B27.936290000000003%2C%20-82.56407%5D%2C%20%5B33.868324%2C%20-117.727699%5D%2C%20%5B30.568014%2C%20-97.692796%5D%2C%20%5B38.944318%2C%20-121.097889%5D%2C%20%5B29.463411%2C%20-98.475319%5D%2C%20%5B37.047906%2C%20-120.617463%5D%2C%20%5B40.162483%2C%20-76.552818%5D%2C%20%5B40.703789%2C%20-73.816895%5D%2C%20%5B41.76918%2C%20-87.62561%5D%2C%20%5B28.288869%2C%20-80.737737%5D%2C%20%5B37.90731%2C%20-122.31508%5D%2C%20%5B34.915226000000004%2C%20-81.9506%5D%2C%20%5B45.069878%2C%20-93.296524%5D%2C%20%5B47.463776%2C%20-122.245476%5D%2C%20%5B33.763741%2C%20-117.797768%5D%2C%20%5B34.078388000000004%2C%20-81.15316800000002%5D%2C%20%5B42.382646%2C%20-88.002473%5D%2C%20%5B38.96642%2C%20-104.78694%5D%2C%20%5B28.776808000000006%2C%20-81.96462700000002%5D%2C%20%5B36.050468%2C%20-86.614731%5D%2C%20%5B42.40753%2C%20-83.08206%5D%2C%20%5B40.068554%2C%20-76.307982%5D%2C%20%5B33.486417%2C%20-117.143014%5D%2C%20%5B39.60550300000001%2C%20-77.729912%5D%2C%20%5B33.741467%2C%20-84.418327%5D%2C%20%5B27.116486%2C%20-82.391416%5D%2C%20%5B34.024033%2C%20-117.770927%5D%2C%20%5B40.984372%2C%20-78.30227099999998%5D%2C%20%5B35.33245%2C%20-80.810124%5D%2C%20%5B40.726357%2C%20-73.756973%5D%2C%20%5B32.66988%2C%20-96.93186%5D%2C%20%5B42.81376%2C%20-71.49756%5D%2C%20%5B35.001556%2C%20-80.973722%5D%2C%20%5B39.095432%2C%20-94.648315%5D%2C%20%5B44.936023%2C%20-94.859765%5D%2C%20%5B29.870214%2C%20-95.314857%5D%2C%20%5B34.0767%2C%20-117.54465%5D%2C%20%5B32.76083%2C%20-97.477844%5D%2C%20%5B39.29008%2C%20-104.89513%5D%2C%20%5B42.003659000000006%2C%20-88.13381%5D%2C%20%5B40.06667%2C%20-74.96609000000002%5D%2C%20%5B39.596485%2C%20-84.229279%5D%2C%20%5B34.144527000000004%2C%20-117.319572%5D%2C%20%5B41.038231%2C%20-111.949013%5D%2C%20%5B28.472846%2C%20-81.369249%5D%2C%20%5B34.071682%2C%20-118.106529%5D%2C%20%5B27.949551%2C%20-82.354225%5D%2C%20%5B32.474548%2C%20-110.923126%5D%2C%20%5B29.665714%2C%20-81.293109%5D%2C%20%5B33.941364%2C%20-118.096634%5D%2C%20%5B34.104359%2C%20-117.302299%5D%2C%20%5B39.992838%2C%20-75.200774%5D%2C%20%5B30.191711%2C%20-81.705605%5D%2C%20%5B34.037388%2C%20-118.037575%5D%2C%20%5B29.758271%2C%20-95.351729%5D%2C%20%5B39.10087%2C%20-94.6798%5D%2C%20%5B33.70966%2C%20-84.245902%5D%2C%20%5B42.22052%2C%20-73.83225999999998%5D%2C%20%5B41.74362%2C%20-87.62562%5D%2C%20%5B30.414446%2C%20-91.098907%5D%2C%20%5B38.875869%2C%20-76.970959%5D%2C%20%5B34.85902%2C%20-87.0476%5D%2C%20%5B43.05877%2C%20-71.47100999999998%5D%2C%20%5B41.142582%2C%20-73.425484%5D%2C%20%5B39.94122700000001%2C%20-82.977867%5D%2C%20%5B38.521916%2C%20-78.837299%5D%2C%20%5B46.16023%2C%20-122.90305%5D%2C%20%5B33.856359999999995%2C%20-117.7856%5D%2C%20%5B36.377731%2C%20-82.494789%5D%2C%20%5B33.950759999999995%2C%20-117.38532%5D%2C%20%5B38.563394%2C%20-121.471677%5D%2C%20%5B34.996971%2C%20-81.942787%5D%2C%20%5B40.83652100000001%2C%20-73.15619699999998%5D%2C%20%5B34.20005%2C%20-118.144836%5D%2C%20%5B39.113239%2C%20-104.865383%5D%2C%20%5B40.018669%2C%20-81.565704%5D%2C%20%5B33.712422%2C%20-84.224179%5D%2C%20%5B32.85392%2C%20-96.64543%5D%2C%20%5B29.81163%2C%20-95.37497%5D%2C%20%5B36.171013%2C%20-86.605042%5D%2C%20%5B35.033592%2C%20-80.805527%5D%2C%20%5B37.739849%2C%20-121.590294%5D%2C%20%5B36.76845%2C%20-76.36211%5D%2C%20%5B42.577682%2C%20-73.78780400000002%5D%2C%20%5B27.96475%2C%20-82.452522%5D%2C%20%5B43.020393%2C%20-85.725822%5D%2C%20%5B36.836544%2C%20-121.630538%5D%2C%20%5B29.80177%2C%20-95.33963%5D%2C%20%5B37.377268%2C%20-79.34429899999998%5D%2C%20%5B47.18714%2C%20-122.46315%5D%2C%20%5B32.7438%2C%20-96.72415%5D%2C%20%5B41.13945%2C%20-96.282372%5D%2C%20%5B40.73959%2C%20-74.3694%5D%2C%20%5B33.539202%2C%20-117.144558%5D%2C%20%5B37.28015900000001%2C%20-82.14386%5D%2C%20%5B32.212203%2C%20-110.948342%5D%2C%20%5B46.59439%2C%20-92.57317%5D%2C%20%5B34.913952%2C%20-82.107651%5D%2C%20%5B40.501549%2C%20-122.451889%5D%2C%20%5B34.035076000000004%2C%20-118.36824%5D%2C%20%5B38.575133%2C%20-121.551908%5D%2C%20%5B38.94437%2C%20-91.93713%5D%2C%20%5B33.927292%2C%20-117.41993%5D%2C%20%5B34.155743%2C%20-118.242271%5D%2C%20%5B40.724333%2C%20-73.936089%5D%2C%20%5B27.868927000000006%2C%20-82.326708%5D%2C%20%5B38.258358%2C%20-121.296295%5D%2C%20%5B30.342695000000006%2C%20-83.09213299999998%5D%2C%20%5B29.709858%2C%20-95.493004%5D%2C%20%5B30.138007%2C%20-81.512709%5D%2C%20%5B37.494977%2C%20-122.228052%5D%2C%20%5B40.787022%2C%20-73.220558%5D%2C%20%5B34.153692%2C%20-118.287754%5D%2C%20%5B32.400612%2C%20-98.789627%5D%2C%20%5B30.335192%2C%20-97.806145%5D%2C%20%5B34.004353%2C%20-118.063689%5D%2C%20%5B30.691391%2C%20-88.02249300000003%5D%2C%20%5B26.09334%2C%20-80.16806%5D%2C%20%5B44.87312%2C%20-93.39658%5D%2C%20%5B29.98226%2C%20-81.45935%5D%2C%20%5B37.797228%2C%20-79.393633%5D%2C%20%5B39.943108%2C%20-104.987839%5D%2C%20%5B39.04708%2C%20-94.43899%5D%2C%20%5B32.73222%2C%20-96.822701%5D%2C%20%5B42.487625%2C%20-83.221863%5D%2C%20%5B33.084145%2C%20-117.297981%5D%2C%20%5B32.79136%2C%20-96.74152%5D%2C%20%5B36.66358%2C%20-119.699852%5D%2C%20%5B44.790131%2C%20-93.108932%5D%2C%20%5B33.66939%2C%20-112.09151%5D%2C%20%5B41.624386%2C%20-72.69390899999998%5D%2C%20%5B37.61851%2C%20-77.49954%5D%2C%20%5B25.821349%2C%20-80.240608%5D%2C%20%5B33.710651%2C%20-78.91684000000002%5D%2C%20%5B39.2221%2C%20-84.35663000000002%5D%2C%20%5B33.0304%2C%20-96.99347%5D%2C%20%5B42.356022%2C%20-71.05083499999998%5D%2C%20%5B40.772104%2C%20-74.061654%5D%2C%20%5B34.613232%2C%20-86.567123%5D%2C%20%5B36.191566%2C%20-95.964333%5D%2C%20%5B28.41735%2C%20-82.29320799999998%5D%2C%20%5B44.83367%2C%20-93.19116%5D%2C%20%5B39.693994%2C%20-75.624714%5D%2C%20%5B41.723984%2C%20-73.658203%5D%2C%20%5B33.842372999999995%2C%20-112.144234%5D%2C%20%5B43.55154%2C%20-92.59085%5D%2C%20%5B36.15678%2C%20-86.796631%5D%2C%20%5B25.82457%2C%20-80.377913%5D%2C%20%5B39.4016%2C%20-76.56798%5D%2C%20%5B34.07192%2C%20-117.89442%5D%2C%20%5B36.033591%2C%20-115.17236%5D%5D%2C%0A%20%20%20%20%20%20%20%20%20%20%20%20%20%20%20%20%7B%0A%20%20%20%20%20%20%20%20%20%20%20%20%20%20%20%20%20%20%20%20minOpacity%3A%200.5%2C%0A%20%20%20%20%20%20%20%20%20%20%20%20%20%20%20%20%20%20%20%20maxZoom%3A%2018%2C%0A%20%20%20%20%20%20%20%20%20%20%20%20%20%20%20%20%20%20%20%20max%3A%201.0%2C%0A%20%20%20%20%20%20%20%20%20%20%20%20%20%20%20%20%20%20%20%20radius%3A%2025%2C%0A%20%20%20%20%20%20%20%20%20%20%20%20%20%20%20%20%20%20%20%20blur%3A%2015%2C%0A%20%20%20%20%20%20%20%20%20%20%20%20%20%20%20%20%20%20%20%20gradient%3A%20null%0A%20%20%20%20%20%20%20%20%20%20%20%20%20%20%20%20%20%20%20%20%7D%29%0A%20%20%20%20%20%20%20%20%20%20%20%20%20%20%20%20.addTo%28map_403d8152f9e9433f9183c8935cb67e82%29%3B%0A%20%20%20%20%20%20%20%20%0A%3C/script%3E onload=\"this.contentDocument.open();this.contentDocument.write(    decodeURIComponent(this.getAttribute('data-html')));this.contentDocument.close();\" allowfullscreen webkitallowfullscreen mozallowfullscreen></iframe></div></div>"
            ],
            "text/plain": [
              "<folium.folium.Map at 0x7f7de51bedd0>"
            ]
          },
          "metadata": {
            "tags": []
          },
          "execution_count": 62
        }
      ]
    },
    {
      "cell_type": "code",
      "metadata": {
        "id": "PxI_s1oNbLHN"
      },
      "source": [
        ""
      ],
      "execution_count": null,
      "outputs": []
    },
    {
      "cell_type": "code",
      "metadata": {
        "id": "-WdGf5TlbLFQ"
      },
      "source": [
        ""
      ],
      "execution_count": null,
      "outputs": []
    },
    {
      "cell_type": "code",
      "metadata": {
        "id": "xWAVG-1VbLCj"
      },
      "source": [
        ""
      ],
      "execution_count": null,
      "outputs": []
    },
    {
      "cell_type": "code",
      "metadata": {
        "id": "5zK8j6Z6bLAA"
      },
      "source": [
        ""
      ],
      "execution_count": null,
      "outputs": []
    },
    {
      "cell_type": "code",
      "metadata": {
        "id": "-7aRUViVbK-O"
      },
      "source": [
        ""
      ],
      "execution_count": null,
      "outputs": []
    },
    {
      "cell_type": "code",
      "metadata": {
        "id": "Jy74N3KnbK7K"
      },
      "source": [
        ""
      ],
      "execution_count": null,
      "outputs": []
    },
    {
      "cell_type": "code",
      "metadata": {
        "id": "D_IosOdBbK4d"
      },
      "source": [
        ""
      ],
      "execution_count": null,
      "outputs": []
    },
    {
      "cell_type": "markdown",
      "metadata": {
        "id": "IekWqjDPa71T"
      },
      "source": [
        "## Ask & Answer Questions\n",
        "\n",
        "1. Are there more accidents in warmer or colder areas?\n",
        "2. Which 5 states have the highest number of accidents? How about per capita?\n",
        "3. Among the top 100 cities in number of accidents, which states do they belong to most frequently.\n",
        "4. What time of the day are accidents most frequent in? - ANSWERED\n",
        "5. Which days of the week have the most accidents?\n",
        "6. Which months have the most accidents?\n",
        "7. What is the trend of accidents year over year (decreasing/increasing?)\n",
        "8. When is accidents per unit of traffic the highest."
      ]
    },
    {
      "cell_type": "markdown",
      "metadata": {
        "id": "wvtVbLnOcHjV"
      },
      "source": [
        "# Summary and Conclusion\n",
        "Insights:\n",
        "\n",
        "1. The number of accidents per city decreases exponentially\n",
        "2. Less than 5% of cities have more than 1000 yearly accidents.\n",
        "3. Over 1200 cities have reported just one accident."
      ]
    },
    {
      "cell_type": "code",
      "metadata": {
        "id": "aja1vNe1CiEl"
      },
      "source": [
        "import jovian"
      ],
      "execution_count": 63,
      "outputs": []
    },
    {
      "cell_type": "code",
      "metadata": {
        "colab": {
          "base_uri": "https://localhost:8080/",
          "height": 119
        },
        "id": "EvUTUDH_fF6E",
        "outputId": "fd5f502c-a84a-43d6-c1ec-0b86244ae939"
      },
      "source": [
        "jovian.commit()"
      ],
      "execution_count": 64,
      "outputs": [
        {
          "output_type": "stream",
          "text": [
            "[jovian] Detected Colab notebook...\u001b[0m\n",
            "[jovian] Please enter your API key ( from https://jovian.ai/ ):\u001b[0m\n",
            "API KEY: ··········\n",
            "[jovian] Uploading colab notebook to Jovian...\u001b[0m\n",
            "Committed successfully! https://jovian.ai/only-rohit/us-accidents-41a0c\n"
          ],
          "name": "stdout"
        },
        {
          "output_type": "execute_result",
          "data": {
            "application/vnd.google.colaboratory.intrinsic+json": {
              "type": "string"
            },
            "text/plain": [
              "'https://jovian.ai/only-rohit/us-accidents-41a0c'"
            ]
          },
          "metadata": {
            "tags": []
          },
          "execution_count": 64
        }
      ]
    },
    {
      "cell_type": "code",
      "metadata": {
        "id": "eX50qQcyfIol"
      },
      "source": [
        ""
      ],
      "execution_count": null,
      "outputs": []
    }
  ]
}